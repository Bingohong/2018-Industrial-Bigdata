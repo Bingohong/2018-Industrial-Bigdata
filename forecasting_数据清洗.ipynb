{
 "cells": [
  {
   "cell_type": "code",
   "execution_count": 11,
   "metadata": {
    "ExecuteTime": {
     "end_time": "2018-12-22T02:17:18.328551Z",
     "start_time": "2018-12-22T02:17:17.964920Z"
    },
    "scrolled": true
   },
   "outputs": [],
   "source": [
    "from scipy import stats\n",
    "import matplotlib.pyplot as plt\n",
    "import seaborn as sns\n",
    "import numpy as np\n",
    "import pandas as pd\n",
    "import gc\n",
    "from datetime import date, timedelta, datetime\n",
    "%matplotlib inline"
   ]
  },
  {
   "cell_type": "code",
   "execution_count": 12,
   "metadata": {
    "ExecuteTime": {
     "end_time": "2018-12-22T02:17:20.819305Z",
     "start_time": "2018-12-22T02:17:20.816898Z"
    },
    "scrolled": true
   },
   "outputs": [],
   "source": [
    "import os\n",
    "rootpath = r\"/home/bingo/桌面/sales_forecasting/steel_storage_throughput_prediction\"\n",
    "os.chdir(rootpath)"
   ]
  },
  {
   "cell_type": "markdown",
   "metadata": {},
   "source": [
    "### selecting data\n",
    "- 加载表格，库存数据集、储户费用数据集、出入库训练集\n",
    "- 预测任务\n",
    "    - 1.按照两大类货品类型（冷卷、热卷），分别预测未来4个周钢铁的周入库量和周出库量（重量）；\n",
    "    - 2.按照两大类货品类型（冷卷、热卷），分别预测未来i天的日入库量和日出库量（重量）。\n",
    "- 只有产品名称是热卷和圆钢为热卷类型，其余均为冷卷类型\n",
    "- 整理目标：\n",
    "    - 仅筛选出包含冷卷和热卷两种货品的数据集，添加新列表示冷卷或热卷\n",
    "    - 丢弃，数量=0而重量>0 重量=0而数量>0的数据"
   ]
  },
  {
   "cell_type": "code",
   "execution_count": 13,
   "metadata": {
    "ExecuteTime": {
     "end_time": "2018-12-22T02:17:22.834839Z",
     "start_time": "2018-12-22T02:17:22.825238Z"
    }
   },
   "outputs": [],
   "source": [
    "def get_item(dataset, target_col, item_list, new_col=None):\n",
    "    df = pd.DataFrame(columns=dataset.columns)\n",
    "    for item in item_list:\n",
    "        temp = dataset[dataset[target_col] == item]\n",
    "        df = pd.concat([df, temp], axis=0)\n",
    "    if new_col:\n",
    "        for key, item in new_col.items():\n",
    "            df[key] = item\n",
    "    return df"
   ]
  },
  {
   "cell_type": "raw",
   "metadata": {},
   "source": [
    "field_names = pd.read_csv(r\"01.初赛下载数据/字段说明.csv\")"
   ]
  },
  {
   "cell_type": "raw",
   "metadata": {},
   "source": [
    "# 入库字段说明\n",
    "field_names.tail(9)"
   ]
  },
  {
   "cell_type": "code",
   "execution_count": 72,
   "metadata": {
    "ExecuteTime": {
     "end_time": "2018-12-22T02:17:41.362623Z",
     "start_time": "2018-12-22T02:17:24.436577Z"
    },
    "hide_input": false
   },
   "outputs": [
    {
     "name": "stdout",
     "output_type": "stream",
     "text": [
      "df_train_in shape:  (282829, 9)\n",
      "df_train_in shape:  (282805, 9)\n",
      "df_train_ext shape:  (350010, 9)\n",
      "df_train_ext shape:  (349973, 9)\n",
      "train_in samples:  (282805, 11)\n",
      "train_ext samples:  (349973, 11)\n"
     ]
    }
   ],
   "source": [
    "df_train_in = pd.read_csv(r\"01.初赛下载数据/trainData_IN.csv\")\n",
    "df_train_ext = pd.read_csv(r\"01.初赛下载数据/trainData_EXT.csv\")\n",
    "\n",
    "print(\"df_train_in shape: \", df_train_in.shape)\n",
    "dropind = df_train_in[df_train_in[\"r2019\"] == 0].index\n",
    "df_train_in = df_train_in.drop(dropind)\n",
    "\n",
    "dropind = df_train_in[df_train_in[\"r2018\"] == 0].index\n",
    "df_train_in = df_train_in.drop(dropind)\n",
    "print(\"df_train_in shape: \", df_train_in.shape)\n",
    "\n",
    "print(\"df_train_ext shape: \", df_train_ext.shape)\n",
    "dropind = df_train_ext[df_train_ext[\"c2019\"] == 0].index\n",
    "df_train_ext = df_train_ext.drop(dropind)\n",
    "\n",
    "dropind = df_train_ext[df_train_ext[\"c2018\"] == 0].index\n",
    "df_train_ext = df_train_ext.drop(dropind)\n",
    "print(\"df_train_ext shape: \", df_train_ext.shape)\n",
    "\n",
    "cool_col = {\"type\": \"冷卷\", \"type_id\": 0}\n",
    "hot_col = {\"type\": \"热卷\", \"type_id\": 1}\n",
    "\n",
    "hot_in = [\"热卷\", \"圆钢\"]\n",
    "cool_in = set(df_train_in[\"r2017\"].unique()) - set(hot_in)\n",
    "\n",
    "train_in_hot = get_item(df_train_in, \"r2017\", hot_in, hot_col)\n",
    "train_in_cool = get_item(df_train_in, \"r2017\", cool_in, cool_col)\n",
    "train_in_both = pd.concat([train_in_hot, train_in_cool], axis=0)\n",
    "del train_in_hot, train_in_cool\n",
    "\n",
    "hot_ext = [\"热卷\", \"圆钢\"]\n",
    "cool_ext = set(df_train_ext[\"c2017\"].unique()) - set(hot_ext)\n",
    "\n",
    "train_ext_hot = get_item(df_train_ext, \"c2017\", hot_ext, hot_col)\n",
    "train_ext_cool = get_item(df_train_ext, \"c2017\", cool_ext, cool_col)\n",
    "train_ext_both = pd.concat([train_ext_hot, train_ext_cool], axis=0)\n",
    "del train_ext_cool, train_ext_hot\n",
    "\n",
    "# 出入库数据集样本数\n",
    "print(\"train_in samples: \", train_in_both.shape)\n",
    "print(\"train_ext samples: \", train_ext_both.shape)\n",
    "\n",
    "train_in_both.to_csv(\"data/train_in.csv\", index=False)\n",
    "train_ext_both.to_csv(\"data/train_ext.csv\", index=False)"
   ]
  },
  {
   "cell_type": "markdown",
   "metadata": {},
   "source": [
    "### loading data\n",
    "- 加载表格：加载提取后的出入库数据集\n",
    "- 整理目标\n",
    "    - 转换为储户id-产品id-日期格式三层索引,重量为训练值，做为训练集格式\n",
    "    - 无记录时间记出入库重量为0\n",
    "    - 补齐中断的缺失时间，时间范围为(2014-02-24,2018-01-28)\n",
    "    - 转换为储户id-产品id-日期格式三层索引,数量为训练值，做为训练集格式"
   ]
  },
  {
   "cell_type": "markdown",
   "metadata": {},
   "source": [
    "#### 入库训练集"
   ]
  },
  {
   "cell_type": "markdown",
   "metadata": {},
   "source": [
    "##### 重量训练集"
   ]
  },
  {
   "cell_type": "code",
   "execution_count": 73,
   "metadata": {
    "ExecuteTime": {
     "end_time": "2018-12-22T02:18:15.301914Z",
     "start_time": "2018-12-22T02:18:12.647590Z"
    }
   },
   "outputs": [],
   "source": [
    "dtypes = {\n",
    "    \"r2014\": str,\n",
    "    \"r2015\": int,\n",
    "    \"r2019\": float,\n",
    "    \"type_id\": int,\n",
    "}\n",
    "use_cols = [0, 1, 5, 10]\n",
    "# dates = [\"r2021\",\"r2022\"]\n",
    "train_in = pd.read_csv(\"data/train_in.csv\", dtype=dtypes, usecols=use_cols)\n",
    "\n",
    "train_in[\"date\"] = pd.to_datetime(train_in[\"r2014\"].apply(lambda x: x[2:10]))\n",
    "\n",
    "# 选择数据列，更改列名\n",
    "select_col = [\"date\",\"r2015\",\"r2019\",\"type_id\"]\n",
    "new_names = [\"date\",\"store_id\",\"sales\", \"type_id\"]\n",
    "train_in = train_in[select_col]\n",
    "\n",
    "train_in.columns = new_names\n",
    "\n",
    "# 补全2014-2-24 2018-01-28日期内，缺失的时间及记录\n",
    "temp = train_in.groupby([\"store_id\", \"type_id\", \"date\"])[\n",
    "    [\"sales\"]].sum().unstack(level=-1).fillna(0)\n",
    "temp.columns = temp.columns.get_level_values(1)\n",
    "\n",
    "# 2014-02-24为周一，2018-01-28为周日\n",
    "train_in_all = pd.DataFrame(temp, index=temp.index,\n",
    "                            columns=pd.date_range(date(2014, 2, 24), date(2018, 1, 28)))\n",
    "train_in_all.fillna(0, inplace=True)"
   ]
  },
  {
   "cell_type": "markdown",
   "metadata": {},
   "source": [
    "##### 数量训练集"
   ]
  },
  {
   "cell_type": "code",
   "execution_count": 74,
   "metadata": {
    "ExecuteTime": {
     "end_time": "2018-12-22T02:22:32.395294Z",
     "start_time": "2018-12-22T02:22:29.719769Z"
    }
   },
   "outputs": [],
   "source": [
    "dtypes = {\n",
    "    \"r2014\":str,\n",
    "    \"r2015\":int,\n",
    "    \"r2018\":int,\n",
    "    \"type_id\":int,\n",
    "}\n",
    "use_cols = [0,1,4,10]\n",
    "# dates = [\"r2021\",\"r2022\"]\n",
    "train_in = pd.read_csv(\"data/train_in.csv\",dtype=dtypes,usecols=use_cols)\n",
    "\n",
    "train_in[\"date\"] = pd.to_datetime(train_in[\"r2014\"].apply(lambda x:x[2:10]))\n",
    "\n",
    "# 选择数据列，更改列名\n",
    "select_col = [\"date\",\"r2015\",\"r2018\",\"type_id\"]\n",
    "new_names = [\"date\",\"store_id\",\"nums\", \"type_id\"]\n",
    "train_in = train_in[select_col]\n",
    "\n",
    "train_in.columns = new_names\n",
    "\n",
    "# 补全2014-2-24 2018-01-28日期内，缺失的时间及记录\n",
    "temp = train_in.groupby([\"store_id\", \"type_id\", \"date\"])[\n",
    "    [\"nums\"]].sum().unstack(level=-1).fillna(0)\n",
    "temp.columns = temp.columns.get_level_values(1)\n",
    "\n",
    "# 2014-02-24为周一，2018-01-28为周日\n",
    "train_in_all_nums = pd.DataFrame(temp, index=temp.index,\n",
    "                                 columns=pd.date_range(date(2014, 2, 24), date(2018, 1, 28)))\n",
    "train_in_all_nums.fillna(0, inplace=True)"
   ]
  },
  {
   "cell_type": "markdown",
   "metadata": {},
   "source": [
    "#### 出库训练集"
   ]
  },
  {
   "cell_type": "markdown",
   "metadata": {},
   "source": [
    "##### 重量训练集"
   ]
  },
  {
   "cell_type": "code",
   "execution_count": 75,
   "metadata": {},
   "outputs": [],
   "source": [
    "dtypes = {\n",
    "    \"c2014\":str,\n",
    "    \"c2015\":int,\n",
    "    \"c2019\":float,\n",
    "    \"type_id\":int,\n",
    "}\n",
    "use_cols = [0,1,5,10]\n",
    "# dates = [\"r2021\",\"r2022\"]\n",
    "train_ext = pd.read_csv(\"data/train_ext.csv\",dtype=dtypes,usecols=use_cols)\n",
    "\n",
    "train_ext[\"date\"] = pd.to_datetime(train_ext[\"c2014\"].\\\n",
    "                                   apply(lambda x:\"\".join(list(filter(str.isdigit,x))[:8])))\n",
    "\n",
    "select_col = [\"date\",\"c2015\",\"c2019\",\"type_id\"]\n",
    "new_names = [\"date\",\"store_id\",\"sales\", \"type_id\"]\n",
    "\n",
    "train_ext = train_ext[select_col]\n",
    "train_ext.columns = new_names\n",
    "\n",
    "temp = train_ext.groupby([\"store_id\",\"type_id\",\"date\"])[[\"sales\"]].sum().unstack(level=-1).fillna(0)\n",
    "temp.columns = temp.columns.get_level_values(1)\n",
    "\n",
    "train_ext_all = pd.DataFrame(temp, index=temp.index, \n",
    "                             columns=pd.date_range(date(2014,2,24),date(2018,1,28)))\n",
    "train_ext_all.fillna(0, inplace=True)"
   ]
  },
  {
   "cell_type": "markdown",
   "metadata": {},
   "source": [
    "##### 数量训练集"
   ]
  },
  {
   "cell_type": "code",
   "execution_count": 76,
   "metadata": {},
   "outputs": [],
   "source": [
    "dtypes = {\n",
    "    \"c2014\":str,\n",
    "    \"c2015\":int,\n",
    "    \"c2018\":int,\n",
    "    \"type_id\":int,\n",
    "}\n",
    "use_cols = [0,1,4,10]\n",
    "# dates = [\"r2021\",\"r2022\"]\n",
    "train_ext = pd.read_csv(\"data/train_ext.csv\",dtype=dtypes,usecols=use_cols)\n",
    "\n",
    "train_ext[\"date\"] = pd.to_datetime(train_ext[\"c2014\"].\\\n",
    "                                   apply(lambda x:\"\".join(list(filter(str.isdigit,x))[:8])))\n",
    "\n",
    "select_col = [\"date\",\"c2015\",\"c2018\",\"type_id\"]\n",
    "new_names = [\"date\",\"store_id\",\"nums\", \"type_id\"]\n",
    "train_ext = train_ext[select_col]\n",
    "train_ext.columns = new_names\n",
    "\n",
    "temp = train_ext.groupby([\"store_id\",\"type_id\",\"date\"])[[\"nums\"]].sum().unstack(level=-1).fillna(0)\n",
    "temp.columns = temp.columns.get_level_values(1)\n",
    "\n",
    "train_ext_all_nums = pd.DataFrame(temp, index=temp.index, \n",
    "                             columns=pd.date_range(date(2014,2,24),date(2018,1,28)))\n",
    "train_ext_all_nums.fillna(0, inplace=True)"
   ]
  },
  {
   "cell_type": "code",
   "execution_count": 77,
   "metadata": {},
   "outputs": [],
   "source": [
    "train_in_all.to_csv(\"data/train_in_all.csv\")\n",
    "train_ext_all.to_csv(\"data/train_ext_all.csv\")\n",
    "train_in_all_nums.to_csv(\"data/train_in_all_nums.csv\")\n",
    "train_ext_all_nums.to_csv(\"data/train_ext_all_nums.csv\")"
   ]
  },
  {
   "cell_type": "markdown",
   "metadata": {
    "ExecuteTime": {
     "end_time": "2018-12-22T02:03:24.287174Z",
     "start_time": "2018-12-22T02:03:24.268277Z"
    }
   },
   "source": [
    "### 训练集整理函数\n",
    "- selectData:加载原始数据，剔除无效数据\n",
    "- loadData:加载数据整理为时间表"
   ]
  },
  {
   "cell_type": "markdown",
   "metadata": {},
   "source": [
    "#### 函数"
   ]
  },
  {
   "cell_type": "code",
   "execution_count": 24,
   "metadata": {},
   "outputs": [],
   "source": [
    "def cnt_zeros(df):\n",
    "    notzeros = np.count_nonzero(df,axis=1)\n",
    "    zeros = df.shape[1]-notzeros\n",
    "    zeros_ratio = zeros/df.shape[1]\n",
    "    pd.Series(zeros_ratio).hist()"
   ]
  },
  {
   "cell_type": "code",
   "execution_count": 28,
   "metadata": {},
   "outputs": [],
   "source": [
    "# 合并含有大量0值的行\n",
    "def merge_zeros_cols(df, merge_end=500, merge_step=50):\n",
    "    freq = df.columns.freqstr\n",
    "    # 添加一列统计每行0值，用于合并\n",
    "    notzeros = np.count_nonzero(df, axis=1)\n",
    "    merge_list = np.arange(0,merge_end+1,merge_step)\n",
    "    df = df.reset_index()\n",
    "    # 不用合并的行\n",
    "    df_ = df[notzeros>=merge_end].set_index(\"type_id\")\n",
    "    for i, value in enumerate(merge_list[:-1]):\n",
    "        # 待合并行的布尔索引\n",
    "        ind = (notzeros>=value)&(notzeros<merge_list[i+1])\n",
    "        tmp = df.iloc[ind,:]\n",
    "        tmp = tmp.groupby(\"type_id\").sum(axis=0)\n",
    "        tmp[\"store_id\"] = merge_list[i+1]\n",
    "        df_ = pd.concat([df_,tmp],axis=0)\n",
    "#     df_ = df_.drop(\"notzeros\",axis=0)\n",
    "    df_ = df_.reset_index().set_index([\"store_id\",\"type_id\"])\n",
    "    df_.columns = pd.DatetimeIndex(df_.columns,freq=freq)\n",
    "    return df_"
   ]
  },
  {
   "cell_type": "code",
   "execution_count": 3,
   "metadata": {
    "ExecuteTime": {
     "end_time": "2018-12-22T02:18:40.109247Z",
     "start_time": "2018-12-22T02:18:40.076137Z"
    },
    "hide_input": false
   },
   "outputs": [],
   "source": [
    "def get_item(dataset, target_col, item_list, new_col=None):\n",
    "    df = pd.DataFrame(columns=dataset.columns)\n",
    "    for item in item_list:\n",
    "        temp = dataset[dataset[target_col] == item]\n",
    "        df = pd.concat([df, temp], axis=0)\n",
    "    if new_col:\n",
    "        for key, item in new_col.items():\n",
    "            df[key] = item\n",
    "    return df"
   ]
  },
  {
   "cell_type": "code",
   "execution_count": 4,
   "metadata": {
    "ExecuteTime": {
     "end_time": "2018-12-22T02:18:41.085590Z",
     "start_time": "2018-12-22T02:18:40.984563Z"
    },
    "hide_input": false
   },
   "outputs": [],
   "source": [
    "def selectData(inpath, extpath):\n",
    "    # 读取原始数据\n",
    "    df_train_in = pd.read_csv(inpath)\n",
    "    df_train_ext = pd.read_csv(extpath)\n",
    "    # 剔除无效数据\n",
    "    print(\"df_train_in shape: \", df_train_in.shape)\n",
    "    dropind = df_train_in[df_train_in[\"r2019\"] == 0].index\n",
    "    df_train_in = df_train_in.drop(dropind)\n",
    "    dropind = df_train_in[df_train_in[\"r2018\"] == 0].index\n",
    "    df_train_in = df_train_in.drop(dropind)\n",
    "    print(\"df_train_in shape: \", df_train_in.shape)\n",
    "\n",
    "    print(\"df_train_ext shape: \", df_train_ext.shape)\n",
    "    dropind = df_train_ext[df_train_ext[\"c2019\"] == 0].index\n",
    "    df_train_ext = df_train_ext.drop(dropind)\n",
    "    dropind = df_train_ext[df_train_ext[\"c2018\"] == 0].index\n",
    "    df_train_ext = df_train_ext.drop(dropind)\n",
    "    print(\"df_train_ext shape: \", df_train_ext.shape)\n",
    "\n",
    "    # 设置种类\n",
    "    cool_col = {\"type\": \"冷卷\", \"type_id\": 0}\n",
    "    hot_col = {\"type\": \"热卷\", \"type_id\": 1}\n",
    "\n",
    "    hot_in = [\"热卷\", \"圆钢\"]\n",
    "    cool_in = set(df_train_in[\"r2017\"].unique()) - set(hot_in)\n",
    "\n",
    "    train_in_hot = get_item(df_train_in, \"r2017\", hot_in, hot_col)\n",
    "    train_in_cool = get_item(df_train_in, \"r2017\", cool_in, cool_col)\n",
    "    train_in_both = pd.concat([train_in_hot, train_in_cool], axis=0)\n",
    "    del train_in_hot, train_in_cool\n",
    "\n",
    "    hot_ext = [\"热卷\", \"圆钢\"]\n",
    "    cool_ext = set(df_train_ext[\"c2017\"].unique()) - set(hot_ext)\n",
    "\n",
    "    train_ext_hot = get_item(df_train_ext, \"c2017\", hot_ext, hot_col)\n",
    "    train_ext_cool = get_item(df_train_ext, \"c2017\", cool_ext, cool_col)\n",
    "    train_ext_both = pd.concat([train_ext_hot, train_ext_cool], axis=0)\n",
    "    del train_ext_cool, train_ext_hot\n",
    "\n",
    "    # 出入库数据集样本数\n",
    "    print(\"train_in samples: \", train_in_both.shape)\n",
    "    print(\"train_ext samples: \", train_ext_both.shape)\n",
    "\n",
    "    # 保存\n",
    "    train_in_both.to_csv(\"data/train_in.csv\", index=False)\n",
    "    train_ext_both.to_csv(\"data/train_ext.csv\", index=False)\n",
    "    \n",
    "    print(\"selecting data Done!\")"
   ]
  },
  {
   "cell_type": "code",
   "execution_count": 8,
   "metadata": {
    "ExecuteTime": {
     "end_time": "2018-12-22T02:42:36.205329Z",
     "start_time": "2018-12-22T02:42:35.966746Z"
    },
    "hide_input": false
   },
   "outputs": [],
   "source": [
    "def loadData(in_path, ext_path, endtime=\"2018-1-28\"):\n",
    "    starttime = date(2014, 2, 24)\n",
    "    endtime = datetime.strptime(endtime,\"%Y-%m-%d\")\n",
    "    # 进口重量训练集\n",
    "    dtypes = {\n",
    "        \"r2014\": str,\n",
    "        \"r2015\": int,\n",
    "        \"r2019\": float,\n",
    "        \"type_id\": int,\n",
    "    }\n",
    "    use_cols = [0, 1, 5, 10]\n",
    "    train_in = pd.read_csv(in_path, dtype=dtypes, usecols=use_cols)\n",
    "\n",
    "    train_in[\"date\"] = pd.to_datetime(\n",
    "        train_in[\"r2014\"].apply(lambda x: x[2:10]))\n",
    "\n",
    "    # 选择数据列，更改列名\n",
    "    select_col = [\"date\", \"r2015\", \"r2019\", \"type_id\"]\n",
    "    new_names = [\"date\", \"store_id\", \"sales\", \"type_id\"]\n",
    "    train_in = train_in[select_col]\n",
    "\n",
    "    train_in.columns = new_names\n",
    "\n",
    "    # 补全2014-2-24 2018-01-28日期内，缺失的时间及记录\n",
    "    temp = train_in.groupby([\"store_id\", \"type_id\", \"date\"])[\n",
    "        [\"sales\"]].sum().unstack(level=-1).fillna(0)\n",
    "    temp.columns = temp.columns.get_level_values(1)\n",
    "\n",
    "    # 2014-02-24为周一，2018-01-28为周日\n",
    "    train_in_all = pd.DataFrame(temp, index=temp.index,\n",
    "                                columns=pd.date_range(starttime, endtime))\n",
    "    train_in_all.fillna(0, inplace=True)\n",
    "\n",
    "    # 进口数量训练集\n",
    "    dtypes = {\n",
    "        \"r2014\": str,\n",
    "        \"r2015\": int,\n",
    "        \"r2018\": int,\n",
    "        \"type_id\": int,\n",
    "    }\n",
    "    use_cols = [0, 1, 4, 10]\n",
    "    train_in = pd.read_csv(in_path, dtype=dtypes, usecols=use_cols)\n",
    "\n",
    "    train_in[\"date\"] = pd.to_datetime(\n",
    "        train_in[\"r2014\"].apply(lambda x: x[2:10]))\n",
    "\n",
    "    # 选择数据列，更改列名\n",
    "    select_col = [\"date\", \"r2015\", \"r2018\", \"type_id\"]\n",
    "    new_names = [\"date\", \"store_id\", \"nums\", \"type_id\"]\n",
    "    train_in = train_in[select_col]\n",
    "\n",
    "    train_in.columns = new_names\n",
    "\n",
    "    # 补全2014-2-24 2018-01-28日期内，缺失的时间及记录\n",
    "    temp = train_in.groupby([\"store_id\", \"type_id\", \"date\"])[\n",
    "        [\"nums\"]].sum().unstack(level=-1).fillna(0)\n",
    "    temp.columns = temp.columns.get_level_values(1)\n",
    "\n",
    "    # 2014-02-24为周一，2018-01-28为周日\n",
    "    train_in_all_nums = pd.DataFrame(temp, index=temp.index,\n",
    "                                     columns=pd.date_range(starttime, endtime))\n",
    "    train_in_all_nums.fillna(0, inplace=True)\n",
    "\n",
    "    # 出口重量训练集\n",
    "    dtypes = {\n",
    "        \"c2014\": str,\n",
    "        \"c2015\": int,\n",
    "        \"c2019\": float,\n",
    "        \"type_id\": int,\n",
    "    }\n",
    "    use_cols = [0, 1, 5, 10]\n",
    "    train_ext = pd.read_csv(ext_path, dtype=dtypes, usecols=use_cols)\n",
    "\n",
    "    train_ext[\"date\"] = pd.to_datetime(train_ext[\"c2014\"].\n",
    "                                       apply(lambda x: \"\".join(list(filter(str.isdigit, x))[:8])))\n",
    "\n",
    "    select_col = [\"date\", \"c2015\", \"c2019\", \"type_id\"]\n",
    "    new_names = [\"date\", \"store_id\", \"sales\", \"type_id\"]\n",
    "\n",
    "    train_ext = train_ext[select_col]\n",
    "    train_ext.columns = new_names\n",
    "\n",
    "    temp = train_ext.groupby([\"store_id\", \"type_id\", \"date\"])[\n",
    "        [\"sales\"]].sum().unstack(level=-1).fillna(0)\n",
    "    temp.columns = temp.columns.get_level_values(1)\n",
    "\n",
    "    train_ext_all = pd.DataFrame(temp, index=temp.index,\n",
    "                                 columns=pd.date_range(starttime, endtime))\n",
    "    train_ext_all.fillna(0, inplace=True)\n",
    "\n",
    "    # 出口数量集\n",
    "    dtypes = {\n",
    "        \"c2014\": str,\n",
    "        \"c2015\": int,\n",
    "        \"c2018\": int,\n",
    "        \"type_id\": int,\n",
    "    }\n",
    "    use_cols = [0, 1, 4, 10]\n",
    "    train_ext = pd.read_csv(ext_path, dtype=dtypes, usecols=use_cols)\n",
    "\n",
    "    train_ext[\"date\"] = pd.to_datetime(train_ext[\"c2014\"].\n",
    "                                       apply(lambda x: \"\".join(list(filter(str.isdigit, x))[:8])))\n",
    "\n",
    "    select_col = [\"date\", \"c2015\", \"c2018\", \"type_id\"]\n",
    "    new_names = [\"date\", \"store_id\", \"nums\", \"type_id\"]\n",
    "    train_ext = train_ext[select_col]\n",
    "    train_ext.columns = new_names\n",
    "\n",
    "    temp = train_ext.groupby([\"store_id\", \"type_id\", \"date\"])[\n",
    "        [\"nums\"]].sum().unstack(level=-1).fillna(0)\n",
    "    temp.columns = temp.columns.get_level_values(1)\n",
    "\n",
    "    train_ext_all_nums = pd.DataFrame(temp, index=temp.index,\n",
    "                                      columns=pd.date_range(starttime, endtime))\n",
    "    train_ext_all_nums.fillna(0, inplace=True)\n",
    "    \n",
    "    # 保存数据\n",
    "    train_in_all.to_csv(\"data/train_in_all.csv\")\n",
    "    train_ext_all.to_csv(\"data/train_ext_all.csv\")\n",
    "    train_in_all_nums.to_csv(\"data/train_in_all_nums.csv\")\n",
    "    train_ext_all_nums.to_csv(\"data/train_ext_all_nums.csv\")\n",
    "    \n",
    "    print(\"loading data Done!\")\n",
    "    return train_in_all, train_ext_all, train_in_all_nums, train_ext_all_nums"
   ]
  },
  {
   "cell_type": "markdown",
   "metadata": {},
   "source": [
    "#### 使用"
   ]
  },
  {
   "cell_type": "code",
   "execution_count": 257,
   "metadata": {
    "ExecuteTime": {
     "end_time": "2018-12-22T02:37:14.424613Z",
     "start_time": "2018-12-22T02:37:10.481662Z"
    }
   },
   "outputs": [
    {
     "name": "stdout",
     "output_type": "stream",
     "text": [
      "in1 shape:  (332937, 9)\n",
      "in2 shape:  (14713, 9)\n",
      "in3 shape:  (347650, 9)\n"
     ]
    }
   ],
   "source": [
    "old_in = r\"data_org/trainData_IN.csv\"\n",
    "old_ext = r\"data_org/trainData_EXT.csv\"\n",
    "new_in = r\"data_org/testData4_IN.csv\"\n",
    "new_ext = r\"data_org/testData4_EXT.csv\"\n",
    "# 合并的原始数据集位置\n",
    "inpath = r\"data_org/train_IN.csv\"\n",
    "extpath = r\"data_org/train_EXT.csv\"\n",
    "\n",
    "in1 = pd.read_csv(old_in)\n",
    "ext1 = pd.read_csv(old_ext)\n",
    "in2 = pd.read_csv(new_in)\n",
    "ext2 = pd.read_csv(new_ext)\n",
    "\n",
    "in3 = pd.concat([in1, in2], axis=0)\n",
    "ext3 = pd.concat([ext1, ext2], axis=0)\n",
    "in3.to_csv(inpath, index=False)\n",
    "ext3.to_csv(extpath, index=False)\n",
    "print(\"in1 shape: \",in1.shape)\n",
    "print(\"in2 shape: \", in2.shape)\n",
    "print(\"in3 shape: \", in3.shape)"
   ]
  },
  {
   "cell_type": "code",
   "execution_count": 258,
   "metadata": {},
   "outputs": [
    {
     "data": {
      "text/plain": [
       "datetime.datetime(2018, 6, 17, 0, 0)"
      ]
     },
     "execution_count": 258,
     "metadata": {},
     "output_type": "execute_result"
    }
   ],
   "source": [
    "datetime.strptime(\"2018-2-25\",\"%Y-%m-%d\")+timedelta(28*4)"
   ]
  },
  {
   "cell_type": "code",
   "execution_count": 259,
   "metadata": {
    "ExecuteTime": {
     "end_time": "2018-12-22T02:50:40.305200Z",
     "start_time": "2018-12-22T02:50:17.286290Z"
    },
    "scrolled": true
   },
   "outputs": [
    {
     "name": "stdout",
     "output_type": "stream",
     "text": [
      "df_train_in shape:  (347650, 9)\n",
      "df_train_in shape:  (346906, 9)\n",
      "df_train_ext shape:  (425405, 9)\n",
      "df_train_ext shape:  (425359, 9)\n",
      "train_in samples:  (346906, 11)\n",
      "train_ext samples:  (425359, 11)\n",
      "selecting data Done!\n",
      "loading data Done!\n",
      "train_in_all shape:  (1386, 1575)\n"
     ]
    }
   ],
   "source": [
    "# 合并的原始数据集位置\n",
    "inpath = r\"data_org/train_IN.csv\"\n",
    "extpath = r\"data_org/train_EXT.csv\"\n",
    "# 训练数据集位置\n",
    "in_path = \"data/train_in.csv\"\n",
    "ext_path = \"data/train_ext.csv\"\n",
    "endtime = \"2018-6-17\"\n",
    "\n",
    "selectData(inpath, extpath)\n",
    "train_in_all, train_ext_all, train_in_all_nums, train_ext_all_nums = loadData(\n",
    "    in_path, ext_path, endtime=endtime)\n",
    "print(\"train_in_all shape: \", train_in_all.shape)"
   ]
  },
  {
   "cell_type": "raw",
   "metadata": {},
   "source": [
    "# 2018-3-25\n",
    "df_train_in shape:  (304275, 9)\n",
    "df_train_in shape:  (304250, 9)\n",
    "df_train_ext shape:  (373061, 9)\n",
    "df_train_ext shape:  (373022, 9)\n",
    "train_in samples:  (304250, 11)\n",
    "train_ext samples:  (373022, 11)\n",
    "selecting data Done!\n",
    "loading data Done!\n",
    "train_in_all shape:  (1258, 1491)"
   ]
  },
  {
   "cell_type": "markdown",
   "metadata": {},
   "source": [
    "#### 数据截取"
   ]
  },
  {
   "cell_type": "code",
   "execution_count": 238,
   "metadata": {},
   "outputs": [],
   "source": [
    "tmp = train_in_all[pd.date_range(\"2016-4-24\",\"2018-4-22\")]"
   ]
  },
  {
   "cell_type": "code",
   "execution_count": 239,
   "metadata": {},
   "outputs": [
    {
     "data": {
      "image/png": "[encoded data removed]",
      "text/plain": [
       "<matplotlib.figure.Figure at 0x7fe5602909e8>"
      ]
     },
     "metadata": {},
     "output_type": "display_data"
    }
   ],
   "source": [
    "cnt_zeros(tmp)"
   ]
  },
  {
   "cell_type": "code",
   "execution_count": 240,
   "metadata": {},
   "outputs": [
    {
     "data": {
      "text/plain": [
       "(1303, 729)"
      ]
     },
     "execution_count": 240,
     "metadata": {},
     "output_type": "execute_result"
    }
   ],
   "source": [
    "tmp.shape"
   ]
  },
  {
   "cell_type": "code",
   "execution_count": 241,
   "metadata": {},
   "outputs": [
    {
     "data": {
      "text/plain": [
       "14"
      ]
     },
     "execution_count": 241,
     "metadata": {},
     "output_type": "execute_result"
    }
   ],
   "source": [
    "np.sum(np.count_nonzero(tmp,axis=1)>500)"
   ]
  },
  {
   "cell_type": "code",
   "execution_count": 242,
   "metadata": {},
   "outputs": [],
   "source": [
    "tmp1 = merge_zeros_cols(tmp,500,100)"
   ]
  },
  {
   "cell_type": "code",
   "execution_count": 243,
   "metadata": {},
   "outputs": [
    {
     "data": {
      "text/plain": [
       "(24, 729)"
      ]
     },
     "execution_count": 243,
     "metadata": {},
     "output_type": "execute_result"
    }
   ],
   "source": [
    "tmp1.shape"
   ]
  },
  {
   "cell_type": "code",
   "execution_count": 244,
   "metadata": {},
   "outputs": [
    {
     "data": {
      "image/png": "[encoded data removed]",
      "text/plain": [
       "<matplotlib.figure.Figure at 0x7fe5747809b0>"
      ]
     },
     "metadata": {},
     "output_type": "display_data"
    }
   ],
   "source": [
    "cnt_zeros(tmp1)"
   ]
  },
  {
   "cell_type": "code",
   "execution_count": 245,
   "metadata": {},
   "outputs": [
    {
     "name": "stdout",
     "output_type": "stream",
     "text": [
      "518\n"
     ]
    },
    {
     "data": {
      "image/png": "[encoded data removed]",
      "text/plain": [
       "<matplotlib.figure.Figure at 0x7fe565ed23c8>"
      ]
     },
     "metadata": {},
     "output_type": "display_data"
    }
   ],
   "source": [
    "tmp2 = tmp.ewm(span=7,axis=1).mean()\n",
    "\n",
    "print(np.sum(np.count_nonzero(tmp2,axis=1)>500))\n",
    "\n",
    "cnt_zeros(tmp2)"
   ]
  },
  {
   "cell_type": "code",
   "execution_count": 195,
   "metadata": {},
   "outputs": [
    {
     "name": "stdout",
     "output_type": "stream",
     "text": [
      "(402, 645)\n"
     ]
    },
    {
     "data": {
      "image/png": "[encoded data removed]",
      "text/plain": [
       "<matplotlib.figure.Figure at 0x7fe560584e48>"
      ]
     },
     "metadata": {},
     "output_type": "display_data"
    }
   ],
   "source": [
    "tmp3 = merge_zeros_cols(tmp2, 500,500)\n",
    "print(tmp3.shape)\n",
    "\n",
    "cnt_zeros(tmp3)"
   ]
  },
  {
   "cell_type": "raw",
   "metadata": {},
   "source": [
    "tmp = train_in_all[pd.date_range(\"2016-12-26\",\"2018-1-28\")]\n",
    "tmp.shape\n",
    "\n",
    "tmp1 = merge_zeros_cols(tmp, 200, 20)\n",
    "\n",
    "tmp1.shape\n",
    "\n",
    "cnt_zeros(tmp1)\n",
    "\n",
    "tmp2 = tmp.ewm(span=30,axis=1).mean()\n",
    "\n",
    "np.sum(np.count_nonzero(tmp2,axis=1)>100)\n",
    "\n",
    "cnt_zeros(tmp2)\n",
    "\n",
    "tmp3 = merge_zeros_cols(tmp2, 200, 50)\n",
    "tmp3.shape\n",
    "\n",
    "cnt_zeros(tmp3)"
   ]
  },
  {
   "cell_type": "code",
   "execution_count": 256,
   "metadata": {},
   "outputs": [
    {
     "data": {
      "text/plain": [
       "type_id\n",
       "0    95651.6372\n",
       "1    34212.9711\n",
       "dtype: float64"
      ]
     },
     "execution_count": 256,
     "metadata": {},
     "output_type": "execute_result"
    }
   ],
   "source": [
    "tmp4.iloc[:,-7:].sum(axis=1)*1000"
   ]
  },
  {
   "cell_type": "code",
   "execution_count": 251,
   "metadata": {
    "ExecuteTime": {
     "end_time": "2018-12-22T02:43:51.487257Z",
     "start_time": "2018-12-22T02:43:46.933777Z"
    }
   },
   "outputs": [
    {
     "data": {
      "text/plain": [
       "<matplotlib.axes._subplots.AxesSubplot at 0x7fe56fb6b3c8>"
      ]
     },
     "execution_count": 251,
     "metadata": {},
     "output_type": "execute_result"
    },
    {
     "data": {
      "image/png": "[encoded data removed]",
      "text/plain": [
       "<matplotlib.figure.Figure at 0x7fe55fba0cf8>"
      ]
     },
     "metadata": {},
     "output_type": "display_data"
    }
   ],
   "source": [
    "fig, ax = plt.subplots(nrows=2, ncols=1, sharex=True)\n",
    "tmp = train_in_all[pd.date_range(\"2015-4-30\",\"2018-5-20\")]\n",
    "tmp4 = (tmp/1000).reset_index().drop(\"store_id\",\n",
    "                                             axis=1).groupby(\"type_id\").sum()\n",
    "loc = -180//6\n",
    "tmp4.iloc[0, loc:].transpose().plot(ax=ax[0])\n",
    "(tmp4.ewm(span=2, axis=1).mean()).iloc[0, loc:].transpose().plot(ax=ax[0])\n",
    "\n",
    "tmp5 = (tmp/1000).reset_index().drop(\"store_id\",\n",
    "                                              axis=1).groupby(\"type_id\").sum()\n",
    "tmp5.iloc[1, loc:].transpose().plot(ax=ax[1])\n",
    "tmp5.ewm(span=3, axis=1).mean().iloc[1, loc:].transpose().plot(ax=ax[1])"
   ]
  },
  {
   "cell_type": "code",
   "execution_count": 252,
   "metadata": {
    "ExecuteTime": {
     "end_time": "2018-12-22T03:15:07.297673Z",
     "start_time": "2018-12-22T03:15:05.430690Z"
    }
   },
   "outputs": [
    {
     "data": {
      "text/plain": [
       "<matplotlib.axes._subplots.AxesSubplot at 0x7fe551539208>"
      ]
     },
     "execution_count": 252,
     "metadata": {},
     "output_type": "execute_result"
    },
    {
     "data": {
      "image/png": "[encoded data removed]",
      "text/plain": [
       "<matplotlib.figure.Figure at 0x7fe56ae995f8>"
      ]
     },
     "metadata": {},
     "output_type": "display_data"
    }
   ],
   "source": [
    "fig, ax = plt.subplots(nrows=2, ncols=1, sharex=True)\n",
    "tmp = (train_in_all/1000).reset_index().drop(\"store_id\",\n",
    "                                             axis=1).groupby(\"type_id\").sum()\n",
    "loc = -180*6\n",
    "tmp.iloc[0, loc:].transpose().plot(ax=ax[0])\n",
    "(tmp.ewm(span=30, axis=1).mean()).iloc[0, loc:].transpose().plot(ax=ax[0])\n",
    "\n",
    "tmp1 = (train_in_all/1000).reset_index().drop(\"store_id\",\n",
    "                                              axis=1).groupby(\"type_id\").sum()\n",
    "tmp1.iloc[1, loc:].transpose().plot(ax=ax[1])\n",
    "tmp1.ewm(span=3, axis=1).mean().iloc[1, loc:].transpose().plot(ax=ax[1])"
   ]
  },
  {
   "cell_type": "code",
   "execution_count": 228,
   "metadata": {
    "ExecuteTime": {
     "end_time": "2018-12-22T02:55:18.288587Z",
     "start_time": "2018-12-22T02:55:18.249874Z"
    }
   },
   "outputs": [
    {
     "data": {
      "text/html": [
       "<div>\n",
       "<style scoped>\n",
       "    .dataframe tbody tr th:only-of-type {\n",
       "        vertical-align: middle;\n",
       "    }\n",
       "\n",
       "    .dataframe tbody tr th {\n",
       "        vertical-align: top;\n",
       "    }\n",
       "\n",
       "    .dataframe thead th {\n",
       "        text-align: right;\n",
       "    }\n",
       "</style>\n",
       "<table border=\"1\" class=\"dataframe\">\n",
       "  <thead>\n",
       "    <tr style=\"text-align: right;\">\n",
       "      <th></th>\n",
       "      <th>2018-02-26 00:00:00</th>\n",
       "      <th>2018-02-27 00:00:00</th>\n",
       "      <th>2018-02-28 00:00:00</th>\n",
       "      <th>2018-03-01 00:00:00</th>\n",
       "      <th>2018-03-02 00:00:00</th>\n",
       "      <th>2018-03-03 00:00:00</th>\n",
       "      <th>2018-03-04 00:00:00</th>\n",
       "      <th>2018-03-05 00:00:00</th>\n",
       "      <th>2018-03-06 00:00:00</th>\n",
       "      <th>2018-03-07 00:00:00</th>\n",
       "      <th>...</th>\n",
       "      <th>2018-03-16 00:00:00</th>\n",
       "      <th>2018-03-17 00:00:00</th>\n",
       "      <th>2018-03-18 00:00:00</th>\n",
       "      <th>2018-03-19 00:00:00</th>\n",
       "      <th>2018-03-20 00:00:00</th>\n",
       "      <th>2018-03-21 00:00:00</th>\n",
       "      <th>2018-03-22 00:00:00</th>\n",
       "      <th>2018-03-23 00:00:00</th>\n",
       "      <th>2018-03-24 00:00:00</th>\n",
       "      <th>2018-03-25 00:00:00</th>\n",
       "    </tr>\n",
       "    <tr>\n",
       "      <th>type_id</th>\n",
       "      <th></th>\n",
       "      <th></th>\n",
       "      <th></th>\n",
       "      <th></th>\n",
       "      <th></th>\n",
       "      <th></th>\n",
       "      <th></th>\n",
       "      <th></th>\n",
       "      <th></th>\n",
       "      <th></th>\n",
       "      <th></th>\n",
       "      <th></th>\n",
       "      <th></th>\n",
       "      <th></th>\n",
       "      <th></th>\n",
       "      <th></th>\n",
       "      <th></th>\n",
       "      <th></th>\n",
       "      <th></th>\n",
       "      <th></th>\n",
       "      <th></th>\n",
       "    </tr>\n",
       "  </thead>\n",
       "  <tbody>\n",
       "    <tr>\n",
       "      <th>0</th>\n",
       "      <td>17.410798</td>\n",
       "      <td>18.273310</td>\n",
       "      <td>14.734798</td>\n",
       "      <td>15.224339</td>\n",
       "      <td>10.024916</td>\n",
       "      <td>6.200641</td>\n",
       "      <td>6.134512</td>\n",
       "      <td>8.412911</td>\n",
       "      <td>12.297288</td>\n",
       "      <td>11.075609</td>\n",
       "      <td>...</td>\n",
       "      <td>11.467751</td>\n",
       "      <td>5.659562</td>\n",
       "      <td>4.073765</td>\n",
       "      <td>8.485231</td>\n",
       "      <td>6.950805</td>\n",
       "      <td>12.064374</td>\n",
       "      <td>8.745078</td>\n",
       "      <td>12.875493</td>\n",
       "      <td>7.161981</td>\n",
       "      <td>7.647246</td>\n",
       "    </tr>\n",
       "    <tr>\n",
       "      <th>1</th>\n",
       "      <td>12.341613</td>\n",
       "      <td>4.618165</td>\n",
       "      <td>6.972985</td>\n",
       "      <td>5.860931</td>\n",
       "      <td>3.293793</td>\n",
       "      <td>2.602054</td>\n",
       "      <td>2.434260</td>\n",
       "      <td>6.742672</td>\n",
       "      <td>3.775271</td>\n",
       "      <td>2.079999</td>\n",
       "      <td>...</td>\n",
       "      <td>4.044565</td>\n",
       "      <td>1.393610</td>\n",
       "      <td>0.947411</td>\n",
       "      <td>3.021577</td>\n",
       "      <td>3.677193</td>\n",
       "      <td>4.015597</td>\n",
       "      <td>3.118685</td>\n",
       "      <td>4.134622</td>\n",
       "      <td>0.954864</td>\n",
       "      <td>0.340459</td>\n",
       "    </tr>\n",
       "  </tbody>\n",
       "</table>\n",
       "<p>2 rows × 28 columns</p>\n",
       "</div>"
      ],
      "text/plain": [
       "         2018-02-26  2018-02-27  2018-02-28  2018-03-01  2018-03-02  \\\n",
       "type_id                                                               \n",
       "0         17.410798   18.273310   14.734798   15.224339   10.024916   \n",
       "1         12.341613    4.618165    6.972985    5.860931    3.293793   \n",
       "\n",
       "         2018-03-03  2018-03-04  2018-03-05  2018-03-06  2018-03-07  \\\n",
       "type_id                                                               \n",
       "0          6.200641    6.134512    8.412911   12.297288   11.075609   \n",
       "1          2.602054    2.434260    6.742672    3.775271    2.079999   \n",
       "\n",
       "            ...      2018-03-16  2018-03-17  2018-03-18  2018-03-19  \\\n",
       "type_id     ...                                                       \n",
       "0           ...       11.467751    5.659562    4.073765    8.485231   \n",
       "1           ...        4.044565    1.393610    0.947411    3.021577   \n",
       "\n",
       "         2018-03-20  2018-03-21  2018-03-22  2018-03-23  2018-03-24  \\\n",
       "type_id                                                               \n",
       "0          6.950805   12.064374    8.745078   12.875493    7.161981   \n",
       "1          3.677193    4.015597    3.118685    4.134622    0.954864   \n",
       "\n",
       "         2018-03-25  \n",
       "type_id              \n",
       "0          7.647246  \n",
       "1          0.340459  \n",
       "\n",
       "[2 rows x 28 columns]"
      ]
     },
     "execution_count": 228,
     "metadata": {},
     "output_type": "execute_result"
    }
   ],
   "source": [
    "tmp.iloc[:,-28:]"
   ]
  },
  {
   "cell_type": "markdown",
   "metadata": {},
   "source": [
    "### data extraction\n",
    "- 特征提取\n",
    "- 滑窗选取数据集\n",
    "- 有大量0数值，稀疏数据\n",
    "- 以4周数据，预测下一周i天数据\n",
    "- 时间点\n",
    "    - 测试集：2018-01-28\n",
    "    - 验证集：2018-01-21\n",
    "    - 训练集：2018-01-14"
   ]
  },
  {
   "cell_type": "code",
   "execution_count": 73,
   "metadata": {
    "scrolled": true
   },
   "outputs": [],
   "source": [
    "# 合并含有大量0值的行\n",
    "def merge_zeros_cols(df, merge_end=500, merge_step=50):\n",
    "#     df.columns = pd.to_datetime(df.columns)\n",
    "    freq = df.columns.freqstr\n",
    "    # 添加一列统计每行0值，用于合并\n",
    "    notzeros = np.count_nonzero(df, axis=1)\n",
    "    merge_list = np.arange(0,merge_end+1,merge_step)\n",
    "    df = df.reset_index()\n",
    "    # 不用合并的行\n",
    "    df_ = df[notzeros>=merge_end].set_index(\"type_id\")\n",
    "    for i, value in enumerate(merge_list[:-1]):\n",
    "        # 待合并行的布尔索引\n",
    "        ind = (notzeros>=value)&(notzeros<merge_list[i+1])\n",
    "        tmp = df.iloc[ind,:]\n",
    "        tmp = tmp.groupby(\"type_id\").sum(axis=0)\n",
    "        tmp[\"store_id\"] = merge_list[i+1]\n",
    "        df_ = pd.concat([df_,tmp],axis=0)\n",
    "#     df_ = df_.drop(\"notzeros\",axis=0)\n",
    "    df_ = df_.reset_index().set_index([\"store_id\",\"type_id\"])\n",
    "    df_.columns = pd.DatetimeIndex(df_.columns,freq=freq)\n",
    "    return df_"
   ]
  },
  {
   "cell_type": "code",
   "execution_count": 74,
   "metadata": {
    "scrolled": true
   },
   "outputs": [],
   "source": [
    "def cnt_zeros(df):\n",
    "    notzeros = np.count_nonzero(df,axis=1)\n",
    "    zeros = df.shape[1]-notzeros\n",
    "    zeros_ratio = zeros/df.shape[1]\n",
    "    pd.Series(zeros_ratio).hist()"
   ]
  },
  {
   "cell_type": "markdown",
   "metadata": {},
   "source": [
    "#### 原始数据"
   ]
  },
  {
   "cell_type": "code",
   "execution_count": 153,
   "metadata": {
    "scrolled": true
   },
   "outputs": [
    {
     "name": "stdout",
     "output_type": "stream",
     "text": [
      "df_train_in shape:  (1196, 1435)\n",
      "df_train_ext_shape:  (1193, 1435)\n"
     ]
    }
   ],
   "source": [
    "# 导入数据集，保持稀疏性\n",
    "# converters={\"unit_sales\":lambda x:np.log1p(float(x)) if float(x)>0 else 0}\n",
    "span=30\n",
    "df_train_in = pd.read_csv(\"data/train_in_all.csv\").set_index([\"store_id\",\"type_id\"])/1000\n",
    "df_train_in.columns = pd.to_datetime(df_train_in.columns)\n",
    "df_train_in.columns.name = \"date\"\n",
    "# 窗口平滑\n",
    "df_train_in = df_train_in.ewm(span=span, axis=1).mean()\n",
    "\n",
    "df_train_ext = pd.read_csv(\"data/train_ext_all.csv\").set_index([\"store_id\",\"type_id\"])/1000\n",
    "df_train_ext.columns = pd.to_datetime(df_train_ext.columns)\n",
    "df_train_ext.columns.name = \"date\"\n",
    "# 窗口平滑\n",
    "df_train_ext = df_train_ext.ewm(span=span, axis=1).mean()\n",
    "\n",
    "print(\"df_train_in shape: \", df_train_in.shape)\n",
    "print(\"df_train_ext_shape: \", df_train_ext.shape)"
   ]
  },
  {
   "cell_type": "code",
   "execution_count": 119,
   "metadata": {
    "scrolled": true
   },
   "outputs": [
    {
     "name": "stdout",
     "output_type": "stream",
     "text": [
      "df_train_in_W shape:  (620, 205)\n",
      "df_train_ext_W shape:  (614, 205)\n"
     ]
    }
   ],
   "source": [
    "# 取对数后重采样, 若先重采样再取对数则会预测值过大exp溢出\n",
    "# 150-50,(128,155); 200-100,(87,122);500-100,(37,57)\n",
    "# 有差分：合并->取对数->重采样->差分, 独立做一遍\n",
    "span = 20\n",
    "tmp_in = merge_zeros_cols(df_train_in, 500, 100).transpose()\n",
    "# tmp_in = tmp_in.ewm(span=span,axis=1).mean()\n",
    "df_train_in_transpose = np.log1p(tmp_in)\n",
    "\n",
    "tmp_ext = merge_zeros_cols(df_train_ext, 500, 100).transpose()\n",
    "# tmp_ext = tmp_ext.ewm(span=span, axis=1).mean()\n",
    "df_train_ext_transpose = np.log1p(tmp_ext)\n",
    "\n",
    "# # 对于周数据，无差分：合并->取对数->重采样取均值，置于无差分天数据操作之后\n",
    "# df_train_in_transpose = df_train_in.transpose()\n",
    "# df_train_ext_transpose = df_train_ext.transpose()\n",
    "\n",
    "# 按周重采样\n",
    "df_train_in_W = df_train_in_transpose.resample(\"W\",closed=\"right\",label=\"right\").mean().transpose()\n",
    "df_train_in_2W = df_train_in_transpose.resample(\"2W\",closed=\"right\",label=\"right\").mean().transpose()\n",
    "df_train_in_3W = df_train_in_transpose.resample(\"3W\",closed=\"right\",label=\"right\").mean().transpose()\n",
    "df_train_in_4W = df_train_in_transpose.resample(\"4W\",closed=\"right\",label=\"right\").mean().transpose()\n",
    "\n",
    "df_train_ext_W = df_train_ext_transpose.resample(\"W\",closed=\"right\",label=\"right\").mean().transpose()\n",
    "df_train_ext_2W = df_train_ext_transpose.resample(\"2W\",closed=\"right\",label=\"right\").mean().transpose()\n",
    "df_train_ext_3W = df_train_ext_transpose.resample(\"3W\",closed=\"right\",label=\"right\").mean().transpose()\n",
    "df_train_ext_4W = df_train_ext_transpose.resample(\"4W\",closed=\"right\",label=\"right\").mean().transpose()\n",
    "\n",
    "# # 差分，去除趋势性，保留初始值\n",
    "# init_in_byWeek = [df_train_in_W.iloc[:,0], df_train_in_2W.iloc[:,0],\\\n",
    "#                   df_train_in_3W.iloc[:,0], df_train_in_4W.iloc[:,0]]\n",
    "# init_ext_byWeek = [df_train_ext_W.iloc[:,0], df_train_ext_2W.iloc[:,0],\\\n",
    "#                   df_train_ext_3W.iloc[:,0], df_train_ext_4W.iloc[:,0]]\n",
    "\n",
    "# df_train_in_W = df_train_in_W.diff(axis=1).dropna(axis=1)\n",
    "# df_train_ext_W = df_train_ext_W.diff(axis=1).dropna(axis=1)\n",
    "# df_train_in_2W = df_train_in_2W.diff(axis=1).dropna(axis=1)\n",
    "# df_train_ext_2W = df_train_ext_2W.diff(axis=1).dropna(axis=1)\n",
    "# df_train_in_3W = df_train_in_3W.diff(axis=1).dropna(axis=1)\n",
    "# df_train_ext_3W = df_train_ext_3W.diff(axis=1).dropna(axis=1)\n",
    "# df_train_in_4W = df_train_in_4W.diff(axis=1).dropna(axis=1)\n",
    "# df_train_ext_4W = df_train_ext_4W.diff(axis=1).dropna(axis=1)\n",
    "print(\"df_train_in_W shape: \",df_train_in_W.shape)\n",
    "print(\"df_train_ext_W shape: \",df_train_ext_W.shape)"
   ]
  },
  {
   "cell_type": "code",
   "execution_count": 120,
   "metadata": {
    "scrolled": true
   },
   "outputs": [
    {
     "name": "stdout",
     "output_type": "stream",
     "text": [
      "df_train_in shape:  (620, 1435)\n",
      "df_train_ext_shape:  (614, 1435)\n"
     ]
    }
   ],
   "source": [
    "# 对于天数据，合并->取对数->差分\n",
    "# 先合并数据行\n",
    "span = 180\n",
    "df_train_in = merge_zeros_cols(df_train_in, merge_end=500, merge_step=50*2)#/1000 #100\n",
    "df_train_ext = merge_zeros_cols(df_train_ext, merge_end=500, merge_step=50*2)#/1000 #500,100\n",
    "# df_train_in = df_train_in.ewm(span=span, axis=1).mean()\n",
    "# df_train_ext = df_train_ext.ewm(span=span, axis=1).mean()\n",
    "\n",
    "# 再直接取对数\n",
    "df_train_in = np.log1p(df_train_in)\n",
    "df_train_ext = np.log1p(df_train_ext)\n",
    "\n",
    "# # 最后差分，去除趋势性，保留初始值\n",
    "# init_byDay = [df_train_in.iloc[:,0], df_train_ext.iloc[:,0]]\n",
    "# df_train_in = df_train_in.diff(axis=1).dropna(axis=1)\n",
    "# df_train_ext = df_train_ext.diff(axis=1).dropna(axis=1)\n",
    "print(\"df_train_in shape: \", df_train_in.shape)\n",
    "print(\"df_train_ext_shape: \", df_train_ext.shape)"
   ]
  },
  {
   "cell_type": "raw",
   "metadata": {},
   "source": [
    "# 探索df_train_in_W的合并方案\n",
    "df_train_in_transpose = np.log1p(merge_zeros_cols(df_train_in, 400, 200).transpose())\n",
    "df_train_in_W = df_train_in_transpose.resample(\"W\",closed=\"right\",label=\"right\").mean().transpose()\n",
    "print(df_train_in_W.shape)\n",
    "cnt_zeros(df_train_in_W)"
   ]
  },
  {
   "cell_type": "raw",
   "metadata": {},
   "source": [
    "# 探索df_train_in的合并区间\n",
    "tmp = merge_zeros_cols(df_train_in, merge_end=500, merge_step=50)\n",
    "print(tmp.shape)\n",
    "cnt_zeros(tmp)"
   ]
  },
  {
   "cell_type": "raw",
   "metadata": {
    "collapsed": true
   },
   "source": [
    "cnt_zeros(df_train_ext)"
   ]
  },
  {
   "cell_type": "raw",
   "metadata": {},
   "source": [
    "def getScaler(df_in, df_ext):\n",
    "    # 数据标准化,按产品id标准化\n",
    "    df_in = df_in.transpose()\n",
    "    df_ext = df_ext.transpose()\n",
    "    \n",
    "    scaler_in = StandardScaler()\n",
    "    scaler_ext = StandardScaler()\n",
    "\n",
    "    scaler_in.fit(df_in)\n",
    "    scaler_ext.fit(df_ext)\n",
    "\n",
    "    df_in = pd.DataFrame(scaler_in.transform(df_in),index=df_in.index, columns=df_in.columns)\n",
    "    df_ext = pd.DataFrame(scaler_ext.transform(df_ext),index=df_ext.index, columns=df_ext.columns)\n",
    "    \n",
    "    df_in = df_in.transpose()\n",
    "    df_ext = df_ext.transpose()\n",
    "    return scaler_in, scaler_ext, df_in, df_ext"
   ]
  },
  {
   "cell_type": "raw",
   "metadata": {},
   "source": [
    "def getInvScaler(scalar_in, scaler_ext, df_in, df_ext):\n",
    "    df_in = np.array(df_in)\n",
    "    df_ext = np.array(df_ext)\n",
    "    df_in = scaler_in.inverse_transform(df_in)\n",
    "    df_ext = scaler_ext.inverse_transform(df_ext)\n",
    "    return df_in, df_ext"
   ]
  },
  {
   "cell_type": "raw",
   "metadata": {},
   "source": [
    "# 数据标准化\n",
    "scaler_in, scaler_ext, df_train_in, df_train_ext = getScaler(df_train_in, df_train_ext)\n",
    "scaler_in_W, scaler_ext_W, df_train_in_W, df_train_ext_W = getScaler(df_train_in_W, df_train_ext_W)\n",
    "scaler_in_2W, scaler_ext_2W, df_train_in_2W, df_train_ext_2W = getScaler(df_train_in_2W, df_train_ext_2W)\n",
    "scaler_in_3W, scaler_ext_3W, df_train_in_3W, df_train_ext_3W = getScaler(df_train_in_3W, df_train_ext_3W)\n",
    "scaler_in_4W, scaler_ext_4W, df_train_in_4W, df_train_ext_4W = getScaler(df_train_in_4W, df_train_ext_4W)"
   ]
  },
  {
   "cell_type": "raw",
   "metadata": {},
   "source": [
    "# 按周重采样\n",
    "df_train_in_transpose = np.log1p(df_train_in).transpose()\n",
    "df_train_ext_transpose = np.log1p(df_train_ext).transpose()\n",
    "\n",
    "df_train_in_W = df_train_in_transpose.resample(\"W\",closed=\"right\",label=\"right\").mean().transpose()\n",
    "df_train_in_2W = df_train_in_transpose.resample(\"2W\",closed=\"right\",label=\"right\").mean().transpose()\n",
    "df_train_in_3W = df_train_in_transpose.resample(\"3W\",closed=\"right\",label=\"right\").mean().transpose()\n",
    "df_train_in_4W = df_train_in_transpose.resample(\"4W\",closed=\"right\",label=\"right\").mean().transpose()\n",
    "\n",
    "df_train_ext_W = df_train_ext_transpose.resample(\"W\",closed=\"right\",label=\"right\").mean().transpose()\n",
    "df_train_ext_2W = df_train_ext_transpose.resample(\"2W\",closed=\"right\",label=\"right\").mean().transpose()\n",
    "df_train_ext_3W = df_train_ext_transpose.resample(\"3W\",closed=\"right\",label=\"right\").mean().transpose()\n",
    "df_train_ext_4W = df_train_ext_transpose.resample(\"4W\",closed=\"right\",label=\"right\").mean().transpose()\n",
    "\n",
    "### 维度不一致，代码需要修改，最后得submission部分\n",
    "df_train_in_W = merge_zeros_cols(df_train_in_W, 50, 10)\n",
    "df_train_ext_W = merge_zeros_cols(df_train_ext_W, 50, 10)\n",
    "df_train_in_2W = merge_zeros_cols(df_train_in_2W, merge_end=25, merge_step=5)\n",
    "df_train_ext_2W = merge_zeros_cols(df_train_ext_2W, merge_end=30, merge_step=10)\n",
    "df_train_in_3W = merge_zeros_cols(df_train_in_3W, merge_end=20, merge_step=10)\n",
    "df_train_ext_3W = merge_zeros_cols(df_train_ext_3W, 20,10)\n",
    "df_train_in_4W = merge_zeros_cols(df_train_in_4W, 15, 5)\n",
    "df_train_ext_4W = merge_zeros_cols(df_train_ext_4W,15,5)\n",
    "print(\"df_train_in_W shape: \",df_train_in_W.shape)"
   ]
  },
  {
   "cell_type": "raw",
   "metadata": {},
   "source": [
    "# 重采样后再取对数\n",
    "df_train_in_W = np.log1p(df_train_in_W)\n",
    "df_train_ext_W = np.log1p(df_train_ext_W)\n",
    "df_train_in_2W = np.log1p(df_train_in_2W)\n",
    "df_train_ext_2W = np.log1p(df_train_ext_2W)\n",
    "df_train_in_3W = np.log1p(df_train_in_3W)\n",
    "df_train_ext_3W = np.log1p(df_train_ext_3W)\n",
    "df_train_in_4W = np.log1p(df_train_in_4W)\n",
    "df_train_ext_4W = np.log1p(df_train_ext_4W)\n",
    "df_train_in = np.log1p(df_train_in)\n",
    "df_train_ext = np.log1p(df_train_ext)"
   ]
  },
  {
   "cell_type": "raw",
   "metadata": {},
   "source": [
    "cnt_zeros(df_train_in)"
   ]
  },
  {
   "cell_type": "raw",
   "metadata": {},
   "source": [
    "cnt_zeros(df_train_ext)"
   ]
  },
  {
   "cell_type": "markdown",
   "metadata": {},
   "source": [
    "#### 数据子集抽取_byDay"
   ]
  },
  {
   "cell_type": "code",
   "execution_count": 121,
   "metadata": {
    "scrolled": true
   },
   "outputs": [],
   "source": [
    "def get_span(df, dt, minus, periods, freq=\"D\"):\n",
    "    return df[pd.date_range(dt-timedelta(days=int(minus)), periods=periods, freq=freq)]"
   ]
  },
  {
   "cell_type": "code",
   "execution_count": 122,
   "metadata": {
    "scrolled": true
   },
   "outputs": [],
   "source": [
    "def prepare_dataset_byDay(df, dt, addType=False, is_train=True):\n",
    "    x = {}\n",
    "    n = 11\n",
    "    #1.计算dt时间点一段时间内的出入库情况，总量+均量, 40个特征\n",
    "    for i in np.arange(2,21,2): #np.arange(2,21,2)\n",
    "        tmp = get_span(df, dt, i*7-1, i*7)\n",
    "        x[\"sales_%s_sum\"%(i*7)] = tmp.sum(axis=1).values\n",
    "        x[\"sales_%s_mean\"%(i*7)] = tmp.mean(axis=1).values\n",
    "#         x[\"sum_mean_%s_ratio\"%(i*7)] = x[\"sales_%s_sum\"%(i*7)]/x[\"sales_%s_mean\"%(i*7)]\n",
    "        x[\"sales_%s_sum_decay\"%(i*7)] = \\\n",
    "        (tmp*np.power(0.9,np.arange(i*7)[::-1])).sum(axis=1).values\n",
    "        x[\"sales_%s_mean_decay\"%(i*7)] = \\\n",
    "        (tmp*np.power(0.9,np.arange(i*7)[::-1])).mean(axis=1).values\n",
    "#         x[\"sum_mean_%s_ratio_decay\"%(i*7)] = x[\"sales_%s_sum_decay\"%(i*7)]/x[\"sales_%s_mean_decay\"%(i*7)]\n",
    "    \n",
    "    #2.计算dt时间点一段时间内的出入库次数，有货物天数+无货物天数，20个特征\n",
    "    for i in np.arange(1,n):#np.arange(1,11)\n",
    "        tmp = get_span(df, dt, i*7-1, i*7)\n",
    "        x[\"sales_%s_count\"%(i*7)] = np.count_nonzero(tmp.values, axis=1) \n",
    "        x[\"no_sales_%s_count\"%(i*7)] = i*7 - x[\"sales_%s_count\"%(i*7)]\n",
    "        \n",
    "    #3.计算dt时间点一段时间内产品出入库情况，差值均值、中值、最大值、最小值、标准差，50个特征\n",
    "    for i in np.arange(1,n):#np.arange(1,11)\n",
    "        tmp = get_span(df, dt, i*7-1, i*7)\n",
    "        x[\"diff_%s_mean\"%(i*7)] = tmp.diff(axis=1).mean(axis=1).values\n",
    "#         x[\"diff_%s_mean_decay\"%(i*7)] = \\\n",
    "#         (tmp.diff(axis=1) * np.power(0.9, np.arange(i*7)[::-1])).mean(axis=1).values #新添的\n",
    "        x[\"median_%s\"%(i*7)] = tmp.median(axis=1).values\n",
    "#         x[\"max_%s\"%(i*7)] = tmp.max(axis=1).values\n",
    "#         x[\"min_%s\"%(i*7)] = tmp.min(axis=1).values\n",
    "#         x[\"std_%s\"%(i*7)] = tmp.std(axis=1).values\n",
    "        \n",
    "    #4.dt时间点2周前,差值均值、中值、最大值、最小值、标准差、均值，70个特征\n",
    "    for i in np.arange(1,n):#np.arange(1,11)\n",
    "        tmp = get_span(df, dt+timedelta(days=-14), i*7-1, i*7)\n",
    "        x['diff_%s_mean_2' %(i*7)] = tmp.diff(axis=1).mean(axis=1).values\n",
    "        x['mean_%s_decay_2' %(i*7)] = \\\n",
    "        (tmp * np.power(0.9, np.arange(i*7)[::-1])).mean(axis=1).values #sum\n",
    "        x['mean_%s_2' %(i*7)] = tmp.mean(axis=1).values\n",
    "#         x['median_%s_2' %(i*7)] = tmp.median(axis=1).values\n",
    "#         x['min_%s_2' %(i*7)] = tmp.min(axis=1).values\n",
    "#         x['max_%s_2' %(i*7)] = tmp.max(axis=1).values\n",
    "#         x['std_%s_2' %(i*7)] = tmp.std(axis=1).values\n",
    "    \n",
    "    #5.前一段时间内，第一次出入库距现在天数，最后一次距现在天书， 20个特征\n",
    "    for i in np.arange(1,n):#np.arange(1,11)\n",
    "        tmp = get_span(df, dt, i*7-1, i*7)\n",
    "        x[\"last_sales_days_in_last_%s\"%(i*7)] =\\\n",
    "        i*7 - ((tmp>0)*np.arange(i*7)).max(axis=1).values\n",
    "        x[\"first_sales_days_in_last_%s\"%(i*7)] =\\\n",
    "        ((tmp>0)*np.arange(i*7,0,-1)).max(axis=1).values\n",
    "        \n",
    "    #6.过去n周内同一天的均值、总量, 35个特征\n",
    "    for i in np.arange(7):\n",
    "        x[\"mean_4_dow%s\"%(i)] = get_span(df, dt, 28-i, 4, freq=\"7D\").mean(axis=1).values\n",
    "        x[\"mean_8_dow%s\"%(i)] = get_span(df, dt, 56-i, 8, freq=\"7D\").mean(axis=1).values\n",
    "        x[\"mean_12_dow%s\"%(i)] = get_span(df, dt, 84-i, 12, freq=\"7D\").mean(axis=1).values\n",
    "        x[\"mean_16_dow%s\"%(i)] = get_span(df, dt, 16*7-i, 16, freq=\"7D\").mean(axis=1).values\n",
    "        x[\"mean_20_dow%s\"%(i)] = get_span(df, dt, 140-i, 20, freq=\"7D\").mean(axis=1).values\n",
    "#         x[\"mean_24_dow%s\"%(i)] = get_span(df, dt, 24*7-i, 24, freq=\"7D\").mean(axis=1).values\n",
    "        \n",
    "    #7.提取前30天出入库情况，31个特征\n",
    "    for i in np.arange(0,31):#np.arange(0,31)(n-1)*7\n",
    "        x[\"day_%s\"%(i)] = get_span(df, dt, i, 1).values.ravel()\n",
    "    \n",
    "    if addType:\n",
    "        x = pd.DataFrame(x)\n",
    "        x[\"type\"] = df.reset_index()[\"type_id\"]\n",
    "    else:\n",
    "        x = pd.DataFrame(x)\n",
    "    \n",
    "    if is_train:\n",
    "        y = df[pd.date_range(dt+timedelta(1),periods=7)].values\n",
    "        return x,y\n",
    "    return x"
   ]
  },
  {
   "cell_type": "raw",
   "metadata": {},
   "source": [
    "x_train, y_train = prepare_datasetDay(df_train_in, date(2018,1,28)-timedelta(i))"
   ]
  },
  {
   "cell_type": "code",
   "execution_count": 123,
   "metadata": {
    "scrolled": true
   },
   "outputs": [
    {
     "name": "stdout",
     "output_type": "stream",
     "text": [
      "Preparing dataset...\n",
      "x_train_in :  (62000, 197)\n",
      "y_train_in :  (62000, 7)\n",
      "x_train_ext :  (61400, 197)\n",
      "y_train_ext :  (61400, 7)\n"
     ]
    }
   ],
   "source": [
    "print(\"Preparing dataset...\")\n",
    "t2018 = date(2018,1,14)\n",
    "num_days = 20*5\n",
    "x_in, y_in = [], []\n",
    "x_ext, y_ext = [], []\n",
    "addType = True\n",
    "\n",
    "for i in range(num_days):\n",
    "    delta = timedelta(days=i)\n",
    "    \n",
    "    x_tmp_in, y_tmp_in = prepare_dataset_byDay(df_train_in, t2018-delta, addType=addType)\n",
    "    x_tmp_ext, y_tmp_ext = prepare_dataset_byDay(df_train_ext, t2018-delta, addType=addType)\n",
    "    \n",
    "    x_in.append(x_tmp_in)\n",
    "    y_in.append(y_tmp_in)\n",
    "    x_ext.append(x_tmp_ext)\n",
    "    y_ext.append(y_tmp_ext)\n",
    "\n",
    "x_train_in = pd.concat(x_in, axis=0)\n",
    "y_train_in = np.concatenate(y_in, axis=0)\n",
    "x_train_ext = pd.concat(x_ext, axis=0)\n",
    "y_train_ext = np.concatenate(y_ext, axis=0)\n",
    "\n",
    "print(\"x_train_in : \",x_train_in.shape)\n",
    "print(\"y_train_in : \", y_train_in.shape)\n",
    "print(\"x_train_ext : \", x_train_ext.shape)\n",
    "print(\"y_train_ext : \", y_train_ext.shape)"
   ]
  },
  {
   "cell_type": "code",
   "execution_count": 124,
   "metadata": {
    "scrolled": true
   },
   "outputs": [],
   "source": [
    "# 验证集 2018-1-21\n",
    "x_val_in, y_val_in = prepare_dataset_byDay(df_train_in, date(2018,1,21),addType=addType)\n",
    "x_val_ext, y_val_ext = prepare_dataset_byDay(df_train_ext, date(2018,1,21), addType=addType)\n",
    "\n",
    "# 测试集 2018-1-28\n",
    "x_test_in = prepare_dataset_byDay(df_train_in, date(2018,1,28), is_train=False, addType=addType)\n",
    "x_test_ext = prepare_dataset_byDay(df_train_ext, date(2018,1,28), is_train=False, addType=addType)"
   ]
  },
  {
   "cell_type": "markdown",
   "metadata": {},
   "source": [
    "#### 数据子集抽取_byWeek"
   ]
  },
  {
   "cell_type": "code",
   "execution_count": 125,
   "metadata": {
    "scrolled": true
   },
   "outputs": [],
   "source": [
    "def get_span(df, dt, minus, periods, freq=\"D\"):\n",
    "    return df[pd.date_range(dt-timedelta(days=int(minus)), periods=periods, freq=freq)]"
   ]
  },
  {
   "cell_type": "code",
   "execution_count": 126,
   "metadata": {
    "scrolled": true
   },
   "outputs": [],
   "source": [
    "def prepare_dataset_byWeek(df, dt, step=7, addType=False, is_train=True):\n",
    "    x = {}\n",
    "    n = 11\n",
    "    freq = df.columns.freqstr\n",
    "    #1.计算dt时间点一段时间内的出入库情况，总量+均量, 40个特征\n",
    "    for i in np.arange(2,21,2):#np.arange(2,21,2)\n",
    "        tmp = get_span(df, dt, i*step, i, freq=freq)\n",
    "        x[\"sales_%s_sum\"%(i)] = tmp.sum(axis=1).values\n",
    "        x[\"sales_%s_mean\"%(i)] = tmp.mean(axis=1).values\n",
    "#         x[\"sum_mean_%s_ratio\"%(i)] = x[\"sales_%s_sum\"%(i)]/x[\"sales_%s_mean\"%(i)]\n",
    "        x[\"sales_%s_sum_decay\"%(i)] = \\\n",
    "        (tmp*np.power(0.9,np.arange(i)[::-1])).sum(axis=1).values\n",
    "        x[\"sales_%s_mean_decay\"%(i)] = \\\n",
    "        (tmp*np.power(0.9,np.arange(i)[::-1])).mean(axis=1).values\n",
    "#         x[\"sum_mean_%s_ratio_decay\"%(i)] = x[\"sales_%s_sum_decay\"%(i)]/x[\"sales_%s_mean_decay\"%(i)]\n",
    "    \n",
    "    #2.计算dt时间点一段时间内的出入库次数，有货物天数+无货物天数，20个特征\n",
    "    for i in np.arange(1,11): #np.arange(1,11)\n",
    "        tmp = get_span(df, dt, i*step, i, freq=freq)\n",
    "        x[\"sales_%s_count\"%(i)] = np.count_nonzero(tmp.values, axis=1) \n",
    "        x[\"no_sales_%s_count\"%(i)] = i - x[\"sales_%s_count\"%(i)]\n",
    "        \n",
    "    #3.计算dt时间点一段时间内产品出入库情况，差值均值、中值、最大值、最小值、标准差，50个特征\n",
    "    for i in np.arange(1,11):#np.arange(1,11)\n",
    "        tmp = get_span(df, dt, i*step, i, freq=freq)\n",
    "        x[\"diff_%s_mean\"%(i)] = tmp.diff(axis=1).mean(axis=1).values\n",
    "#         x[\"diff_%s_mean_decay\"%(i)] = \\\n",
    "#         (tmp.diff(axis=1) * np.power(0.9, np.arange(i)[::-1])).mean(axis=1).values #新添的\n",
    "        x[\"median_%s\"%(i)] = tmp.median(axis=1).values\n",
    "#         x[\"max_%s\"%(i)] = tmp.max(axis=1).values\n",
    "#         x[\"min_%s\"%(i)] = tmp.min(axis=1).values\n",
    "#         x[\"std_%s\"%(i)] = tmp.std(axis=1).values\n",
    "        \n",
    "    #4.dt时间点2周前,差值均值、中值、最大值、最小值、标准差、均值，i0个特征\n",
    "    for i in np.arange(1,11):#np.arange(1,11)\n",
    "        n = step if step%14 or 14%step else 14\n",
    "        tmp = get_span(df, dt+timedelta(days=-n), i*step, i, freq=freq)\n",
    "        x['diff_%s_mean_2' %(i)] = tmp.diff(axis=1).mean(axis=1).values\n",
    "        x['mean_%s_decay_2' %(i)] = \\\n",
    "        (tmp * np.power(0.9, np.arange(i)[::-1])).mean(axis=1).values #sum\n",
    "        x['mean_%s_2' %(i)] = tmp.mean(axis=1).values\n",
    "#         x['median_%s_2' %(i)] = tmp.median(axis=1).values\n",
    "#         x['min_%s_2' %(i)] = tmp.min(axis=1).values\n",
    "#         x['max_%s_2' %(i)] = tmp.max(axis=1).values\n",
    "#         x['std_%s_2' %(i)] = tmp.std(axis=1).values\n",
    "    \n",
    "    #5.前一段时间内，第一次出入库距现在天数，最后一次距现在天书， 20个特征\n",
    "    for i in np.arange(1,11): #np.arange(1,11)\n",
    "        tmp = get_span(df, dt, i*step, i, freq=freq)\n",
    "        x[\"last_sales_days_in_last_%s\"%(i)] =\\\n",
    "        i - ((tmp>0)*np.arange(i)).max(axis=1).values\n",
    "        x[\"first_sales_days_in_last_%s\"%(i)] =\\\n",
    "        ((tmp>0)*np.arange(i,0,-1)).max(axis=1).values\n",
    "        \n",
    "    #7.提取前30天出入库情况，31个特征。这各地方不能包括自身\n",
    "    for i in np.arange(1,11):#np.arange(1,11)\n",
    "        x[\"day_%s\"%(i)] = get_span(df, dt, i*step, 1, freq=freq).values.ravel()\n",
    "    \n",
    "    if addType:\n",
    "        x = pd.DataFrame(x)\n",
    "        x[\"type\"] = df.reset_index()[\"type_id\"]\n",
    "    else:\n",
    "        x = pd.DataFrame(x)\n",
    "    \n",
    "    if is_train:\n",
    "        y = df[pd.date_range(dt,periods=1,freq=freq)].values\n",
    "        return x,y\n",
    "    return x"
   ]
  },
  {
   "cell_type": "code",
   "execution_count": 127,
   "metadata": {
    "scrolled": true
   },
   "outputs": [],
   "source": [
    "def getDatas(df_in, df_ext, dt=\"2018-01-21\", step=7, num_days=int(20), is_train=True, addType=True):\n",
    "    print(\"Preparing dataset...step\",step)\n",
    "    dt = datetime.strptime(dt,\"%Y-%m-%d\")\n",
    "    num_days = num_days\n",
    "    x_in, y_in = [], []\n",
    "    x_ext, y_ext = [], []\n",
    "    for i in range(num_days):\n",
    "        delta = timedelta(days=i*step)\n",
    "        if is_train:\n",
    "            x_tmp_in, y_tmp_in = prepare_dataset_byWeek(df_in, dt-delta, step=step, addType=addType, is_train=is_train)\n",
    "            x_tmp_ext, y_tmp_ext = prepare_dataset_byWeek(df_ext, dt-delta, step=step, addType=addType,is_train=is_train)\n",
    "        else:\n",
    "            x_tmp_in = prepare_dataset_byWeek(df_in, dt-delta, step=step, addType=addType, is_train=is_train)\n",
    "            x_tmp_ext = prepare_dataset_byWeek(df_ext, dt-delta, step=step, addType=addType,is_train=is_train)\n",
    "            y_tmp_in = []\n",
    "            y_tmp_ext = []\n",
    "\n",
    "        x_in.append(x_tmp_in)\n",
    "        y_in.append(y_tmp_in)\n",
    "        x_ext.append(x_tmp_ext)\n",
    "        y_ext.append(y_tmp_ext)\n",
    "\n",
    "    x_train_in = pd.concat(x_in, axis=0)\n",
    "    y_train_in = np.concatenate(y_in, axis=0)\n",
    "    x_train_ext = pd.concat(x_ext, axis=0)\n",
    "    y_train_ext = np.concatenate(y_ext, axis=0)\n",
    "    return x_train_in, y_train_in, x_train_ext, y_train_ext"
   ]
  },
  {
   "cell_type": "code",
   "execution_count": 128,
   "metadata": {
    "scrolled": true
   },
   "outputs": [
    {
     "name": "stdout",
     "output_type": "stream",
     "text": [
      "Preparing dataset...step 7\n",
      "Preparing dataset...step 14\n",
      "Preparing dataset...step 21\n",
      "Preparing dataset...step 28\n",
      "x_train_in_W shape:  (12400, 141)\n",
      "x_train_in_2W shape:  (12400, 141)\n"
     ]
    }
   ],
   "source": [
    "# train_date = ['2018-01-21','2018-01-14', '2018-01-07', '2017-12-31']\n",
    "# steps = [7,14,21,28]\n",
    "# in_list = [df_train_in_W, df_train_in_2W, df_train_in_3W, df_train_in_4W]\n",
    "# ext_list = [df_train_ext_W, df_train_ext_2W, df_train_ext_3W, df_train_ext_4W]\n",
    "\n",
    "# 训练集\n",
    "x_train_in_W, y_train_in_W, x_train_ext_W, y_train_ext_W = getDatas(df_train_in_W, df_train_ext_W, \"2018-01-21\", 7)\n",
    "x_train_in_2W, y_train_in_2W, x_train_ext_2W, y_train_ext_2W = getDatas(df_train_in_2W, df_train_ext_2W, \"2018-01-14\", 14)\n",
    "x_train_in_3W, y_train_in_3W, x_train_ext_3W, y_train_ext_3W = getDatas(df_train_in_3W, df_train_ext_3W, \"2018-01-07\", 21)\n",
    "x_train_in_4W, y_train_in_4W, x_train_ext_4W, y_train_ext_4W = getDatas(df_train_in_4W, df_train_ext_4W, \"2017-12-31\", 28)\n",
    "print(\"x_train_in_W shape: \",x_train_in_W.shape)\n",
    "print(\"x_train_in_2W shape: \",x_train_in_2W.shape)"
   ]
  },
  {
   "cell_type": "code",
   "execution_count": 129,
   "metadata": {
    "scrolled": false
   },
   "outputs": [
    {
     "name": "stdout",
     "output_type": "stream",
     "text": [
      "Preparing dataset...step 7\n",
      "Preparing dataset...step 14\n",
      "Preparing dataset...step 21\n",
      "Preparing dataset...step 28\n",
      "x_val_in_W shape:  (620, 141)\n",
      "x_val_ext_2W shape:  (614, 1)\n"
     ]
    }
   ],
   "source": [
    "# 验证集\n",
    "# steps = [7,14,21,28]\n",
    "# in_list = [df_train_in_W, df_train_in_2W, df_train_in_3W, df_train_in_4W]\n",
    "# ext_list = [df_train_ext_W, df_train_ext_2W, df_train_ext_3W, df_train_ext_4W]\n",
    "# # val_date = [\"2018-01-07\",\"2017-12-17\",\"2017-11-26\",\"2017-11-05\"]\n",
    "# val_date = ['2018-01-28', '2018-01-28', '2018-01-28', '2018-01-28']\n",
    "\n",
    "x_val_in_W, y_val_in_W, x_val_ext_W, y_val_ext_W = getDatas(df_train_in_W, df_train_ext_W, \"2018-01-28\", 7, 1)\n",
    "x_val_in_2W, y_val_in_2W, x_val_ext_2W, y_val_ext_2W = getDatas(df_train_in_2W, df_train_ext_2W, \"2018-01-28\", 14, 1)\n",
    "x_val_in_3W, y_val_in_3W, x_val_ext_3W, y_val_ext_3W = getDatas(df_train_in_3W, df_train_ext_3W, \"2018-01-28\", 21, 1)\n",
    "x_val_in_4W, y_val_in_4W, x_val_ext_4W, y_val_ext_4W = getDatas(df_train_in_4W, df_train_ext_4W, \"2018-01-28\", 28, 1)\n",
    "print(\"x_val_in_W shape: \",x_val_in_W.shape)\n",
    "print(\"x_val_ext_2W shape: \",y_val_ext_2W.shape)"
   ]
  },
  {
   "cell_type": "code",
   "execution_count": 130,
   "metadata": {
    "scrolled": false
   },
   "outputs": [
    {
     "name": "stdout",
     "output_type": "stream",
     "text": [
      "Preparing dataset...step 7\n",
      "Preparing dataset...step 14\n",
      "Preparing dataset...step 21\n",
      "Preparing dataset...step 28\n",
      "x_test_in_W shape:  (620, 141)\n",
      "x_test_in_2W shape:  (614, 141)\n"
     ]
    }
   ],
   "source": [
    "# 测试集\n",
    "# steps = [7,14,21,28]\n",
    "# in_list = [df_train_in_W, df_train_in_2W, df_train_in_3W, df_train_in_4W]\n",
    "# ext_list = [df_train_ext_W, df_train_ext_2W, df_train_ext_3W, df_train_ext_4W]\n",
    "# test_date = [\"2018-01-29\"]*4\n",
    "\n",
    "x_test_in_W, y_test_in_W, x_test_ext_W, y_test_ext_W = getDatas(df_train_in_W, df_train_ext_W, \"2018-02-03\", 7, 1, False)\n",
    "x_test_in_2W, y_test_in_2W, x_test_ext_2W, y_test_ext_2W = getDatas(df_train_in_2W, df_train_ext_2W, \"2018-02-10\", 14, 1, False)\n",
    "x_test_in_3W, y_test_in_3W, x_test_ext_3W, y_test_ext_3W = getDatas(df_train_in_3W, df_train_ext_3W, \"2018-02-17\", 21, 1, False)\n",
    "x_test_in_4W, y_test_in_4W, x_test_ext_4W, y_test_ext_4W = getDatas(df_train_in_4W, df_train_ext_4W, \"2018-02-24\", 28, 1, False)\n",
    "print(\"x_test_in_W shape: \",x_test_in_W.shape)\n",
    "print(\"x_test_in_2W shape: \",x_test_ext_2W.shape)"
   ]
  },
  {
   "cell_type": "code",
   "execution_count": 131,
   "metadata": {
    "scrolled": true
   },
   "outputs": [],
   "source": [
    "x_train_in_Wall = [x_train_in_W, x_train_in_2W, x_train_in_3W, x_train_in_4W]\n",
    "y_train_in_Wall = np.concatenate([y_train_in_W, y_train_in_2W, y_train_in_3W, y_train_in_4W],axis=1)\n",
    "# y_train_in_Wall = [y_train_in_W, y_train_in_2W, y_train_in_3W, y_train_in_4W]\n",
    "x_train_ext_Wall = [x_train_ext_W, x_train_ext_2W, x_train_ext_3W, x_train_ext_4W]\n",
    "y_train_ext_Wall = np.concatenate([y_train_ext_W, y_train_ext_2W, y_train_ext_3W, y_train_ext_4W],axis=1)\n",
    "# y_train_ext_Wall = [y_train_ext_W, y_train_ext_2W, y_train_ext_3W, y_train_ext_4W]\n",
    "\n",
    "x_val_in_Wall = [x_val_in_W, x_val_in_2W, x_val_in_3W, x_val_in_4W]\n",
    "y_val_in_Wall = np.concatenate([y_val_in_W, y_val_in_2W, y_val_in_3W, y_val_in_4W],axis=1)\n",
    "# y_val_in_Wall = [y_val_in_W, y_val_in_2W, y_val_in_3W, y_val_in_4W]\n",
    "x_val_ext_Wall = [x_val_ext_W, x_val_ext_2W, x_val_ext_3W, x_val_ext_4W]\n",
    "y_val_ext_Wall = np.concatenate([y_val_ext_W, y_val_ext_2W, y_val_ext_3W, y_val_ext_4W],axis=1)\n",
    "# y_val_ext_Wall = [y_val_ext_W, y_val_ext_2W, y_val_ext_3W, y_val_ext_4W]\n",
    "\n",
    "x_test_in_Wall = [x_test_in_W, x_test_in_2W, x_test_in_3W, x_test_in_4W]\n",
    "x_test_ext_Wall = [x_test_ext_W, x_test_ext_2W, x_test_ext_3W, x_test_ext_4W]"
   ]
  }
 ],
 "metadata": {
  "kernelspec": {
   "display_name": "Python [conda root]",
   "language": "python",
   "name": "conda-root-py"
  },
  "language_info": {
   "codemirror_mode": {
    "name": "ipython",
    "version": 3
   },
   "file_extension": ".py",
   "mimetype": "text/x-python",
   "name": "python",
   "nbconvert_exporter": "python",
   "pygments_lexer": "ipython3",
   "version": "3.6.4"
  },
  "toc": {
   "base_numbering": 1,
   "nav_menu": {},
   "number_sections": true,
   "sideBar": true,
   "skip_h1_title": false,
   "title_cell": "Table of Contents",
   "title_sidebar": "Contents",
   "toc_cell": false,
   "toc_position": {
    "height": "764px",
    "left": "309px",
    "top": "223.5px",
    "width": "220px"
   },
   "toc_section_display": true,
   "toc_window_display": true
  },
  "varInspector": {
   "cols": {
    "lenName": 16,
    "lenType": 16,
    "lenVar": 40
   },
   "kernels_config": {
    "python": {
     "delete_cmd_postfix": "",
     "delete_cmd_prefix": "del ",
     "library": "var_list.py",
     "varRefreshCmd": "print(var_dic_list())"
    },
    "r": {
     "delete_cmd_postfix": ") ",
     "delete_cmd_prefix": "rm(",
     "library": "var_list.r",
     "varRefreshCmd": "cat(var_dic_list()) "
    }
   },
   "types_to_exclude": [
    "module",
    "function",
    "builtin_function_or_method",
    "instance",
    "_Feature"
   ],
   "window_display": false
  }
 },
 "nbformat": 4,
 "nbformat_minor": 2
}
