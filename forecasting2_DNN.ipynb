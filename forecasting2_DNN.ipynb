{
 "cells": [
  {
   "cell_type": "code",
   "execution_count": 1,
   "metadata": {
    "ExecuteTime": {
     "end_time": "2018-12-20T07:56:43.959148Z",
     "start_time": "2018-12-20T07:56:30.058473Z"
    },
    "scrolled": true
   },
   "outputs": [
    {
     "name": "stderr",
     "output_type": "stream",
     "text": [
      "/home/bingo/anaconda3/envs/tensorflow/lib/python3.6/importlib/_bootstrap.py:219: RuntimeWarning: numpy.dtype size changed, may indicate binary incompatibility. Expected 96, got 88\n",
      "  return f(*args, **kwds)\n",
      "/home/bingo/anaconda3/envs/tensorflow/lib/python3.6/importlib/_bootstrap.py:219: RuntimeWarning: numpy.dtype size changed, may indicate binary incompatibility. Expected 96, got 88\n",
      "  return f(*args, **kwds)\n",
      "Using TensorFlow backend.\n"
     ]
    }
   ],
   "source": [
    "%matplotlib inline\n",
    "from datetime import date, timedelta, datetime\n",
    "import gc\n",
    "import pandas as pd\n",
    "import numpy as np\n",
    "from sklearn.preprocessing import LabelEncoder, StandardScaler, MinMaxScaler\n",
    "from sklearn.metrics import mean_squared_error, mean_absolute_error\n",
    "import seaborn as sns\n",
    "import matplotlib.pyplot as plt\n",
    "# import xgboost as xgb\n",
    "\n",
    "import keras\n",
    "from keras.models import Sequential, Model, load_model\n",
    "from keras.layers import Input, Dense, Dropout, Activation, BatchNormalization,Reshape\n",
    "from keras.layers import PReLU, LSTM, Conv1D, concatenate,Flatten, CuDNNGRU, Add\n",
    "from keras import callbacks,optimizers\n",
    "from keras import optimizers\n",
    "from keras.callbacks import ModelCheckpoint, EarlyStopping, ReduceLROnPlateau"
   ]
  },
  {
   "cell_type": "code",
   "execution_count": 2,
   "metadata": {
    "ExecuteTime": {
     "end_time": "2018-12-20T07:56:48.978910Z",
     "start_time": "2018-12-20T07:56:43.960595Z"
    }
   },
   "outputs": [],
   "source": [
    "import tensorflow as tf\n",
    "import keras.backend.tensorflow_backend as KTF\n",
    " \n",
    "KTF.set_session(tf.Session(config=tf.ConfigProto(device_count={'gpu':0})))"
   ]
  },
  {
   "cell_type": "code",
   "execution_count": 3,
   "metadata": {
    "ExecuteTime": {
     "end_time": "2018-12-20T07:56:48.982763Z",
     "start_time": "2018-12-20T07:56:48.980200Z"
    },
    "scrolled": true
   },
   "outputs": [],
   "source": [
    "import os\n",
    "rootpath = r\"/home/bingo/桌面/sales_forecasting/steel_storage_throughput_prediction\"\n",
    "os.chdir(rootpath)\n",
    "# os.environ[\"CUDA_VISIBLE_DEVICES\"]=\"0\""
   ]
  },
  {
   "cell_type": "markdown",
   "metadata": {},
   "source": [
    "### selecting data\n",
    "- 加载表格，库存数据集、储户费用数据集、出入库训练集\n",
    "- 预测任务\n",
    "    - 1.按照两大类货品类型（冷卷、热卷），分别预测未来4个周钢铁的周入库量和周出库量（重量）；\n",
    "    - 2.按照两大类货品类型（冷卷、热卷），分别预测未来i天的日入库量和日出库量（重量）。\n",
    "- 只有产品名称是热卷和圆钢为热卷类型，其余均为冷卷类型\n",
    "- 整理目标：仅筛选出包含冷卷和热卷两种货品的数据集，添加新列表示冷卷或热卷"
   ]
  },
  {
   "cell_type": "raw",
   "metadata": {},
   "source": [
    "field_names = pd.read_csv(r\"01.初赛下载数据/字段说明.csv\")"
   ]
  },
  {
   "cell_type": "raw",
   "metadata": {},
   "source": [
    "# 入库字段说明\n",
    "field_names.tail(9)"
   ]
  },
  {
   "cell_type": "raw",
   "metadata": {},
   "source": [
    "df_train_in = pd.read_csv(r\"01.初赛下载数据/trainData_IN.csv\")\n",
    "df_train_ext = pd.read_csv(r\"01.初赛下载数据/trainData_EXT.csv\")"
   ]
  },
  {
   "cell_type": "raw",
   "metadata": {},
   "source": [
    "cool_col = {\"type\":\"冷卷\", \"type_id\":0}\n",
    "hot_col = {\"type\":\"热卷\", \"type_id\":1}"
   ]
  },
  {
   "cell_type": "raw",
   "metadata": {},
   "source": [
    "def get_item(dataset, target_col, item_list, new_col=None):\n",
    "    df = pd.DataFrame(columns=dataset.columns)\n",
    "    for item in item_list:\n",
    "        temp = dataset[dataset[target_col]==item]\n",
    "        df = pd.concat([df,temp], axis=0)\n",
    "    if new_col:\n",
    "        for key, item in new_col.items():\n",
    "            df[key] = item\n",
    "    return df"
   ]
  },
  {
   "cell_type": "raw",
   "metadata": {},
   "source": [
    "hot_in = [\"热卷\",\"圆钢\"]\n",
    "cool_in = set(df_train_in[\"r201i\"].unique()) - set(hot_in)\n",
    "\n",
    "train_in_hot = get_item(df_train_in, \"r201i\", hot_in, hot_col)\n",
    "train_in_cool = get_item(df_train_in, \"r201i\", cool_in, cool_col)\n",
    "train_in_both = pd.concat([train_in_hot,train_in_cool],axis=0)\n",
    "del train_in_hot,train_in_cool"
   ]
  },
  {
   "cell_type": "raw",
   "metadata": {},
   "source": [
    "hot_ext = [\"热卷\",\"圆钢\"]\n",
    "cool_ext = set(df_train_ext[\"c201i\"].unique()) - set(hot_ext)\n",
    "\n",
    "train_ext_hot = get_item(df_train_ext, \"c201i\", hot_ext, hot_col)\n",
    "train_ext_cool = get_item(df_train_ext, \"c201i\", cool_ext, cool_col)\n",
    "train_ext_both = pd.concat([train_ext_hot, train_ext_cool], axis=0)\n",
    "del train_ext_cool, train_ext_hot"
   ]
  },
  {
   "cell_type": "raw",
   "metadata": {},
   "source": [
    "# 出入库数据集样本数\n",
    "print(\"train_in samples: \", train_in_both.shape)\n",
    "print(\"train_ext samples: \", train_ext_both.shape)"
   ]
  },
  {
   "cell_type": "raw",
   "metadata": {},
   "source": [
    "train_in_both.info()"
   ]
  },
  {
   "cell_type": "raw",
   "metadata": {},
   "source": [
    "train_in_both.to_csv(\"data/train_in.csv\",index=False)\n",
    "train_ext_both.to_csv(\"data/train_ext.csv\", index=False)"
   ]
  },
  {
   "cell_type": "markdown",
   "metadata": {},
   "source": [
    "### loading data\n",
    "- 加载表格：加载提取后的出入库数据集\n",
    "- 整理目标\n",
    "    - 转换为储户id-产品id-日期格式三层索引，做为训练集格式\n",
    "    - 无记录时间记出入库重量为0\n",
    "    - 补齐中断的缺失时间，时间范围为(2014-02-24,2018-01-28)"
   ]
  },
  {
   "cell_type": "raw",
   "metadata": {},
   "source": [
    "# 入库训练集\n",
    "dtypes = {\n",
    "    \"r2014\":str,\n",
    "    \"r2015\":int,\n",
    "    \"r2019\":float,\n",
    "    \"type_id\":int,\n",
    "}\n",
    "use_cols = [0,1,5,10]\n",
    "# dates = [\"r2021\",\"r2022\"]\n",
    "train_in = pd.read_csv(\"data/train_in.csv\",dtype=dtypes,usecols=use_cols)\n",
    "\n",
    "train_in[\"date\"] = pd.to_datetime(train_in[\"r2014\"].apply(lambda x:x[2:10]))"
   ]
  },
  {
   "cell_type": "raw",
   "metadata": {},
   "source": [
    "# 选择数据列，更改列名\n",
    "select_col = [\"date\",\"r2015\",\"r2019\",\"type_id\"]\n",
    "new_names = [\"date\",\"store_id\",\"sales\", \"type_id\"]\n",
    "train_in = train_in[select_col]\n",
    "\n",
    "train_in.columns = new_names"
   ]
  },
  {
   "cell_type": "raw",
   "metadata": {},
   "source": [
    "# 补全2014-2-24 2018-01-28日期内，缺失的时间及记录\n",
    "temp = train_in.groupby([\"store_id\",\"type_id\",\"date\"])[[\"sales\"]].sum().unstack(level=-1).fillna(0)\n",
    "temp.columns = temp.columns.get_level_values(1)\n",
    "\n",
    "# 2014-02-24为周一，2018-01-28为周日\n",
    "train_in_all = pd.DataFrame(temp, index=temp.index, \n",
    "                            columns=pd.date_range(date(2014,2,24), date(2018,1,28)))\n",
    "train_in_all.fillna(0,inplace=True)"
   ]
  },
  {
   "cell_type": "raw",
   "metadata": {},
   "source": [
    "# 出库训练集\n",
    "dtypes = {\n",
    "    \"c2014\":str,\n",
    "    \"c2015\":int,\n",
    "    \"c2019\":float,\n",
    "    \"type_id\":int,\n",
    "}\n",
    "use_cols = [0,1,5,10]\n",
    "# dates = [\"r2021\",\"r2022\"]\n",
    "train_ext = pd.read_csv(\"data/train_ext.csv\",dtype=dtypes,usecols=use_cols)\n",
    "\n",
    "train_ext[\"date\"] = pd.to_datetime(train_ext[\"c2014\"].\\\n",
    "                                   apply(lambda x:\"\".join(list(filter(str.isdigit,x))[:8])))"
   ]
  },
  {
   "cell_type": "raw",
   "metadata": {},
   "source": [
    "select_col = [\"date\",\"c2015\",\"c2019\",\"type_id\"]\n",
    "\n",
    "train_ext = train_ext[select_col]\n",
    "train_ext.columns = new_names"
   ]
  },
  {
   "cell_type": "raw",
   "metadata": {},
   "source": [
    "temp = train_ext.groupby([\"store_id\",\"type_id\",\"date\"])[[\"sales\"]].sum().unstack(level=-1).fillna(0)\n",
    "temp.columns = temp.columns.get_level_values(1)\n",
    "\n",
    "train_ext_all = pd.DataFrame(temp, index=temp.index, \n",
    "                             columns=pd.date_range(date(2014,2,24),date(2018,1,28)))\n",
    "train_ext_all.fillna(0, inplace=True)"
   ]
  },
  {
   "cell_type": "raw",
   "metadata": {},
   "source": [
    "train_in_all.to_csv(\"data/train_in_all.csv\")\n",
    "train_ext_all.to_csv(\"data/train_ext_all.csv\")"
   ]
  },
  {
   "cell_type": "markdown",
   "metadata": {},
   "source": [
    "### data extraction\n",
    "- 特征提取\n",
    "- 滑窗选取数据集\n",
    "- 有大量0数值，稀疏数据\n",
    "- 以4周数据，预测下一周i天数据\n",
    "- 时间点\n",
    "    - 测试集：2018-01-28\n",
    "    - 验证集：2018-01-21\n",
    "    - 训练集：2018-01-14"
   ]
  },
  {
   "cell_type": "code",
   "execution_count": 4,
   "metadata": {
    "ExecuteTime": {
     "end_time": "2018-12-20T07:56:49.121082Z",
     "start_time": "2018-12-20T07:56:48.984993Z"
    },
    "scrolled": true
   },
   "outputs": [],
   "source": [
    "# 合并含有大量0值的行\n",
    "def merge_zeros_cols(df, merge_end=500, merge_step=50):\n",
    "    freq = df.columns.freqstr\n",
    "    # 添加一列统计每行0值，用于合并\n",
    "    notzeros = np.count_nonzero(df, axis=1)\n",
    "    merge_list = np.arange(0,merge_end+1,merge_step)\n",
    "    df = df.reset_index()\n",
    "    # 不用合并的行\n",
    "    df_ = df[notzeros>=merge_end].set_index(\"type_id\")\n",
    "    for i, value in enumerate(merge_list[:-1]):\n",
    "        # 待合并行的布尔索引\n",
    "        ind = (notzeros>=value)&(notzeros<merge_list[i+1])\n",
    "        tmp = df.iloc[ind,:]\n",
    "        tmp = tmp.groupby(\"type_id\").sum(axis=0)\n",
    "        tmp[\"store_id\"] = merge_list[i+1]\n",
    "        df_ = pd.concat([df_,tmp],axis=0)\n",
    "#     df_ = df_.drop(\"notzeros\",axis=0)\n",
    "    df_ = df_.reset_index().set_index([\"store_id\",\"type_id\"])\n",
    "    df_.columns = pd.DatetimeIndex(df_.columns,freq=freq)\n",
    "    return df_"
   ]
  },
  {
   "cell_type": "code",
   "execution_count": 5,
   "metadata": {
    "ExecuteTime": {
     "end_time": "2018-12-20T07:56:49.220935Z",
     "start_time": "2018-12-20T07:56:49.122891Z"
    },
    "scrolled": true
   },
   "outputs": [],
   "source": [
    "def cnt_zeros(df):\n",
    "    notzeros = np.count_nonzero(df,axis=1)\n",
    "    zeros = df.shape[1]-notzeros\n",
    "    zeros_ratio = zeros/df.shape[1]\n",
    "    pd.Series(zeros_ratio).hist()"
   ]
  },
  {
   "cell_type": "markdown",
   "metadata": {},
   "source": [
    "####  导入数据"
   ]
  },
  {
   "cell_type": "code",
   "execution_count": 6,
   "metadata": {
    "ExecuteTime": {
     "end_time": "2018-12-20T07:56:50.685744Z",
     "start_time": "2018-12-20T07:56:49.222045Z"
    },
    "scrolled": true
   },
   "outputs": [
    {
     "name": "stdout",
     "output_type": "stream",
     "text": [
      "df_train_in shape:  (1219, 1463)\n",
      "df_train_ext_shape:  (1213, 1463)\n",
      "df_train_in_nums shape:  (1219, 1463)\n",
      "df_train_ext_nums shape:  (1213, 1463)\n"
     ]
    }
   ],
   "source": [
    "# 导入数据集，保持稀疏性\n",
    "# converters={\"unit_sales\":lambda x:np.log1p(float(x)) if float(x)>0 else 0}\n",
    "span = 30\n",
    "\n",
    "df_train_in = pd.read_csv(\"data/train_in_all.csv\").set_index([\"store_id\",\"type_id\"])\n",
    "df_train_in.columns = pd.to_datetime(df_train_in.columns)\n",
    "df_train_in.columns.name = \"date\"\n",
    "\n",
    "df_train_ext = pd.read_csv(\"data/train_ext_all.csv\").set_index([\"store_id\",\"type_id\"])\n",
    "df_train_ext.columns = pd.to_datetime(df_train_ext.columns)\n",
    "df_train_ext.columns.name = \"date\"\n",
    "\n",
    "df_train_in = df_train_in/1000\n",
    "df_train_ext = df_train_ext/1000\n",
    "\n",
    "df_train_in_nums = pd.read_csv(\"data/train_in_all_nums.csv\").set_index([\"store_id\",\"type_id\"])/1000\n",
    "df_train_in_nums.columns = pd.to_datetime(df_train_in_nums.columns)\n",
    "df_train_in_nums.columns.name = \"date\"\n",
    "\n",
    "df_train_ext_nums = pd.read_csv(\"data/train_ext_all_nums.csv\").set_index([\"store_id\",\"type_id\"])/1000\n",
    "df_train_ext_nums.columns = pd.to_datetime(df_train_ext_nums.columns)\n",
    "df_train_ext_nums.columns.name = \"date\"\n",
    "\n",
    "df_train_in = df_train_in.ewm(span=span, axis=1).mean()\n",
    "df_train_ext = df_train_ext.ewm(span=span, axis=1).mean()\n",
    "df_train_in_nums = df_train_in_nums.ewm(span=span, axis=1).mean()\n",
    "df_train_ext_nums = df_train_ext_nums.ewm(span=span, axis=1).mean()\n",
    "\n",
    "print(\"df_train_in shape: \", df_train_in.shape)\n",
    "print(\"df_train_ext_shape: \", df_train_ext.shape)\n",
    "print(\"df_train_in_nums shape: \", df_train_in_nums.shape)\n",
    "print(\"df_train_ext_nums shape: \", df_train_ext_nums.shape)"
   ]
  },
  {
   "cell_type": "markdown",
   "metadata": {},
   "source": [
    "#### 周/天数据整理"
   ]
  },
  {
   "cell_type": "code",
   "execution_count": 7,
   "metadata": {
    "ExecuteTime": {
     "end_time": "2018-12-20T07:57:35.012774Z",
     "start_time": "2018-12-20T07:56:50.687017Z"
    },
    "scrolled": true
   },
   "outputs": [
    {
     "name": "stdout",
     "output_type": "stream",
     "text": [
      "df_train_in_W shape:  (645, 209)\n",
      "df_train_ext_W shape:  (631, 209)\n",
      "df_train_in_nums_W shape:  (645, 209)\n",
      "df_train_ext_nums_W shape:  (631, 209)\n"
     ]
    }
   ],
   "source": [
    "# 取对数后重采样, 若先重采样再取对数则会预测值过大exp溢出\n",
    "# 150-50,(128,155); 200-100,(87,122);500-100,(37,57)\n",
    "\n",
    "# 有差分：合并->取对数->重采样->差分, 独立做一遍\n",
    "tmp_in = merge_zeros_cols(df_train_in, 500, 100).transpose()\n",
    "df_train_in_transpose = tmp_in\n",
    "\n",
    "tmp_ext = merge_zeros_cols(df_train_ext, 500, 100).transpose()\n",
    "df_train_ext_transpose = tmp_ext\n",
    "\n",
    "tmp_in_nums = merge_zeros_cols(df_train_in_nums, 500, 100).transpose()\n",
    "df_train_in_nums_transpose = tmp_in_nums\n",
    "\n",
    "tmp_ext_nums = merge_zeros_cols(df_train_ext_nums, 500, 100).transpose()\n",
    "df_train_ext_nums_transpose = tmp_ext_nums\n",
    "\n",
    "# 按周重采样\n",
    "df_train_in_W = df_train_in_transpose.resample(\"W\",closed=\"right\",label=\"right\").mean().transpose()\n",
    "df_train_in_2W = df_train_in_transpose.resample(\"2W\",closed=\"right\",label=\"right\").mean().transpose()\n",
    "df_train_in_3W = df_train_in_transpose.resample(\"3W\",closed=\"right\",label=\"right\").mean().transpose()\n",
    "df_train_in_4W = df_train_in_transpose.resample(\"4W\",closed=\"right\",label=\"right\").mean().transpose()\n",
    "\n",
    "df_train_ext_W = df_train_ext_transpose.resample(\"W\",closed=\"right\",label=\"right\").mean().transpose()\n",
    "df_train_ext_2W = df_train_ext_transpose.resample(\"2W\",closed=\"right\",label=\"right\").mean().transpose()\n",
    "df_train_ext_3W = df_train_ext_transpose.resample(\"3W\",closed=\"right\",label=\"right\").mean().transpose()\n",
    "df_train_ext_4W = df_train_ext_transpose.resample(\"4W\",closed=\"right\",label=\"right\").mean().transpose()\n",
    "\n",
    "# 数量重采样\n",
    "df_train_in_nums_W = df_train_in_nums_transpose.resample(\"W\",closed=\"right\",label=\"right\").mean().transpose()\n",
    "df_train_in_nums_2W = df_train_in_nums_transpose.resample(\"2W\",closed=\"right\",label=\"right\").mean().transpose()\n",
    "df_train_in_nums_3W = df_train_in_nums_transpose.resample(\"3W\",closed=\"right\",label=\"right\").mean().transpose()\n",
    "df_train_in_nums_4W = df_train_in_nums_transpose.resample(\"4W\",closed=\"right\",label=\"right\").mean().transpose()\n",
    "\n",
    "df_train_ext_nums_W = df_train_ext_nums_transpose.resample(\"W\",closed=\"right\",label=\"right\").mean().transpose()\n",
    "df_train_ext_nums_2W = df_train_ext_nums_transpose.resample(\"2W\",closed=\"right\",label=\"right\").mean().transpose()\n",
    "df_train_ext_nums_3W = df_train_ext_nums_transpose.resample(\"3W\",closed=\"right\",label=\"right\").mean().transpose()\n",
    "df_train_ext_nums_4W = df_train_ext_nums_transpose.resample(\"4W\",closed=\"right\",label=\"right\").mean().transpose()\n",
    "\n",
    "print(\"df_train_in_W shape: \",df_train_in_W.shape)\n",
    "print(\"df_train_ext_W shape: \",df_train_ext_W.shape)\n",
    "print(\"df_train_in_nums_W shape: \",df_train_in_nums_W.shape)\n",
    "print(\"df_train_ext_nums_W shape: \",df_train_ext_nums_W.shape)"
   ]
  },
  {
   "cell_type": "code",
   "execution_count": 8,
   "metadata": {
    "ExecuteTime": {
     "end_time": "2018-12-20T07:58:30.631952Z",
     "start_time": "2018-12-20T07:57:35.014389Z"
    },
    "scrolled": true
   },
   "outputs": [
    {
     "name": "stdout",
     "output_type": "stream",
     "text": [
      "df_train_in shape:  (645, 1463)\n",
      "df_train_ext_shape:  (631, 1463)\n"
     ]
    }
   ],
   "source": [
    "# 对于天数据，合并->取对数->差分\n",
    "# 先合并数据行\n",
    "df_train_in = merge_zeros_cols(df_train_in, merge_end=500, merge_step=50*2)#/1000 #100\n",
    "df_train_ext = merge_zeros_cols(df_train_ext, merge_end=500, merge_step=50*2)#/1000 #500,100\n",
    "\n",
    "# 再直接取对数\n",
    "df_train_in = df_train_in\n",
    "df_train_ext = df_train_ext\n",
    "\n",
    "# 数量处理\n",
    "df_train_in_nums = merge_zeros_cols(df_train_in_nums, merge_end=500, merge_step=50*2)#/1000 #100\n",
    "df_train_ext_nums = merge_zeros_cols(df_train_ext_nums, merge_end=500, merge_step=50*2)#/1000 #500,100\n",
    "\n",
    "# 再直接取对数\n",
    "# df_train_in_nums = np.log1p(df_train_in_nums)\n",
    "# df_train_ext_nums = np.log1p(df_train_ext_nums)\n",
    "\n",
    "print(\"df_train_in shape: \", df_train_in.shape)\n",
    "print(\"df_train_ext_shape: \", df_train_ext.shape)"
   ]
  },
  {
   "cell_type": "markdown",
   "metadata": {},
   "source": [
    "### 算法建模_byDay"
   ]
  },
  {
   "cell_type": "markdown",
   "metadata": {},
   "source": [
    "#### 训练集数据整理"
   ]
  },
  {
   "cell_type": "code",
   "execution_count": 9,
   "metadata": {
    "ExecuteTime": {
     "end_time": "2018-12-20T07:58:30.639157Z",
     "start_time": "2018-12-20T07:58:30.633475Z"
    }
   },
   "outputs": [],
   "source": [
    "def create_dataset_byday(df, dnums, dt, timesteps, freq=\"D\", futures=7, is_train=True):\n",
    "    x = df[pd.date_range(dt-timedelta(timesteps-1), periods=timesteps, freq=freq)]\n",
    "    x_nums = dnums[pd.date_range(dt-timedelta(timesteps-1), periods=timesteps, freq=freq)].values\n",
    "    dtype = x.reset_index()[[\"type_id\"]].values\n",
    "    x = x.values\n",
    "    \n",
    "    dims = x.shape\n",
    "    x = x.reshape(dims[0], dims[1], 1)\n",
    "    x_nums = x_nums.reshape(dims[0], dims[1], 1)\n",
    "    x = np.concatenate([x, x_nums], axis=-1)\n",
    "#     dtype = dtype.reshape(dims[0],1,1)\n",
    "#     x = np.concatenate([x, dtype], axis=1)\n",
    "    \n",
    "    if is_train:\n",
    "        y = df[pd.date_range(dt+timedelta(1), periods=futures)]\n",
    "        return x, y\n",
    "    return x"
   ]
  },
  {
   "cell_type": "code",
   "execution_count": 10,
   "metadata": {
    "ExecuteTime": {
     "end_time": "2018-12-20T07:58:30.719035Z",
     "start_time": "2018-12-20T07:58:30.640628Z"
    }
   },
   "outputs": [],
   "source": [
    "def train_generator_byday(df, dnums, dt, nums, timesteps, futures=7):\n",
    "    freq = df.columns.freqstr\n",
    "    while 1:\n",
    "        for i in range(nums):\n",
    "            pred_start = dt-timedelta(days=i)\n",
    "            yield create_dataset_byday(df, dnums, pred_start, timesteps, freq, futures)"
   ]
  },
  {
   "cell_type": "code",
   "execution_count": 11,
   "metadata": {
    "ExecuteTime": {
     "end_time": "2018-12-20T13:35:03.398973Z",
     "start_time": "2018-12-20T13:35:03.353570Z"
    },
    "scrolled": true
   },
   "outputs": [
    {
     "name": "stdout",
     "output_type": "stream",
     "text": [
      "x_test shape:  (1276, 105, 2)\n"
     ]
    }
   ],
   "source": [
    "timesteps = 7*15 #7*8\n",
    "num_days = 7*30 #7*20\n",
    "train_day = pd.concat([df_train_in, df_train_ext], axis=0)\n",
    "train_nums = pd.concat([df_train_in_nums, df_train_ext_nums], axis=0)\n",
    "\n",
    "tval = date(2018, 1, 21)\n",
    "x_val, y_val = create_dataset_byday(train_day, train_nums, tval, timesteps=timesteps, is_train=True)\n",
    "\n",
    "ttest = date(2018, 1, 28)\n",
    "x_test = create_dataset_byday(train_day, train_nums, ttest, timesteps=timesteps, is_train=False)\n",
    "print(\"x_test shape: \",x_test.shape)"
   ]
  },
  {
   "cell_type": "markdown",
   "metadata": {},
   "source": [
    "####  模型构建"
   ]
  },
  {
   "cell_type": "code",
   "execution_count": 12,
   "metadata": {
    "ExecuteTime": {
     "end_time": "2018-12-20T13:35:08.083830Z",
     "start_time": "2018-12-20T13:35:08.075967Z"
    },
    "hide_input": true
   },
   "outputs": [],
   "source": [
    "def model_byday(timesteps, feadims, outdim):\n",
    "    seq = Input(shape=(timesteps, feadims))\n",
    "    latentdims = 16\n",
    "    ks = 2\n",
    "    c1 = Conv1D(8, 1, activation=\"relu\")(seq)\n",
    "    \n",
    "    c2 = Conv1D(latentdims, ks, dilation_rate=1, padding=\"causal\", activation=\"relu\")(c1)\n",
    "    c3 = Conv1D(latentdims*2, ks, dilation_rate=2, padding=\"causal\", activation=\"relu\")(c2)\n",
    "    c4 = Dropout(0.1)(c3)\n",
    "    c4 = Conv1D(latentdims*4, ks, dilation_rate=2, padding=\"causal\", activation=\"relu\")(c4)\n",
    "    c5 = Conv1D(latentdims*8, ks, dilation_rate=2, padding=\"causal\", activation=\"relu\")(c4)\n",
    "    c6 = Dropout(0.1)(c5)\n",
    "    c6 = Conv1D(latentdims*16, ks, dilation_rate=2, padding=\"causal\", activation=\"relu\")(c6)\n",
    "    \n",
    "    c7 = Conv1D(latentdims*32, ks, dilation_rate=2, padding=\"causal\", activation=\"relu\")(c6)\n",
    "    \n",
    "    up6 = Conv1D(latentdims*16, ks, dilation_rate=2, padding=\"causal\", activation=\"relu\")(c7)\n",
    "    up5 = Conv1D(latentdims*8, ks, dilation_rate=2, padding=\"causal\", activation=\"relu\")(Add()([up6, c6]))\n",
    "    up4 = Conv1D(latentdims*4, ks, dilation_rate=2, padding=\"causal\", activation=\"relu\")(Add()([up5, c5]))\n",
    "    up3 = Conv1D(latentdims*2, ks, dilation_rate=2, padding=\"causal\", activation=\"relu\")(Add()([up4, c4]))\n",
    "    up2 = Conv1D(latentdims, ks, dilation_rate=1, padding=\"causal\", activation=\"relu\")(Add()([up3, c3]))\n",
    "    \n",
    "    c3 = Conv1D(8, 1, activation=\"relu\")(Add()([up2,c2]))\n",
    "    c3 = Dropout(0.1)(c3)\n",
    "    c4 = Add()([c1, c3])\n",
    "#     c4 = concatenate([c1, c3])\n",
    "\n",
    "#     c3 = concatenate([c1,c2])\n",
    "#     c4 = Conv1D(8*2, 1, activation=\"relu\")(c3)\n",
    "    \n",
    "    d1 = Dropout(0.1)(c4)\n",
    "    d1 = Dense(512//16, activation=\"relu\")(Flatten()(d1))\n",
    "#     d1 = Dense(256//4,activation=\"relu\")(d1)\n",
    "#     d1 = Dense(128//4, activation=\"relu\")(d1)\n",
    "    \n",
    "    output = Dense(outdim, activation=\"relu\")(d1)\n",
    "    model = Model(inputs=seq, outputs=output)\n",
    "    return model"
   ]
  },
  {
   "cell_type": "code",
   "execution_count": 13,
   "metadata": {},
   "outputs": [],
   "source": [
    "def model_byday(timesteps, feadims, outdim):\n",
    "    seq = Input(shape=(timesteps, feadims))\n",
    "    latentdims = 32\n",
    "    ks = 2\n",
    "    c1 = Conv1D(latentdims, ks, dilation_rate=1, padding=\"causal\", activation=\"relu\")(seq)\n",
    "    c2 = Conv1D(latentdims, ks, dilation_rate=2, padding=\"causal\", activation=\"relu\")(c1)\n",
    "    c2 = Conv1D(latentdims, ks, dilation_rate=4, padding=\"causal\", activation=\"relu\")(c2)\n",
    "    c2 = Conv1D(latentdims, ks, dilation_rate=8, padding=\"causal\", activation=\"relu\")(c2)\n",
    "\n",
    "    c3 = concatenate([c1,c2])\n",
    "\n",
    "    c4 = Conv1D(8, 1, activation=\"relu\")(c3)\n",
    "\n",
    "    d1 = Dropout(0.1)(c4)\n",
    "    d1 = Dense(512,activation=\"relu\")(Flatten()(d1))\n",
    "    d1 = Dense(256, activation=\"relu\")(d1)\n",
    "\n",
    "    output = Dense(outdim, activation=\"relu\")(d1)\n",
    "    model = Model(inputs=seq, outputs=output)\n",
    "    return model"
   ]
  },
  {
   "cell_type": "code",
   "execution_count": 14,
   "metadata": {
    "ExecuteTime": {
     "end_time": "2018-12-20T13:38:33.443402Z",
     "start_time": "2018-12-20T13:36:04.351343Z"
    },
    "hide_input": false
   },
   "outputs": [],
   "source": [
    "n = 1\n",
    "t2018 = date(2018, 1, 14)+timedelta(28*n)\n",
    "\n",
    "# timesteps = 7*4\n",
    "\n",
    "N_EPOCHS = 500\n",
    "feadims = 2\n",
    "outdim = 7"
   ]
  },
  {
   "cell_type": "code",
   "execution_count": 15,
   "metadata": {
    "ExecuteTime": {
     "end_time": "2018-12-20T13:38:33.443402Z",
     "start_time": "2018-12-20T13:36:04.351343Z"
    },
    "hide_input": true,
    "scrolled": true
   },
   "outputs": [
    {
     "name": "stdout",
     "output_type": "stream",
     "text": [
      "==================================================\n",
      "training model  2018-12-24 16:19:47.695788\n",
      "==================================================\n",
      "Epoch 1/500\n",
      " - 2s - loss: 0.0025 - mean_squared_error: 0.0025 - val_loss: 0.0020 - val_mean_squared_error: 0.0020\n",
      "Epoch 2/500\n",
      " - 0s - loss: 0.0017 - mean_squared_error: 0.0017 - val_loss: 0.0017 - val_mean_squared_error: 0.0017\n",
      "Epoch 3/500\n",
      " - 0s - loss: 0.0016 - mean_squared_error: 0.0016 - val_loss: 0.0011 - val_mean_squared_error: 0.0011\n",
      "Epoch 4/500\n",
      " - 0s - loss: 0.0013 - mean_squared_error: 0.0013 - val_loss: 7.4109e-04 - val_mean_squared_error: 7.4109e-04\n",
      "Epoch 5/500\n",
      " - 0s - loss: 9.0631e-04 - mean_squared_error: 9.0631e-04 - val_loss: 7.3111e-04 - val_mean_squared_error: 7.3111e-04\n",
      "Epoch 6/500\n",
      " - 0s - loss: 5.8533e-04 - mean_squared_error: 5.8533e-04 - val_loss: 4.7260e-04 - val_mean_squared_error: 4.7260e-04\n",
      "Epoch 7/500\n",
      " - 0s - loss: 4.5292e-04 - mean_squared_error: 4.5292e-04 - val_loss: 3.8666e-04 - val_mean_squared_error: 3.8666e-04\n",
      "Epoch 8/500\n",
      " - 0s - loss: 3.9844e-04 - mean_squared_error: 3.9844e-04 - val_loss: 4.1770e-04 - val_mean_squared_error: 4.1770e-04\n",
      "Epoch 9/500\n",
      " - 0s - loss: 5.5219e-04 - mean_squared_error: 5.5219e-04 - val_loss: 2.8794e-04 - val_mean_squared_error: 2.8794e-04\n",
      "Epoch 10/500\n",
      " - 0s - loss: 4.1288e-04 - mean_squared_error: 4.1288e-04 - val_loss: 3.5792e-04 - val_mean_squared_error: 3.5792e-04\n",
      "Epoch 11/500\n",
      " - 0s - loss: 4.3974e-04 - mean_squared_error: 4.3974e-04 - val_loss: 2.7803e-04 - val_mean_squared_error: 2.7803e-04\n",
      "Epoch 12/500\n",
      " - 0s - loss: 3.9106e-04 - mean_squared_error: 3.9106e-04 - val_loss: 3.1720e-04 - val_mean_squared_error: 3.1720e-04\n",
      "Epoch 13/500\n",
      " - 0s - loss: 4.3717e-04 - mean_squared_error: 4.3717e-04 - val_loss: 4.8253e-04 - val_mean_squared_error: 4.8253e-04\n",
      "Epoch 14/500\n",
      " - 0s - loss: 4.6242e-04 - mean_squared_error: 4.6242e-04 - val_loss: 2.9632e-04 - val_mean_squared_error: 2.9632e-04\n",
      "Epoch 15/500\n",
      " - 0s - loss: 4.2622e-04 - mean_squared_error: 4.2622e-04 - val_loss: 2.0864e-04 - val_mean_squared_error: 2.0864e-04\n",
      "Epoch 16/500\n",
      " - 0s - loss: 4.4522e-04 - mean_squared_error: 4.4522e-04 - val_loss: 2.5512e-04 - val_mean_squared_error: 2.5512e-04\n",
      "Epoch 17/500\n",
      " - 0s - loss: 5.5014e-04 - mean_squared_error: 5.5014e-04 - val_loss: 2.6296e-04 - val_mean_squared_error: 2.6296e-04\n",
      "Epoch 18/500\n",
      " - 0s - loss: 5.7205e-04 - mean_squared_error: 5.7205e-04 - val_loss: 4.1708e-04 - val_mean_squared_error: 4.1708e-04\n",
      "Epoch 19/500\n",
      " - 0s - loss: 4.9230e-04 - mean_squared_error: 4.9230e-04 - val_loss: 8.4946e-04 - val_mean_squared_error: 8.4946e-04\n",
      "Epoch 20/500\n",
      " - 0s - loss: 6.3543e-04 - mean_squared_error: 6.3543e-04 - val_loss: 0.0012 - val_mean_squared_error: 0.0012\n",
      "Epoch 21/500\n",
      " - 0s - loss: 9.7514e-04 - mean_squared_error: 9.7514e-04 - val_loss: 3.7511e-04 - val_mean_squared_error: 3.7511e-04\n",
      "Epoch 22/500\n",
      " - 0s - loss: 9.5834e-04 - mean_squared_error: 9.5834e-04 - val_loss: 7.7447e-04 - val_mean_squared_error: 7.7447e-04\n",
      "\n",
      "Epoch 00022: ReduceLROnPlateau reducing learning rate to 0.00010000000474974513.\n",
      "Epoch 23/500\n",
      " - 0s - loss: 6.4650e-04 - mean_squared_error: 6.4650e-04 - val_loss: 6.3048e-04 - val_mean_squared_error: 6.3048e-04\n",
      "Epoch 24/500\n",
      " - 0s - loss: 5.1273e-04 - mean_squared_error: 5.1273e-04 - val_loss: 4.3857e-04 - val_mean_squared_error: 4.3857e-04\n",
      "Epoch 25/500\n",
      " - 0s - loss: 5.5280e-04 - mean_squared_error: 5.5280e-04 - val_loss: 3.6629e-04 - val_mean_squared_error: 3.6629e-04\n"
     ]
    },
    {
     "data": {
      "text/plain": [
       "<matplotlib.legend.Legend at 0x7f7834219240>"
      ]
     },
     "execution_count": 15,
     "metadata": {},
     "output_type": "execute_result"
    },
    {
     "data": {
      "image/png": "[encoded data removed]",
      "text/plain": [
       "<Figure size 432x288 with 1 Axes>"
      ]
     },
     "metadata": {
      "needs_background": "light"
     },
     "output_type": "display_data"
    }
   ],
   "source": [
    "if not os.path.exists(r\"./model/model2\"):\n",
    "    os.mkdir(r\"./model/model2\")\n",
    "\n",
    "train_gene = train_generator_byday(train_day, train_nums, t2018, num_days, timesteps)\n",
    "\n",
    "modelday = model_byday(timesteps, feadims, outdim)\n",
    "\n",
    "print(\"=\"*50)\n",
    "print(\"training model \", datetime.now())\n",
    "print(\"=\"*50)\n",
    "opt = optimizers.Adam(lr=0.001)\n",
    "modelday.compile(loss=\"mse\", optimizer=opt, metrics=[\"mse\"])\n",
    "callbacks_fn = [\n",
    "        EarlyStopping(monitor=\"val_loss\", patience=10, verbose=0),\n",
    "        ReduceLROnPlateau(monitor=\"val_loss\", factor=0.1, patience=7,\\\n",
    "                          verbose=1, min_delta=1e-6, mode=\"min\")\n",
    "    ]\n",
    "    \n",
    "history = modelday.fit_generator(train_gene, epochs=N_EPOCHS, steps_per_epoch=3,\n",
    "      verbose=2, validation_data=(x_val, y_val), callbacks=callbacks_fn)\n",
    "\n",
    "val_pred = modelday.predict(x_val)\n",
    "modelday.save(r\"./model/model2/bst_byday\"+\".hdf5\")\n",
    "plt.plot(history.history[\"loss\"],label=\"train_loss\")\n",
    "plt.plot(history.history[\"val_loss\"], label=\"val_loss\")\n",
    "plt.legend()"
   ]
  },
  {
   "cell_type": "code",
   "execution_count": 16,
   "metadata": {
    "ExecuteTime": {
     "end_time": "2018-12-20T13:38:38.139632Z",
     "start_time": "2018-12-20T13:38:38.135533Z"
    },
    "scrolled": true
   },
   "outputs": [
    {
     "name": "stdout",
     "output_type": "stream",
     "text": [
      "__________________________________________________________________________________________________\n",
      "Layer (type)                    Output Shape         Param #     Connected to                     \n",
      "==================================================================================================\n",
      "input_1 (InputLayer)            (None, 105, 2)       0                                            \n",
      "__________________________________________________________________________________________________\n",
      "conv1d_1 (Conv1D)               (None, 105, 32)      160         input_1[0][0]                    \n",
      "__________________________________________________________________________________________________\n",
      "conv1d_2 (Conv1D)               (None, 105, 32)      2080        conv1d_1[0][0]                   \n",
      "__________________________________________________________________________________________________\n",
      "conv1d_3 (Conv1D)               (None, 105, 32)      2080        conv1d_2[0][0]                   \n",
      "__________________________________________________________________________________________________\n",
      "conv1d_4 (Conv1D)               (None, 105, 32)      2080        conv1d_3[0][0]                   \n",
      "__________________________________________________________________________________________________\n",
      "concatenate_1 (Concatenate)     (None, 105, 64)      0           conv1d_1[0][0]                   \n",
      "                                                                 conv1d_4[0][0]                   \n",
      "__________________________________________________________________________________________________\n",
      "conv1d_5 (Conv1D)               (None, 105, 8)       520         concatenate_1[0][0]              \n",
      "__________________________________________________________________________________________________\n",
      "dropout_1 (Dropout)             (None, 105, 8)       0           conv1d_5[0][0]                   \n",
      "__________________________________________________________________________________________________\n",
      "flatten_1 (Flatten)             (None, 840)          0           dropout_1[0][0]                  \n",
      "__________________________________________________________________________________________________\n",
      "dense_1 (Dense)                 (None, 512)          430592      flatten_1[0][0]                  \n",
      "__________________________________________________________________________________________________\n",
      "dense_2 (Dense)                 (None, 256)          131328      dense_1[0][0]                    \n",
      "__________________________________________________________________________________________________\n",
      "dense_3 (Dense)                 (None, 7)            1799        dense_2[0][0]                    \n",
      "==================================================================================================\n",
      "Total params: 570,639\n",
      "Trainable params: 570,639\n",
      "Non-trainable params: 0\n",
      "__________________________________________________________________________________________________\n"
     ]
    }
   ],
   "source": [
    "modelday.summary()"
   ]
  },
  {
   "cell_type": "markdown",
   "metadata": {
    "hide_input": false
   },
   "source": [
    "### 算法建模_byWeek"
   ]
  },
  {
   "cell_type": "markdown",
   "metadata": {},
   "source": [
    "#### 训练集数据整理"
   ]
  },
  {
   "cell_type": "code",
   "execution_count": 17,
   "metadata": {
    "ExecuteTime": {
     "end_time": "2018-12-20T07:58:41.583283Z",
     "start_time": "2018-12-20T07:58:41.453187Z"
    }
   },
   "outputs": [],
   "source": [
    "def create_dataset_byweek(df, dnums, dt, timesteps, freq=None, steps=7, futures=1, is_train=True):\n",
    "    if not freq:\n",
    "        freq = df.columns.freqstr\n",
    "    x = df[pd.date_range(dt-timedelta(int(timesteps*steps)), periods=timesteps, freq=freq)]\n",
    "    x_nums = dnums[pd.date_range(dt-timedelta(int(timesteps*steps)), periods=timesteps, freq=freq)].values\n",
    "    dtype = x.reset_index()[[\"type_id\"]].values\n",
    "    x = x.values\n",
    "    \n",
    "    dims = x.shape\n",
    "    x = x.reshape(dims[0], dims[1], 1)\n",
    "    x_nums = x_nums.reshape(dims[0], dims[1], 1)\n",
    "    x = np.concatenate([x, x_nums], axis=-1)\n",
    "    \n",
    "    if is_train:\n",
    "        y = df[pd.date_range(dt, periods=futures)]\n",
    "        return x, y\n",
    "    return x"
   ]
  },
  {
   "cell_type": "code",
   "execution_count": 18,
   "metadata": {
    "ExecuteTime": {
     "end_time": "2018-12-20T07:58:41.679225Z",
     "start_time": "2018-12-20T07:58:41.584694Z"
    }
   },
   "outputs": [],
   "source": [
    "def train_generator_byweek(df, dnums, dt, nums, timesteps, steps=1, futures=1):\n",
    "    freq = df.columns.freqstr\n",
    "    while 1:\n",
    "        for i in range(nums):\n",
    "            pred_start = dt-timedelta(days=int(i*steps))\n",
    "            yield create_dataset_byweek(df, dnums, pred_start, timesteps, freq, steps, futures)"
   ]
  },
  {
   "cell_type": "code",
   "execution_count": 19,
   "metadata": {
    "ExecuteTime": {
     "end_time": "2018-12-20T07:58:41.792311Z",
     "start_time": "2018-12-20T07:58:41.680634Z"
    }
   },
   "outputs": [
    {
     "name": "stdout",
     "output_type": "stream",
     "text": [
      "train_nums_W shape:  (1276, 209)\n",
      "train_nums_2W shape:  (1276, 105)\n"
     ]
    }
   ],
   "source": [
    "train_W = pd.concat([df_train_in_W, df_train_ext_W], axis=0)\n",
    "train_2W = pd.concat([df_train_in_2W, df_train_ext_2W], axis=0) \n",
    "train_3W = pd.concat([df_train_in_3W, df_train_ext_3W], axis=0)\n",
    "train_4W = pd.concat([df_train_in_4W, df_train_ext_4W], axis=0)\n",
    "train_Wall = [train_W, train_2W, train_3W, train_4W]\n",
    "\n",
    "train_nums_W = pd.concat([df_train_in_nums_W, df_train_ext_nums_W], axis=0)\n",
    "train_nums_2W = pd.concat([df_train_in_nums_2W, df_train_ext_nums_2W], axis=0) \n",
    "train_nums_3W = pd.concat([df_train_in_nums_3W, df_train_ext_nums_3W], axis=0)\n",
    "train_nums_4W = pd.concat([df_train_in_nums_4W, df_train_ext_nums_4W], axis=0)\n",
    "train_nums_Wall = [train_nums_W, train_nums_2W, train_nums_3W, train_nums_4W]\n",
    "print(\"train_nums_W shape: \", train_nums_W.shape)\n",
    "print(\"train_nums_2W shape: \", train_nums_2W.shape)"
   ]
  },
  {
   "cell_type": "code",
   "execution_count": 20,
   "metadata": {
    "ExecuteTime": {
     "end_time": "2018-12-20T13:42:05.339526Z",
     "start_time": "2018-12-20T13:42:05.308401Z"
    },
    "scrolled": true
   },
   "outputs": [
    {
     "name": "stdout",
     "output_type": "stream",
     "text": [
      "x_test_W shape:  (1276, 21, 2)\n"
     ]
    }
   ],
   "source": [
    "# test_date=[\"2018-02-03\", \"2018-02-10\", \"2018-02-17\", \"2018-02-24\"]\n",
    "i=-1\n",
    "val_date = [\n",
    "    df_train_in_W.columns[i],\n",
    "    df_train_in_2W.columns[i],\n",
    "    df_train_in_3W.columns[i],\n",
    "    df_train_in_4W.columns[i]\n",
    "]  \n",
    "\n",
    "test_date = []\n",
    "steps = [7,14,21,28]\n",
    "for i in range(4):\n",
    "    test_date.append(val_date[i] + timedelta(steps[i]))\n",
    "    \n",
    "timesteps = 7*3 #14\n",
    "num_weeks = 7*3 #25\n",
    "\n",
    "ttest_W = datetime.strptime(test_date[0], \"%Y-%m-%d\") if isinstance(test_date[0], str) else test_date[0]\n",
    "x_test_W = create_dataset_byweek(train_Wall[0], train_nums_Wall[0],\n",
    "                                 ttest_W, timesteps, steps=steps[0], futures=1, is_train=False)\n",
    "\n",
    "ttest_2W = datetime.strptime(test_date[1], \"%Y-%m-%d\") if isinstance(test_date[1], str) else test_date[1]\n",
    "x_test_2W = create_dataset_byweek(train_Wall[1], train_nums_Wall[1], \n",
    "                                  ttest_2W, timesteps, steps=steps[1], futures=1, is_train=False)\n",
    "\n",
    "ttest_3W = datetime.strptime(test_date[2], \"%Y-%m-%d\") if isinstance(test_date[2], str) else test_date[2]\n",
    "x_test_3W = create_dataset_byweek(train_Wall[2], train_nums_Wall[2],\n",
    "                                  ttest_3W, timesteps, steps=steps[2], futures=1, is_train=False)\n",
    "\n",
    "ttest_4W = datetime.strptime(test_date[3], \"%Y-%m-%d\") if isinstance(test_date[3], str) else test_date[3]\n",
    "x_test_4W = create_dataset_byweek(train_Wall[3], train_nums_Wall[3],\n",
    "                                  ttest_4W, timesteps, steps=steps[3], futures=1, is_train=False)\n",
    "print(\"x_test_W shape: \", x_test_W.shape)"
   ]
  },
  {
   "cell_type": "markdown",
   "metadata": {},
   "source": [
    "####  模型构建"
   ]
  },
  {
   "cell_type": "code",
   "execution_count": 21,
   "metadata": {
    "ExecuteTime": {
     "end_time": "2018-12-20T13:42:09.954301Z",
     "start_time": "2018-12-20T13:42:09.946831Z"
    },
    "hide_input": true
   },
   "outputs": [],
   "source": [
    "def model_byweek(timesteps, feadims, outdim):\n",
    "    seq = Input(shape=(timesteps, feadims))\n",
    "    latentdims = 16\n",
    "    ks = 2\n",
    "    c1 = Conv1D(8, 1, activation=\"relu\")(seq)\n",
    "    \n",
    "    c2 = Conv1D(latentdims, ks, dilation_rate=1, padding=\"causal\", activation=\"relu\")(c1)\n",
    "    c3 = Conv1D(latentdims*2, ks, dilation_rate=2, padding=\"causal\", activation=\"relu\")(c2)\n",
    "    c4 = Dropout(0.1)(c3)\n",
    "    c4 = Conv1D(latentdims*4, ks, dilation_rate=2, padding=\"causal\", activation=\"relu\")(c4)\n",
    "    c5 = Conv1D(latentdims*8, ks, dilation_rate=2, padding=\"causal\", activation=\"relu\")(c4)\n",
    "#     c6 = Dropout(0.1)(c5)\n",
    "#     c6 = Conv1D(latentdims*16, ks, dilation_rate=2, padding=\"causal\", activation=\"relu\")(c6)\n",
    "    \n",
    "    c7 = Conv1D(latentdims*16, ks, dilation_rate=2, padding=\"causal\", activation=\"relu\")(c5)\n",
    "    \n",
    "#     up6 = Conv1D(latentdims*16, ks, dilation_rate=2, padding=\"causal\", activation=\"relu\")(c7)\n",
    "    up5 = Conv1D(latentdims*8, ks, dilation_rate=2, padding=\"causal\", activation=\"relu\")(c7)#(Add()([up6, c6]))\n",
    "    up4 = Conv1D(latentdims*4, ks, dilation_rate=2, padding=\"causal\", activation=\"relu\")(Add()([up5, c5]))\n",
    "    up3 = Conv1D(latentdims*2, ks, dilation_rate=2, padding=\"causal\", activation=\"relu\")(Add()([up4, c4]))\n",
    "    up2 = Conv1D(latentdims, ks, dilation_rate=1, padding=\"causal\", activation=\"relu\")(Add()([up3, c3]))\n",
    "    \n",
    "    c3 = Conv1D(8, 1, activation=\"relu\")(Add()([up2,c2]))\n",
    "    \n",
    "    c4 = Add()([c1, c3])\n",
    "\n",
    "    #     c3 = concatenate([c1, c2])\n",
    "\n",
    "#     c4 = Conv1D(8//2, 1, activation=\"relu\")(c3)\n",
    "\n",
    "    d1 = Dropout(0.1)(c4)\n",
    "    d1 = Dense(512//32, activation=\"relu\")(Flatten()(d1))\n",
    "#     d1 = Dense(256//32, activation=\"relu\")(d1)\n",
    "#     d1 = Dense(256, activation=\"relu\")(d1)\n",
    "#     d1 = Dense(128, activation=\"relu\")(d1)\n",
    "\n",
    "    output = Dense(outdim, activation=\"relu\")(d1)\n",
    "    model = Model(inputs=seq, outputs=output)\n",
    "    return model"
   ]
  },
  {
   "cell_type": "code",
   "execution_count": 22,
   "metadata": {},
   "outputs": [],
   "source": [
    "def model_byweek(timesteps, feadims, outdim):\n",
    "    seq = Input(shape=(timesteps, feadims))\n",
    "    latentdims = 32\n",
    "    ks = 2\n",
    "    c1 = Conv1D(latentdims, ks, dilation_rate=1, padding=\"causal\", activation=\"relu\")(seq)\n",
    "    c2 = Conv1D(latentdims, ks, dilation_rate=2, padding=\"causal\", activation=\"relu\")(c1)\n",
    "    c2 = Conv1D(latentdims, ks, dilation_rate=4, padding=\"causal\", activation=\"relu\")(c2)\n",
    "    c3 = concatenate([c1, c2])\n",
    "\n",
    "    c4 = Conv1D(8, 1, activation=\"relu\")(c3)\n",
    "\n",
    "    d1 = Dropout(0.1)(c4)\n",
    "    d1 = Dense(512, activation=\"relu\")(Flatten()(d1))\n",
    "    d1 = Dense(256, activation=\"relu\")(d1)\n",
    "\n",
    "    output = Dense(outdim, activation=\"relu\")(d1)\n",
    "    model = Model(inputs=seq, outputs=output)\n",
    "    return model"
   ]
  },
  {
   "cell_type": "code",
   "execution_count": 23,
   "metadata": {
    "ExecuteTime": {
     "end_time": "2018-12-20T13:52:05.702568Z",
     "start_time": "2018-12-20T13:46:23.077754Z"
    },
    "hide_input": false
   },
   "outputs": [],
   "source": [
    "# train_date = ['2018-01-21','2018-01-14', '2018-01-07', '2017-12-31']\n",
    "# val_date = ['2018-01-28', '2018-01-28', '2018-01-28', '2018-01-28']\n",
    "\n",
    "i = -2\n",
    "train_date = [\n",
    "    df_train_in_W.columns[i],\n",
    "    df_train_in_2W.columns[i],\n",
    "    df_train_in_3W.columns[i],\n",
    "    df_train_in_4W.columns[i]\n",
    "]\n",
    "\n",
    "i=-1\n",
    "val_date = [\n",
    "    df_train_in_W.columns[i],\n",
    "    df_train_in_2W.columns[i],\n",
    "    df_train_in_3W.columns[i],\n",
    "    df_train_in_4W.columns[i]\n",
    "]  \n",
    "\n",
    "steps = [7,14,21,28]\n",
    "N_EPOCHS = 1000\n",
    "feadims = 2\n",
    "outdim = 1\n",
    "val_pred_W = []"
   ]
  },
  {
   "cell_type": "code",
   "execution_count": 24,
   "metadata": {
    "ExecuteTime": {
     "end_time": "2018-12-20T13:52:05.702568Z",
     "start_time": "2018-12-20T13:46:23.077754Z"
    },
    "hide_input": true,
    "scrolled": true
   },
   "outputs": [
    {
     "name": "stdout",
     "output_type": "stream",
     "text": [
      "==================================================\n",
      "model_1\n",
      "training model  2018-12-24 16:19:54.316114\n",
      "==================================================\n",
      "Epoch 1/1000\n",
      " - 1s - loss: 0.0055 - mean_squared_error: 0.0055 - val_loss: 0.0020 - val_mean_squared_error: 0.0020\n",
      "Epoch 2/1000\n",
      " - 0s - loss: 0.0036 - mean_squared_error: 0.0036 - val_loss: 0.0023 - val_mean_squared_error: 0.0023\n",
      "Epoch 3/1000\n",
      " - 0s - loss: 0.0029 - mean_squared_error: 0.0029 - val_loss: 0.0054 - val_mean_squared_error: 0.0054\n",
      "Epoch 4/1000\n",
      " - 0s - loss: 0.0021 - mean_squared_error: 0.0021 - val_loss: 0.0053 - val_mean_squared_error: 0.0053\n",
      "Epoch 5/1000\n",
      " - 0s - loss: 0.0015 - mean_squared_error: 0.0015 - val_loss: 0.0053 - val_mean_squared_error: 0.0053\n",
      "Epoch 6/1000\n",
      " - 0s - loss: 0.0012 - mean_squared_error: 0.0012 - val_loss: 0.0065 - val_mean_squared_error: 0.0065\n",
      "Epoch 7/1000\n",
      " - 0s - loss: 0.0011 - mean_squared_error: 0.0011 - val_loss: 0.0032 - val_mean_squared_error: 0.0032\n",
      "Epoch 8/1000\n",
      " - 0s - loss: 0.0027 - mean_squared_error: 0.0027 - val_loss: 9.5275e-04 - val_mean_squared_error: 9.5275e-04\n",
      "Epoch 9/1000\n",
      " - 0s - loss: 0.0017 - mean_squared_error: 0.0017 - val_loss: 9.3790e-04 - val_mean_squared_error: 9.3790e-04\n",
      "Epoch 10/1000\n",
      " - 0s - loss: 0.0020 - mean_squared_error: 0.0020 - val_loss: 7.5744e-04 - val_mean_squared_error: 7.5744e-04\n",
      "Epoch 11/1000\n",
      " - 0s - loss: 0.0012 - mean_squared_error: 0.0012 - val_loss: 0.0033 - val_mean_squared_error: 0.0033\n",
      "Epoch 12/1000\n",
      " - 0s - loss: 0.0013 - mean_squared_error: 0.0013 - val_loss: 0.0022 - val_mean_squared_error: 0.0022\n",
      "Epoch 13/1000\n",
      " - 0s - loss: 9.5014e-04 - mean_squared_error: 9.5014e-04 - val_loss: 0.0018 - val_mean_squared_error: 0.0018\n",
      "Epoch 14/1000\n",
      " - 0s - loss: 9.5993e-04 - mean_squared_error: 9.5993e-04 - val_loss: 0.0019 - val_mean_squared_error: 0.0019\n",
      "Epoch 15/1000\n",
      " - 0s - loss: 0.0023 - mean_squared_error: 0.0023 - val_loss: 8.6199e-04 - val_mean_squared_error: 8.6199e-04\n",
      "Epoch 16/1000\n",
      " - 0s - loss: 0.0012 - mean_squared_error: 0.0012 - val_loss: 5.9392e-04 - val_mean_squared_error: 5.9392e-04\n",
      "Epoch 17/1000\n",
      " - 0s - loss: 0.0015 - mean_squared_error: 0.0015 - val_loss: 7.7183e-04 - val_mean_squared_error: 7.7183e-04\n",
      "Epoch 18/1000\n",
      " - 0s - loss: 0.0012 - mean_squared_error: 0.0012 - val_loss: 0.0011 - val_mean_squared_error: 0.0011\n",
      "Epoch 19/1000\n",
      " - 0s - loss: 7.8031e-04 - mean_squared_error: 7.8031e-04 - val_loss: 0.0014 - val_mean_squared_error: 0.0014\n",
      "Epoch 20/1000\n",
      " - 0s - loss: 6.4209e-04 - mean_squared_error: 6.4209e-04 - val_loss: 0.0011 - val_mean_squared_error: 0.0011\n",
      "Epoch 21/1000\n",
      " - 0s - loss: 6.0342e-04 - mean_squared_error: 6.0342e-04 - val_loss: 8.2742e-04 - val_mean_squared_error: 8.2742e-04\n",
      "Epoch 22/1000\n",
      " - 0s - loss: 0.0012 - mean_squared_error: 0.0012 - val_loss: 5.8650e-04 - val_mean_squared_error: 5.8650e-04\n",
      "Epoch 23/1000\n",
      " - 0s - loss: 5.2608e-04 - mean_squared_error: 5.2608e-04 - val_loss: 7.2875e-04 - val_mean_squared_error: 7.2875e-04\n",
      "Epoch 24/1000\n",
      " - 0s - loss: 0.0010 - mean_squared_error: 0.0010 - val_loss: 8.3844e-04 - val_mean_squared_error: 8.3844e-04\n",
      "Epoch 25/1000\n",
      " - 0s - loss: 7.1797e-04 - mean_squared_error: 7.1797e-04 - val_loss: 0.0012 - val_mean_squared_error: 0.0012\n",
      "Epoch 26/1000\n",
      " - 0s - loss: 5.2481e-04 - mean_squared_error: 5.2481e-04 - val_loss: 0.0013 - val_mean_squared_error: 0.0013\n",
      "Epoch 27/1000\n",
      " - 0s - loss: 5.1093e-04 - mean_squared_error: 5.1093e-04 - val_loss: 0.0013 - val_mean_squared_error: 0.0013\n",
      "Epoch 28/1000\n",
      " - 0s - loss: 5.3311e-04 - mean_squared_error: 5.3311e-04 - val_loss: 0.0010 - val_mean_squared_error: 0.0010\n",
      "Epoch 29/1000\n",
      " - 0s - loss: 0.0012 - mean_squared_error: 0.0012 - val_loss: 5.6095e-04 - val_mean_squared_error: 5.6095e-04\n",
      "Epoch 30/1000\n",
      " - 0s - loss: 6.0740e-04 - mean_squared_error: 6.0740e-04 - val_loss: 5.1907e-04 - val_mean_squared_error: 5.1907e-04\n",
      "Epoch 31/1000\n",
      " - 0s - loss: 7.9792e-04 - mean_squared_error: 7.9792e-04 - val_loss: 8.0223e-04 - val_mean_squared_error: 8.0223e-04\n",
      "Epoch 32/1000\n",
      " - 0s - loss: 7.5646e-04 - mean_squared_error: 7.5646e-04 - val_loss: 0.0014 - val_mean_squared_error: 0.0014\n",
      "Epoch 33/1000\n",
      " - 0s - loss: 7.1742e-04 - mean_squared_error: 7.1742e-04 - val_loss: 0.0015 - val_mean_squared_error: 0.0015\n",
      "Epoch 34/1000\n",
      " - 0s - loss: 4.9302e-04 - mean_squared_error: 4.9302e-04 - val_loss: 0.0016 - val_mean_squared_error: 0.0016\n",
      "Epoch 35/1000\n",
      " - 0s - loss: 5.0402e-04 - mean_squared_error: 5.0402e-04 - val_loss: 0.0011 - val_mean_squared_error: 0.0011\n",
      "Epoch 36/1000\n",
      " - 0s - loss: 0.0011 - mean_squared_error: 0.0011 - val_loss: 5.9740e-04 - val_mean_squared_error: 5.9740e-04\n",
      "Epoch 37/1000\n",
      " - 0s - loss: 7.0497e-04 - mean_squared_error: 7.0497e-04 - val_loss: 5.9039e-04 - val_mean_squared_error: 5.9039e-04\n",
      "\n",
      "Epoch 00037: ReduceLROnPlateau reducing learning rate to 0.0005000000237487257.\n",
      "Epoch 38/1000\n",
      " - 0s - loss: 5.9681e-04 - mean_squared_error: 5.9681e-04 - val_loss: 8.7500e-04 - val_mean_squared_error: 8.7500e-04\n",
      "Epoch 39/1000\n",
      " - 0s - loss: 8.5744e-04 - mean_squared_error: 8.5744e-04 - val_loss: 0.0012 - val_mean_squared_error: 0.0012\n",
      "Epoch 40/1000\n",
      " - 0s - loss: 5.4592e-04 - mean_squared_error: 5.4592e-04 - val_loss: 0.0010 - val_mean_squared_error: 0.0010\n",
      "Epoch 00040: early stopping\n",
      "==================================================\n",
      "model_2\n",
      "training model  2018-12-24 16:19:58.075441\n",
      "==================================================\n",
      "Epoch 1/1000\n",
      " - 1s - loss: 0.0077 - mean_squared_error: 0.0077 - val_loss: 0.0035 - val_mean_squared_error: 0.0035\n",
      "Epoch 2/1000\n",
      " - 0s - loss: 0.0093 - mean_squared_error: 0.0093 - val_loss: 0.0032 - val_mean_squared_error: 0.0032\n",
      "Epoch 3/1000\n",
      " - 0s - loss: 0.0060 - mean_squared_error: 0.0060 - val_loss: 0.0029 - val_mean_squared_error: 0.0029\n",
      "Epoch 4/1000\n",
      " - 0s - loss: 0.0028 - mean_squared_error: 0.0028 - val_loss: 0.0026 - val_mean_squared_error: 0.0026\n",
      "Epoch 5/1000\n",
      " - 0s - loss: 0.0035 - mean_squared_error: 0.0035 - val_loss: 0.0024 - val_mean_squared_error: 0.0024\n",
      "Epoch 6/1000\n",
      " - 0s - loss: 0.0047 - mean_squared_error: 0.0047 - val_loss: 0.0022 - val_mean_squared_error: 0.0022\n",
      "Epoch 7/1000\n",
      " - 0s - loss: 0.0045 - mean_squared_error: 0.0045 - val_loss: 0.0020 - val_mean_squared_error: 0.0020\n",
      "Epoch 8/1000\n",
      " - 0s - loss: 0.0045 - mean_squared_error: 0.0045 - val_loss: 0.0018 - val_mean_squared_error: 0.0018\n",
      "Epoch 9/1000\n",
      " - 0s - loss: 0.0056 - mean_squared_error: 0.0056 - val_loss: 0.0017 - val_mean_squared_error: 0.0017\n",
      "Epoch 10/1000\n",
      " - 0s - loss: 0.0030 - mean_squared_error: 0.0030 - val_loss: 0.0017 - val_mean_squared_error: 0.0017\n",
      "Epoch 11/1000\n",
      " - 0s - loss: 0.0013 - mean_squared_error: 0.0013 - val_loss: 0.0017 - val_mean_squared_error: 0.0017\n",
      "Epoch 12/1000\n",
      " - 0s - loss: 0.0016 - mean_squared_error: 0.0016 - val_loss: 0.0018 - val_mean_squared_error: 0.0018\n",
      "Epoch 13/1000\n",
      " - 0s - loss: 0.0021 - mean_squared_error: 0.0021 - val_loss: 0.0020 - val_mean_squared_error: 0.0020\n",
      "Epoch 14/1000\n",
      " - 0s - loss: 0.0018 - mean_squared_error: 0.0018 - val_loss: 0.0023 - val_mean_squared_error: 0.0023\n",
      "Epoch 15/1000\n",
      " - 0s - loss: 0.0032 - mean_squared_error: 0.0032 - val_loss: 0.0026 - val_mean_squared_error: 0.0026\n",
      "Epoch 16/1000\n",
      " - 0s - loss: 0.0032 - mean_squared_error: 0.0032 - val_loss: 0.0028 - val_mean_squared_error: 0.0028\n",
      "Epoch 17/1000\n",
      " - 0s - loss: 0.0015 - mean_squared_error: 0.0015 - val_loss: 0.0030 - val_mean_squared_error: 0.0030\n",
      "\n",
      "Epoch 00017: ReduceLROnPlateau reducing learning rate to 4.999999873689376e-05.\n",
      "Epoch 18/1000\n",
      " - 0s - loss: 0.0017 - mean_squared_error: 0.0017 - val_loss: 0.0029 - val_mean_squared_error: 0.0029\n",
      "Epoch 19/1000\n",
      " - 0s - loss: 0.0015 - mean_squared_error: 0.0015 - val_loss: 0.0027 - val_mean_squared_error: 0.0027\n",
      "Epoch 20/1000\n",
      " - 0s - loss: 0.0016 - mean_squared_error: 0.0016 - val_loss: 0.0026 - val_mean_squared_error: 0.0026\n",
      "Epoch 00020: early stopping\n",
      "==================================================\n",
      "model_3\n",
      "training model  2018-12-24 16:20:00.974275\n",
      "==================================================\n",
      "Epoch 1/1000\n",
      " - 1s - loss: 0.0070 - mean_squared_error: 0.0070 - val_loss: 0.0028 - val_mean_squared_error: 0.0028\n",
      "Epoch 2/1000\n",
      " - 0s - loss: 0.0072 - mean_squared_error: 0.0072 - val_loss: 0.0025 - val_mean_squared_error: 0.0025\n",
      "Epoch 3/1000\n",
      " - 0s - loss: 0.0026 - mean_squared_error: 0.0026 - val_loss: 0.0023 - val_mean_squared_error: 0.0023\n"
     ]
    },
    {
     "name": "stdout",
     "output_type": "stream",
     "text": [
      "Epoch 4/1000\n",
      " - 0s - loss: 0.0042 - mean_squared_error: 0.0042 - val_loss: 0.0021 - val_mean_squared_error: 0.0021\n",
      "Epoch 5/1000\n",
      " - 0s - loss: 0.0044 - mean_squared_error: 0.0044 - val_loss: 0.0020 - val_mean_squared_error: 0.0020\n",
      "Epoch 6/1000\n",
      " - 0s - loss: 0.0023 - mean_squared_error: 0.0023 - val_loss: 0.0018 - val_mean_squared_error: 0.0018\n",
      "Epoch 7/1000\n",
      " - 0s - loss: 0.0012 - mean_squared_error: 0.0012 - val_loss: 0.0017 - val_mean_squared_error: 0.0017\n",
      "Epoch 8/1000\n",
      " - 0s - loss: 0.0041 - mean_squared_error: 0.0041 - val_loss: 0.0017 - val_mean_squared_error: 0.0017\n",
      "Epoch 9/1000\n",
      " - 0s - loss: 0.0038 - mean_squared_error: 0.0038 - val_loss: 0.0018 - val_mean_squared_error: 0.0018\n",
      "Epoch 10/1000\n",
      " - 0s - loss: 0.0014 - mean_squared_error: 0.0014 - val_loss: 0.0019 - val_mean_squared_error: 0.0019\n",
      "Epoch 11/1000\n",
      " - 0s - loss: 0.0019 - mean_squared_error: 0.0019 - val_loss: 0.0020 - val_mean_squared_error: 0.0020\n",
      "Epoch 12/1000\n",
      " - 0s - loss: 0.0020 - mean_squared_error: 0.0020 - val_loss: 0.0023 - val_mean_squared_error: 0.0023\n",
      "Epoch 13/1000\n",
      " - 0s - loss: 0.0020 - mean_squared_error: 0.0020 - val_loss: 0.0025 - val_mean_squared_error: 0.0025\n",
      "Epoch 14/1000\n",
      " - 0s - loss: 0.0012 - mean_squared_error: 0.0012 - val_loss: 0.0024 - val_mean_squared_error: 0.0024\n",
      "Epoch 15/1000\n",
      " - 0s - loss: 0.0033 - mean_squared_error: 0.0033 - val_loss: 0.0023 - val_mean_squared_error: 0.0023\n",
      "\n",
      "Epoch 00015: ReduceLROnPlateau reducing learning rate to 4.999999873689376e-05.\n",
      "Epoch 16/1000\n",
      " - 0s - loss: 0.0023 - mean_squared_error: 0.0023 - val_loss: 0.0023 - val_mean_squared_error: 0.0023\n",
      "Epoch 17/1000\n",
      " - 0s - loss: 0.0016 - mean_squared_error: 0.0016 - val_loss: 0.0022 - val_mean_squared_error: 0.0022\n",
      "Epoch 18/1000\n",
      " - 0s - loss: 0.0014 - mean_squared_error: 0.0014 - val_loss: 0.0022 - val_mean_squared_error: 0.0022\n",
      "Epoch 00018: early stopping\n",
      "==================================================\n",
      "model_4\n",
      "training model  2018-12-24 16:20:03.986304\n",
      "==================================================\n",
      "Epoch 1/1000\n",
      " - 1s - loss: 0.0088 - mean_squared_error: 0.0088 - val_loss: 0.0050 - val_mean_squared_error: 0.0050\n",
      "Epoch 2/1000\n",
      " - 0s - loss: 0.0043 - mean_squared_error: 0.0043 - val_loss: 0.0043 - val_mean_squared_error: 0.0043\n",
      "Epoch 3/1000\n",
      " - 0s - loss: 0.0050 - mean_squared_error: 0.0050 - val_loss: 0.0036 - val_mean_squared_error: 0.0036\n",
      "Epoch 4/1000\n",
      " - 0s - loss: 0.0038 - mean_squared_error: 0.0038 - val_loss: 0.0031 - val_mean_squared_error: 0.0031\n",
      "Epoch 5/1000\n",
      " - 0s - loss: 0.0012 - mean_squared_error: 0.0012 - val_loss: 0.0028 - val_mean_squared_error: 0.0028\n",
      "Epoch 6/1000\n",
      " - 0s - loss: 0.0025 - mean_squared_error: 0.0025 - val_loss: 0.0025 - val_mean_squared_error: 0.0025\n",
      "Epoch 7/1000\n",
      " - 0s - loss: 0.0021 - mean_squared_error: 0.0021 - val_loss: 0.0024 - val_mean_squared_error: 0.0024\n",
      "Epoch 8/1000\n",
      " - 0s - loss: 0.0037 - mean_squared_error: 0.0037 - val_loss: 0.0024 - val_mean_squared_error: 0.0024\n",
      "Epoch 9/1000\n",
      " - 0s - loss: 0.0019 - mean_squared_error: 0.0019 - val_loss: 0.0024 - val_mean_squared_error: 0.0024\n",
      "Epoch 10/1000\n",
      " - 0s - loss: 0.0018 - mean_squared_error: 0.0018 - val_loss: 0.0025 - val_mean_squared_error: 0.0025\n",
      "Epoch 11/1000\n",
      " - 0s - loss: 0.0017 - mean_squared_error: 0.0017 - val_loss: 0.0026 - val_mean_squared_error: 0.0026\n",
      "Epoch 12/1000\n",
      " - 0s - loss: 0.0014 - mean_squared_error: 0.0014 - val_loss: 0.0026 - val_mean_squared_error: 0.0026\n",
      "Epoch 13/1000\n",
      " - 0s - loss: 9.1626e-04 - mean_squared_error: 9.1626e-04 - val_loss: 0.0026 - val_mean_squared_error: 0.0026\n",
      "Epoch 14/1000\n",
      " - 0s - loss: 9.3534e-04 - mean_squared_error: 9.3534e-04 - val_loss: 0.0026 - val_mean_squared_error: 0.0026\n",
      "Epoch 15/1000\n",
      " - 0s - loss: 0.0029 - mean_squared_error: 0.0029 - val_loss: 0.0026 - val_mean_squared_error: 0.0026\n",
      "\n",
      "Epoch 00015: ReduceLROnPlateau reducing learning rate to 4.999999873689376e-05.\n",
      "Epoch 16/1000\n",
      " - 0s - loss: 0.0020 - mean_squared_error: 0.0020 - val_loss: 0.0025 - val_mean_squared_error: 0.0025\n",
      "Epoch 17/1000\n",
      " - 0s - loss: 0.0016 - mean_squared_error: 0.0016 - val_loss: 0.0024 - val_mean_squared_error: 0.0024\n",
      "Epoch 18/1000\n",
      " - 0s - loss: 0.0016 - mean_squared_error: 0.0016 - val_loss: 0.0023 - val_mean_squared_error: 0.0023\n",
      "Epoch 19/1000\n",
      " - 0s - loss: 0.0014 - mean_squared_error: 0.0014 - val_loss: 0.0022 - val_mean_squared_error: 0.0022\n",
      "Epoch 20/1000\n",
      " - 0s - loss: 7.4959e-04 - mean_squared_error: 7.4959e-04 - val_loss: 0.0022 - val_mean_squared_error: 0.0022\n",
      "Epoch 21/1000\n",
      " - 0s - loss: 8.5248e-04 - mean_squared_error: 8.5248e-04 - val_loss: 0.0021 - val_mean_squared_error: 0.0021\n",
      "Epoch 22/1000\n",
      " - 0s - loss: 0.0028 - mean_squared_error: 0.0028 - val_loss: 0.0021 - val_mean_squared_error: 0.0021\n",
      "Epoch 23/1000\n",
      " - 0s - loss: 0.0017 - mean_squared_error: 0.0017 - val_loss: 0.0021 - val_mean_squared_error: 0.0021\n",
      "Epoch 24/1000\n",
      " - 0s - loss: 0.0015 - mean_squared_error: 0.0015 - val_loss: 0.0020 - val_mean_squared_error: 0.0020\n",
      "Epoch 25/1000\n",
      " - 0s - loss: 0.0015 - mean_squared_error: 0.0015 - val_loss: 0.0020 - val_mean_squared_error: 0.0020\n",
      "Epoch 26/1000\n",
      " - 0s - loss: 0.0011 - mean_squared_error: 0.0011 - val_loss: 0.0020 - val_mean_squared_error: 0.0020\n",
      "Epoch 27/1000\n",
      " - 0s - loss: 7.1918e-04 - mean_squared_error: 7.1918e-04 - val_loss: 0.0019 - val_mean_squared_error: 0.0019\n",
      "Epoch 28/1000\n",
      " - 0s - loss: 7.4418e-04 - mean_squared_error: 7.4418e-04 - val_loss: 0.0019 - val_mean_squared_error: 0.0019\n",
      "Epoch 29/1000\n",
      " - 0s - loss: 0.0026 - mean_squared_error: 0.0026 - val_loss: 0.0019 - val_mean_squared_error: 0.0019\n",
      "Epoch 30/1000\n",
      " - 0s - loss: 0.0014 - mean_squared_error: 0.0014 - val_loss: 0.0019 - val_mean_squared_error: 0.0019\n",
      "Epoch 31/1000\n",
      " - 0s - loss: 0.0014 - mean_squared_error: 0.0014 - val_loss: 0.0019 - val_mean_squared_error: 0.0019\n",
      "Epoch 32/1000\n",
      " - 0s - loss: 0.0014 - mean_squared_error: 0.0014 - val_loss: 0.0019 - val_mean_squared_error: 0.0019\n",
      "Epoch 33/1000\n",
      " - 0s - loss: 0.0012 - mean_squared_error: 0.0012 - val_loss: 0.0018 - val_mean_squared_error: 0.0018\n",
      "Epoch 34/1000\n",
      " - 0s - loss: 6.3290e-04 - mean_squared_error: 6.3290e-04 - val_loss: 0.0018 - val_mean_squared_error: 0.0018\n",
      "Epoch 35/1000\n",
      " - 0s - loss: 6.5682e-04 - mean_squared_error: 6.5682e-04 - val_loss: 0.0018 - val_mean_squared_error: 0.0018\n",
      "Epoch 36/1000\n",
      " - 0s - loss: 0.0025 - mean_squared_error: 0.0025 - val_loss: 0.0018 - val_mean_squared_error: 0.0018\n",
      "Epoch 37/1000\n",
      " - 0s - loss: 0.0013 - mean_squared_error: 0.0013 - val_loss: 0.0018 - val_mean_squared_error: 0.0018\n",
      "Epoch 38/1000\n",
      " - 0s - loss: 0.0014 - mean_squared_error: 0.0014 - val_loss: 0.0018 - val_mean_squared_error: 0.0018\n",
      "Epoch 39/1000\n",
      " - 0s - loss: 0.0014 - mean_squared_error: 0.0014 - val_loss: 0.0018 - val_mean_squared_error: 0.0018\n",
      "Epoch 40/1000\n",
      " - 0s - loss: 0.0011 - mean_squared_error: 0.0011 - val_loss: 0.0017 - val_mean_squared_error: 0.0017\n",
      "Epoch 41/1000\n",
      " - 0s - loss: 6.1192e-04 - mean_squared_error: 6.1192e-04 - val_loss: 0.0017 - val_mean_squared_error: 0.0017\n",
      "Epoch 42/1000\n",
      " - 0s - loss: 5.9158e-04 - mean_squared_error: 5.9158e-04 - val_loss: 0.0017 - val_mean_squared_error: 0.0017\n",
      "Epoch 43/1000\n",
      " - 0s - loss: 0.0024 - mean_squared_error: 0.0024 - val_loss: 0.0017 - val_mean_squared_error: 0.0017\n",
      "Epoch 44/1000\n",
      " - 0s - loss: 0.0011 - mean_squared_error: 0.0011 - val_loss: 0.0017 - val_mean_squared_error: 0.0017\n",
      "Epoch 45/1000\n",
      " - 0s - loss: 0.0013 - mean_squared_error: 0.0013 - val_loss: 0.0016 - val_mean_squared_error: 0.0016\n",
      "Epoch 46/1000\n",
      " - 0s - loss: 0.0014 - mean_squared_error: 0.0014 - val_loss: 0.0017 - val_mean_squared_error: 0.0017\n",
      "Epoch 47/1000\n",
      " - 0s - loss: 0.0011 - mean_squared_error: 0.0011 - val_loss: 0.0016 - val_mean_squared_error: 0.0016\n",
      "Epoch 48/1000\n",
      " - 0s - loss: 5.5347e-04 - mean_squared_error: 5.5347e-04 - val_loss: 0.0016 - val_mean_squared_error: 0.0016\n",
      "Epoch 49/1000\n",
      " - 0s - loss: 5.4302e-04 - mean_squared_error: 5.4302e-04 - val_loss: 0.0016 - val_mean_squared_error: 0.0016\n",
      "Epoch 50/1000\n",
      " - 0s - loss: 0.0022 - mean_squared_error: 0.0022 - val_loss: 0.0016 - val_mean_squared_error: 0.0016\n",
      "Epoch 51/1000\n",
      " - 0s - loss: 0.0010 - mean_squared_error: 0.0010 - val_loss: 0.0016 - val_mean_squared_error: 0.0016\n",
      "Epoch 52/1000\n",
      " - 0s - loss: 0.0012 - mean_squared_error: 0.0012 - val_loss: 0.0016 - val_mean_squared_error: 0.0016\n"
     ]
    },
    {
     "name": "stdout",
     "output_type": "stream",
     "text": [
      "Epoch 53/1000\n",
      " - 0s - loss: 0.0013 - mean_squared_error: 0.0013 - val_loss: 0.0016 - val_mean_squared_error: 0.0016\n",
      "Epoch 54/1000\n",
      " - 0s - loss: 0.0012 - mean_squared_error: 0.0012 - val_loss: 0.0016 - val_mean_squared_error: 0.0016\n",
      "Epoch 55/1000\n",
      " - 0s - loss: 5.5964e-04 - mean_squared_error: 5.5964e-04 - val_loss: 0.0015 - val_mean_squared_error: 0.0015\n",
      "Epoch 56/1000\n",
      " - 0s - loss: 5.2315e-04 - mean_squared_error: 5.2315e-04 - val_loss: 0.0015 - val_mean_squared_error: 0.0015\n",
      "Epoch 57/1000\n",
      " - 0s - loss: 0.0023 - mean_squared_error: 0.0023 - val_loss: 0.0015 - val_mean_squared_error: 0.0015\n",
      "Epoch 58/1000\n",
      " - 0s - loss: 0.0010 - mean_squared_error: 0.0010 - val_loss: 0.0015 - val_mean_squared_error: 0.0015\n",
      "Epoch 59/1000\n",
      " - 0s - loss: 0.0011 - mean_squared_error: 0.0011 - val_loss: 0.0015 - val_mean_squared_error: 0.0015\n",
      "Epoch 60/1000\n",
      " - 0s - loss: 0.0012 - mean_squared_error: 0.0012 - val_loss: 0.0015 - val_mean_squared_error: 0.0015\n",
      "Epoch 61/1000\n",
      " - 0s - loss: 0.0010 - mean_squared_error: 0.0010 - val_loss: 0.0015 - val_mean_squared_error: 0.0015\n",
      "Epoch 62/1000\n",
      " - 0s - loss: 5.0437e-04 - mean_squared_error: 5.0437e-04 - val_loss: 0.0014 - val_mean_squared_error: 0.0014\n",
      "Epoch 63/1000\n",
      " - 0s - loss: 4.4519e-04 - mean_squared_error: 4.4519e-04 - val_loss: 0.0014 - val_mean_squared_error: 0.0014\n",
      "Epoch 64/1000\n",
      " - 0s - loss: 0.0021 - mean_squared_error: 0.0021 - val_loss: 0.0014 - val_mean_squared_error: 0.0014\n",
      "Epoch 65/1000\n",
      " - 0s - loss: 0.0011 - mean_squared_error: 0.0011 - val_loss: 0.0014 - val_mean_squared_error: 0.0014\n",
      "Epoch 66/1000\n",
      " - 0s - loss: 0.0012 - mean_squared_error: 0.0012 - val_loss: 0.0014 - val_mean_squared_error: 0.0014\n",
      "Epoch 67/1000\n",
      " - 0s - loss: 0.0012 - mean_squared_error: 0.0012 - val_loss: 0.0015 - val_mean_squared_error: 0.0015\n",
      "Epoch 68/1000\n",
      " - 0s - loss: 9.0695e-04 - mean_squared_error: 9.0695e-04 - val_loss: 0.0014 - val_mean_squared_error: 0.0014\n",
      "Epoch 69/1000\n",
      " - 0s - loss: 5.1316e-04 - mean_squared_error: 5.1316e-04 - val_loss: 0.0014 - val_mean_squared_error: 0.0014\n",
      "Epoch 70/1000\n",
      " - 0s - loss: 4.6839e-04 - mean_squared_error: 4.6839e-04 - val_loss: 0.0014 - val_mean_squared_error: 0.0014\n",
      "Epoch 71/1000\n",
      " - 0s - loss: 0.0020 - mean_squared_error: 0.0020 - val_loss: 0.0014 - val_mean_squared_error: 0.0014\n",
      "Epoch 72/1000\n",
      " - 0s - loss: 0.0011 - mean_squared_error: 0.0011 - val_loss: 0.0014 - val_mean_squared_error: 0.0014\n",
      "Epoch 73/1000\n",
      " - 0s - loss: 0.0011 - mean_squared_error: 0.0011 - val_loss: 0.0014 - val_mean_squared_error: 0.0014\n",
      "Epoch 74/1000\n",
      " - 0s - loss: 0.0011 - mean_squared_error: 0.0011 - val_loss: 0.0014 - val_mean_squared_error: 0.0014\n",
      "Epoch 75/1000\n",
      " - 0s - loss: 9.0110e-04 - mean_squared_error: 9.0110e-04 - val_loss: 0.0014 - val_mean_squared_error: 0.0014\n",
      "Epoch 76/1000\n",
      " - 0s - loss: 4.9393e-04 - mean_squared_error: 4.9393e-04 - val_loss: 0.0014 - val_mean_squared_error: 0.0014\n",
      "Epoch 77/1000\n",
      " - 0s - loss: 4.3953e-04 - mean_squared_error: 4.3953e-04 - val_loss: 0.0013 - val_mean_squared_error: 0.0013\n",
      "Epoch 78/1000\n",
      " - 0s - loss: 0.0020 - mean_squared_error: 0.0020 - val_loss: 0.0013 - val_mean_squared_error: 0.0013\n",
      "Epoch 79/1000\n",
      " - 0s - loss: 8.8987e-04 - mean_squared_error: 8.8987e-04 - val_loss: 0.0013 - val_mean_squared_error: 0.0013\n",
      "Epoch 80/1000\n",
      " - 0s - loss: 0.0012 - mean_squared_error: 0.0012 - val_loss: 0.0013 - val_mean_squared_error: 0.0013\n",
      "Epoch 81/1000\n",
      " - 0s - loss: 0.0012 - mean_squared_error: 0.0012 - val_loss: 0.0014 - val_mean_squared_error: 0.0014\n",
      "Epoch 82/1000\n",
      " - 0s - loss: 8.6029e-04 - mean_squared_error: 8.6029e-04 - val_loss: 0.0013 - val_mean_squared_error: 0.0013\n",
      "Epoch 83/1000\n",
      " - 0s - loss: 4.3848e-04 - mean_squared_error: 4.3848e-04 - val_loss: 0.0013 - val_mean_squared_error: 0.0013\n",
      "Epoch 84/1000\n",
      " - 0s - loss: 4.2711e-04 - mean_squared_error: 4.2711e-04 - val_loss: 0.0013 - val_mean_squared_error: 0.0013\n",
      "Epoch 85/1000\n",
      " - 0s - loss: 0.0019 - mean_squared_error: 0.0019 - val_loss: 0.0013 - val_mean_squared_error: 0.0013\n",
      "Epoch 86/1000\n",
      " - 0s - loss: 9.6041e-04 - mean_squared_error: 9.6041e-04 - val_loss: 0.0013 - val_mean_squared_error: 0.0013\n",
      "Epoch 87/1000\n",
      " - 0s - loss: 9.8274e-04 - mean_squared_error: 9.8274e-04 - val_loss: 0.0013 - val_mean_squared_error: 0.0013\n",
      "Epoch 88/1000\n",
      " - 0s - loss: 0.0011 - mean_squared_error: 0.0011 - val_loss: 0.0013 - val_mean_squared_error: 0.0013\n",
      "Epoch 89/1000\n",
      " - 0s - loss: 8.2795e-04 - mean_squared_error: 8.2795e-04 - val_loss: 0.0013 - val_mean_squared_error: 0.0013\n",
      "Epoch 90/1000\n",
      " - 0s - loss: 5.1506e-04 - mean_squared_error: 5.1506e-04 - val_loss: 0.0013 - val_mean_squared_error: 0.0013\n",
      "Epoch 91/1000\n",
      " - 0s - loss: 4.4385e-04 - mean_squared_error: 4.4385e-04 - val_loss: 0.0012 - val_mean_squared_error: 0.0012\n",
      "Epoch 92/1000\n",
      " - 0s - loss: 0.0020 - mean_squared_error: 0.0020 - val_loss: 0.0012 - val_mean_squared_error: 0.0012\n",
      "Epoch 93/1000\n",
      " - 0s - loss: 9.0308e-04 - mean_squared_error: 9.0308e-04 - val_loss: 0.0012 - val_mean_squared_error: 0.0012\n",
      "Epoch 94/1000\n",
      " - 0s - loss: 9.5435e-04 - mean_squared_error: 9.5435e-04 - val_loss: 0.0013 - val_mean_squared_error: 0.0013\n",
      "Epoch 95/1000\n",
      " - 0s - loss: 0.0010 - mean_squared_error: 0.0010 - val_loss: 0.0013 - val_mean_squared_error: 0.0013\n",
      "Epoch 96/1000\n",
      " - 0s - loss: 8.0599e-04 - mean_squared_error: 8.0599e-04 - val_loss: 0.0013 - val_mean_squared_error: 0.0013\n",
      "Epoch 97/1000\n",
      " - 0s - loss: 4.5235e-04 - mean_squared_error: 4.5235e-04 - val_loss: 0.0012 - val_mean_squared_error: 0.0012\n",
      "Epoch 98/1000\n",
      " - 0s - loss: 3.9699e-04 - mean_squared_error: 3.9699e-04 - val_loss: 0.0012 - val_mean_squared_error: 0.0012\n",
      "Epoch 99/1000\n",
      " - 0s - loss: 0.0018 - mean_squared_error: 0.0018 - val_loss: 0.0012 - val_mean_squared_error: 0.0012\n",
      "Epoch 100/1000\n",
      " - 0s - loss: 9.1054e-04 - mean_squared_error: 9.1054e-04 - val_loss: 0.0012 - val_mean_squared_error: 0.0012\n",
      "Epoch 101/1000\n",
      " - 0s - loss: 9.1891e-04 - mean_squared_error: 9.1891e-04 - val_loss: 0.0012 - val_mean_squared_error: 0.0012\n",
      "Epoch 102/1000\n",
      " - 0s - loss: 0.0010 - mean_squared_error: 0.0010 - val_loss: 0.0013 - val_mean_squared_error: 0.0013\n",
      "Epoch 103/1000\n",
      " - 0s - loss: 7.2961e-04 - mean_squared_error: 7.2961e-04 - val_loss: 0.0012 - val_mean_squared_error: 0.0012\n",
      "Epoch 104/1000\n",
      " - 0s - loss: 4.5594e-04 - mean_squared_error: 4.5594e-04 - val_loss: 0.0012 - val_mean_squared_error: 0.0012\n",
      "Epoch 105/1000\n",
      " - 0s - loss: 4.0466e-04 - mean_squared_error: 4.0466e-04 - val_loss: 0.0012 - val_mean_squared_error: 0.0012\n",
      "Epoch 106/1000\n",
      " - 0s - loss: 0.0019 - mean_squared_error: 0.0019 - val_loss: 0.0012 - val_mean_squared_error: 0.0012\n",
      "Epoch 107/1000\n",
      " - 0s - loss: 8.3714e-04 - mean_squared_error: 8.3714e-04 - val_loss: 0.0012 - val_mean_squared_error: 0.0012\n",
      "Epoch 108/1000\n",
      " - 0s - loss: 8.8899e-04 - mean_squared_error: 8.8899e-04 - val_loss: 0.0012 - val_mean_squared_error: 0.0012\n",
      "Epoch 109/1000\n",
      " - 0s - loss: 0.0010 - mean_squared_error: 0.0010 - val_loss: 0.0012 - val_mean_squared_error: 0.0012\n",
      "Epoch 110/1000\n",
      " - 0s - loss: 7.2405e-04 - mean_squared_error: 7.2405e-04 - val_loss: 0.0012 - val_mean_squared_error: 0.0012\n",
      "Epoch 111/1000\n",
      " - 0s - loss: 4.1120e-04 - mean_squared_error: 4.1120e-04 - val_loss: 0.0012 - val_mean_squared_error: 0.0012\n",
      "Epoch 112/1000\n",
      " - 0s - loss: 4.0625e-04 - mean_squared_error: 4.0625e-04 - val_loss: 0.0012 - val_mean_squared_error: 0.0012\n",
      "Epoch 113/1000\n",
      " - 0s - loss: 0.0019 - mean_squared_error: 0.0019 - val_loss: 0.0012 - val_mean_squared_error: 0.0012\n",
      "Epoch 114/1000\n",
      " - 0s - loss: 7.3215e-04 - mean_squared_error: 7.3215e-04 - val_loss: 0.0012 - val_mean_squared_error: 0.0012\n",
      "Epoch 115/1000\n",
      " - 0s - loss: 8.6103e-04 - mean_squared_error: 8.6103e-04 - val_loss: 0.0012 - val_mean_squared_error: 0.0012\n",
      "Epoch 116/1000\n",
      " - 0s - loss: 0.0011 - mean_squared_error: 0.0011 - val_loss: 0.0012 - val_mean_squared_error: 0.0012\n",
      "Epoch 117/1000\n",
      " - 0s - loss: 6.6635e-04 - mean_squared_error: 6.6635e-04 - val_loss: 0.0012 - val_mean_squared_error: 0.0012\n",
      "Epoch 118/1000\n",
      " - 0s - loss: 4.2862e-04 - mean_squared_error: 4.2862e-04 - val_loss: 0.0012 - val_mean_squared_error: 0.0012\n",
      "Epoch 119/1000\n",
      " - 0s - loss: 4.1206e-04 - mean_squared_error: 4.1206e-04 - val_loss: 0.0012 - val_mean_squared_error: 0.0012\n",
      "Epoch 120/1000\n",
      " - 0s - loss: 0.0017 - mean_squared_error: 0.0017 - val_loss: 0.0012 - val_mean_squared_error: 0.0012\n"
     ]
    },
    {
     "name": "stdout",
     "output_type": "stream",
     "text": [
      "Epoch 121/1000\n",
      " - 0s - loss: 7.9392e-04 - mean_squared_error: 7.9392e-04 - val_loss: 0.0012 - val_mean_squared_error: 0.0012\n",
      "Epoch 122/1000\n",
      " - 0s - loss: 8.1425e-04 - mean_squared_error: 8.1425e-04 - val_loss: 0.0012 - val_mean_squared_error: 0.0012\n",
      "Epoch 123/1000\n",
      " - 0s - loss: 9.7323e-04 - mean_squared_error: 9.7323e-04 - val_loss: 0.0012 - val_mean_squared_error: 0.0012\n",
      "Epoch 124/1000\n",
      " - 0s - loss: 6.6029e-04 - mean_squared_error: 6.6029e-04 - val_loss: 0.0012 - val_mean_squared_error: 0.0012\n",
      "Epoch 125/1000\n",
      " - 0s - loss: 4.1530e-04 - mean_squared_error: 4.1530e-04 - val_loss: 0.0011 - val_mean_squared_error: 0.0011\n",
      "Epoch 126/1000\n",
      " - 0s - loss: 4.7939e-04 - mean_squared_error: 4.7939e-04 - val_loss: 0.0011 - val_mean_squared_error: 0.0011\n",
      "Epoch 127/1000\n",
      " - 0s - loss: 0.0017 - mean_squared_error: 0.0017 - val_loss: 0.0011 - val_mean_squared_error: 0.0011\n",
      "Epoch 128/1000\n",
      " - 0s - loss: 7.5555e-04 - mean_squared_error: 7.5555e-04 - val_loss: 0.0011 - val_mean_squared_error: 0.0011\n",
      "Epoch 129/1000\n",
      " - 0s - loss: 8.5437e-04 - mean_squared_error: 8.5437e-04 - val_loss: 0.0011 - val_mean_squared_error: 0.0011\n",
      "Epoch 130/1000\n",
      " - 0s - loss: 0.0011 - mean_squared_error: 0.0011 - val_loss: 0.0012 - val_mean_squared_error: 0.0012\n",
      "Epoch 131/1000\n",
      " - 0s - loss: 6.1230e-04 - mean_squared_error: 6.1230e-04 - val_loss: 0.0011 - val_mean_squared_error: 0.0011\n",
      "Epoch 132/1000\n",
      " - 0s - loss: 4.7353e-04 - mean_squared_error: 4.7353e-04 - val_loss: 0.0011 - val_mean_squared_error: 0.0011\n",
      "Epoch 133/1000\n",
      " - 0s - loss: 4.2002e-04 - mean_squared_error: 4.2002e-04 - val_loss: 0.0011 - val_mean_squared_error: 0.0011\n",
      "Epoch 134/1000\n",
      " - 0s - loss: 0.0016 - mean_squared_error: 0.0016 - val_loss: 0.0011 - val_mean_squared_error: 0.0011\n",
      "\n",
      "Epoch 00134: ReduceLROnPlateau reducing learning rate to 2.499999936844688e-05.\n",
      "Epoch 135/1000\n",
      " - 0s - loss: 8.0251e-04 - mean_squared_error: 8.0251e-04 - val_loss: 0.0011 - val_mean_squared_error: 0.0011\n",
      "Epoch 136/1000\n",
      " - 0s - loss: 9.0354e-04 - mean_squared_error: 9.0354e-04 - val_loss: 0.0011 - val_mean_squared_error: 0.0011\n",
      "Epoch 137/1000\n",
      " - 0s - loss: 9.8671e-04 - mean_squared_error: 9.8671e-04 - val_loss: 0.0011 - val_mean_squared_error: 0.0011\n",
      "Epoch 00137: early stopping\n"
     ]
    },
    {
     "data": {
      "image/png": "[encoded data removed]",
      "text/plain": [
       "<Figure size 720x576 with 4 Axes>"
      ]
     },
     "metadata": {
      "needs_background": "light"
     },
     "output_type": "display_data"
    }
   ],
   "source": [
    "if not os.path.exists(r\"./model/model2\"):\n",
    "    os.mkdir(r\"./model/model2\")\n",
    "    \n",
    "lr = [0.001, 0.0001, 0.0001, 0.0001]\n",
    "fig, ax = plt.subplots(nrows=4, ncols=1, sharex=True, figsize=(10,8))\n",
    "for i in range(4):\n",
    "    t2018_W = datetime.strptime(train_date[i], \"%Y-%m-%d\") if isinstance(train_date[i],str) else train_date[i]\n",
    "    train_geneW = train_generator_byweek(train_Wall[i], train_nums_Wall[i], \n",
    "                                         t2018_W, num_weeks, timesteps, steps[i], futures=1)\n",
    "    \n",
    "    tval_W = datetime.strptime(val_date[i], \"%Y-%m-%d\") if isinstance(val_date[i], str) else val_date[i]\n",
    "    x_val_W, y_val_W = create_dataset_byweek(train_Wall[i], train_nums_Wall[i], \n",
    "                                             tval_W, timesteps, steps=steps[i], futures=1)\n",
    "    \n",
    "    print(\"=\"*50)\n",
    "    print(\"model_%s\"%(i+1))\n",
    "    print(\"training model \", datetime.now())\n",
    "    print(\"=\"*50)\n",
    "    \n",
    "    modelweek = model_byweek(timesteps, feadims, outdim)\n",
    "    opt = optimizers.Adam(lr=lr[i])\n",
    "    modelweek.compile(loss=\"mse\", optimizer=opt, metrics=[\"mse\"])\n",
    "    callbacks_fn = [\n",
    "        EarlyStopping(monitor=\"val_loss\", patience=10, verbose=50),\n",
    "        ReduceLROnPlateau(monitor=\"val_loss\", factor=0.5, patience=7,\\\n",
    "                          verbose=10, min_delta=1e-6, mode=\"min\")\n",
    "    ]\n",
    "    \n",
    "    history = modelweek.fit_generator(train_geneW, epochs=N_EPOCHS, steps_per_epoch=3,\n",
    "      verbose=2, validation_data=(x_val_W, y_val_W), callbacks=callbacks_fn)\n",
    "\n",
    "    val_pred_W.append(modelweek.predict(x_val_W))\n",
    "    modelweek.save(r\"./model/model2/bst_byweek%s\"%(i+1)+\".hdf5\")\n",
    "    \n",
    "    ax[i].plot(history.history[\"loss\"], label=\"train_loss%d\"%(i))\n",
    "    ax[i].plot(history.history[\"val_loss\"], label=\"val_loss%d\"%(i))"
   ]
  },
  {
   "cell_type": "code",
   "execution_count": 25,
   "metadata": {
    "ExecuteTime": {
     "end_time": "2018-12-20T12:39:08.306712Z",
     "start_time": "2018-12-20T12:39:08.301325Z"
    },
    "hide_input": true,
    "scrolled": true
   },
   "outputs": [
    {
     "name": "stdout",
     "output_type": "stream",
     "text": [
      "__________________________________________________________________________________________________\n",
      "Layer (type)                    Output Shape         Param #     Connected to                     \n",
      "==================================================================================================\n",
      "input_5 (InputLayer)            (None, 21, 2)        0                                            \n",
      "__________________________________________________________________________________________________\n",
      "conv1d_18 (Conv1D)              (None, 21, 32)       160         input_5[0][0]                    \n",
      "__________________________________________________________________________________________________\n",
      "conv1d_19 (Conv1D)              (None, 21, 32)       2080        conv1d_18[0][0]                  \n",
      "__________________________________________________________________________________________________\n",
      "conv1d_20 (Conv1D)              (None, 21, 32)       2080        conv1d_19[0][0]                  \n",
      "__________________________________________________________________________________________________\n",
      "concatenate_5 (Concatenate)     (None, 21, 64)       0           conv1d_18[0][0]                  \n",
      "                                                                 conv1d_20[0][0]                  \n",
      "__________________________________________________________________________________________________\n",
      "conv1d_21 (Conv1D)              (None, 21, 8)        520         concatenate_5[0][0]              \n",
      "__________________________________________________________________________________________________\n",
      "dropout_5 (Dropout)             (None, 21, 8)        0           conv1d_21[0][0]                  \n",
      "__________________________________________________________________________________________________\n",
      "flatten_5 (Flatten)             (None, 168)          0           dropout_5[0][0]                  \n",
      "__________________________________________________________________________________________________\n",
      "dense_13 (Dense)                (None, 512)          86528       flatten_5[0][0]                  \n",
      "__________________________________________________________________________________________________\n",
      "dense_14 (Dense)                (None, 256)          131328      dense_13[0][0]                   \n",
      "__________________________________________________________________________________________________\n",
      "dense_15 (Dense)                (None, 1)            257         dense_14[0][0]                   \n",
      "==================================================================================================\n",
      "Total params: 222,953\n",
      "Trainable params: 222,953\n",
      "Non-trainable params: 0\n",
      "__________________________________________________________________________________________________\n"
     ]
    }
   ],
   "source": [
    "modelweek.summary()"
   ]
  },
  {
   "cell_type": "markdown",
   "metadata": {},
   "source": [
    "### 算法评估标准"
   ]
  },
  {
   "cell_type": "code",
   "execution_count": 26,
   "metadata": {
    "scrolled": true
   },
   "outputs": [],
   "source": [
    "def getPrediction(preds, inds, steps=[4,4,7,7]):\n",
    "    # preds=[week_ext, week_in, day_ext, day_in]\n",
    "    stack = []\n",
    "    for ind,pred,step in zip(inds, preds, steps):\n",
    "        pred = np.array(pred).squeeze().transpose()\n",
    "        tmp = pd.DataFrame(np.expm1(pred), index=ind)\n",
    "        tmp = tmp.reset_index().drop(\"store_id\",axis=1)\n",
    "        tmp = tmp.groupby(\"type_id\").sum().values[::-1]\n",
    "        tmp = tmp.reshape(2*step)\n",
    "        stack.append(tmp)\n",
    "    stack_pred = np.concatenate(stack, axis=0)\n",
    "    return stack_pred"
   ]
  },
  {
   "cell_type": "code",
   "execution_count": 27,
   "metadata": {
    "scrolled": true
   },
   "outputs": [],
   "source": [
    "def getSMAPE(label, pred, inds):\n",
    "    M = 800\n",
    "    t = getPrediction(label, inds)*1000\n",
    "    p = getPrediction(pred, inds)*1000\n",
    "    print((t-p)/t)\n",
    "    smape = np.mean(np.abs((t - p)/(np.maximum((t+p)/2,M))))\n",
    "    mape = np.mean(np.abs((t-p)/t))\n",
    "#     mse = np.mean(np.power(t-p,2))\n",
    "#     mae = np.mean(np.abs(t-p))\n",
    "    score = (2-smape)*50\n",
    "    print(\"get MAPE %.4f\"%(mape))\n",
    "#     print(\"get MSE %.4f\"%(mse))\n",
    "#     print(\"get MAE %.4f\"%(mae))\n",
    "    print(\"get SMAPW %.4f\"%(smape))\n",
    "    print(\"get score %.4f\"%(score))\n",
    "    return smape,score"
   ]
  },
  {
   "cell_type": "code",
   "execution_count": 28,
   "metadata": {
    "scrolled": true
   },
   "outputs": [],
   "source": [
    "def getLastW(data):\n",
    "    d1 = np.array(data).squeeze().transpose()\n",
    "    # 先差分\n",
    "    d2 = np.expm1(d1)*np.array([7,14,21,28]) #d2 = np.expm1(d1)*np.array([7,14,21,28])\n",
    "    d3 = np.diff(d2, axis=1)\n",
    "#     d3[d3<0] = 0\n",
    "    d2[:,1:]= d3\n",
    "    d2 = np.clip(d2,0,None)\n",
    "    res = np.log1p(d2).transpose()\n",
    "    return res"
   ]
  },
  {
   "cell_type": "code",
   "execution_count": 29,
   "metadata": {},
   "outputs": [
    {
     "data": {
      "text/plain": [
       "(1276, 7)"
      ]
     },
     "execution_count": 29,
     "metadata": {},
     "output_type": "execute_result"
    }
   ],
   "source": [
    "np.array(val_pred).shape"
   ]
  },
  {
   "cell_type": "raw",
   "metadata": {
    "collapsed": true
   },
   "source": [
    "# 无标准化\n",
    "loc1 = df_train_in.shape[0]\n",
    "loc2 = df_train_in_W.shape[0]\n",
    "pred_val_in, pred_val_ext = np.split(np.array(val_pred),np.array([loc1]),axis=0) #1196\n",
    "pred_val_in_W, pred_val_ext_W = np.split(np.array(val_pred_W),np.array([loc2]),axis=1) # 1196\n",
    "\n",
    "pred_val_in_W = getLastW(pred_val_in_W)\n",
    "pred_val_ext_W = getLastW(pred_val_ext_W)\n",
    "\n",
    "pred = [pred_val_ext_W, pred_val_in_W, pred_val_ext.transpose(), pred_val_in.transpose()]\n",
    "label = [y_val_ext_Wall.transpose(), y_val_in_Wall.transpose(), y_val_ext.transpose(), y_val_in.transpose()]"
   ]
  },
  {
   "cell_type": "raw",
   "metadata": {
    "collapsed": true
   },
   "source": [
    "inds = [df_train_ext_W.index, df_train_in_W.index, df_train_ext.index, df_train_in.index]\n",
    "getSMAPE(label, pred, inds)"
   ]
  },
  {
   "cell_type": "raw",
   "metadata": {
    "scrolled": true
   },
   "source": [
    "getSMAPE(label, pred, inds)\n",
    "[ -5.99256231  -7.69344707  -4.17504688  -6.80443383  -4.12224363\n",
    "  -4.30322669  -2.48549491  -4.79728148 -10.93371034  -7.73865082\n",
    "  -6.3931309   -8.65377948  -4.6747169   -6.43144984  -3.91081736\n",
    "  -5.55797835   0.7970883    0.10126773   0.48259292  -0.44727684\n",
    "   0.24095798   0.21796051   0.36316924   0.6299625    0.45957464\n",
    "   0.41351627   0.22203725   0.53422988   0.62709017   0.2335896\n",
    "   0.35370784  -0.04725195   0.12110368  -0.78172     -0.18175127\n",
    "  -0.04886831  -5.92682664   0.41431963   0.44994367   0.44247119\n",
    "   0.37142095   0.65195226   0.63110995  -0.75734294]\n",
    "get MAPE 2.5368\n",
    "get SMAPW 0.8632\n",
    "get score 56.8407"
   ]
  },
  {
   "cell_type": "markdown",
   "metadata": {},
   "source": [
    "### 预测提交"
   ]
  },
  {
   "cell_type": "code",
   "execution_count": 30,
   "metadata": {
    "ExecuteTime": {
     "end_time": "2018-12-20T08:00:28.561607Z",
     "start_time": "2018-12-20T08:00:28.552966Z"
    },
    "hide_input": true
   },
   "outputs": [],
   "source": [
    "def prediction_dnn(test, path=\"./model/model2\",mode=\"wd\"):\n",
    "    # test=[test_ext_w, test_in_w, test_ext_day, test_in_day]\n",
    "    # test=[W, W2, W3, W4]\n",
    "    if mode==\"wd\":\n",
    "        week_ext, week_in, day_ext, day_in = [], [], [], []\n",
    "        results = [week_ext, week_in, day_ext, day_in]\n",
    "        # bases = [\"bst_byweek%s.hdf5\",\"bst_byweek%s.hdf5\",\"bst_byday%s.hdf5\",\"bst_byday%s.hdf5\"]\n",
    "        bases = [[],[],\"bst_byday.hdf5\",\"bst_byday.hdf5\"]\n",
    "        steps = [0,0,1,1]\n",
    "        for step, res, base, data in zip(steps, results, bases, test):\n",
    "            dtest = data#.reshape(data.shape[0], 1, data.shape[1])\n",
    "            for i in range(step):\n",
    "                mpath = os.path.join(path, base)\n",
    "                print(mpath)\n",
    "                model = load_model(mpath)\n",
    "                res.append((model.predict(dtest)).transpose())\n",
    "    else:\n",
    "        W, W2, W3, W4 = [], [], [], []\n",
    "        results = [W, W2, W3, W4]\n",
    "        bases = [\"bst_byweek%s.hdf5\"]*4\n",
    "        steps = range(4)\n",
    "        for step, res, base, data in zip(steps, results, bases, test):\n",
    "            dtest = data#.reshape(data.shape[0], 1, data.shape[1])\n",
    "            mpath = os.path.join(path, base%(step+1))\n",
    "            print(mpath)\n",
    "            model = load_model(mpath)\n",
    "            res.append(model.predict(dtest))\n",
    "    return results"
   ]
  },
  {
   "cell_type": "code",
   "execution_count": 31,
   "metadata": {
    "ExecuteTime": {
     "end_time": "2018-12-20T08:00:35.101305Z",
     "start_time": "2018-12-20T08:00:35.095125Z"
    },
    "hide_input": true,
    "scrolled": true
   },
   "outputs": [],
   "source": [
    "def makeSubmission(preds, inds, steps=[4,4,7,7], filename=\"./submission/result.csv\"):\n",
    "    # preds=[week_ext, week_in, day_ext, day_in]\n",
    "    stack = []\n",
    "    for ind,pred,step in zip(inds, preds, steps):\n",
    "        pred = np.array(pred).squeeze().transpose()\n",
    "#         tmp = pd.DataFrame(np.expm1(pred), index=ind)\n",
    "        tmp = pd.DataFrame(pred, index=ind)\n",
    "        tmp = tmp.reset_index().drop(\"store_id\",axis=1)\n",
    "        tmp = tmp.groupby(\"type_id\").sum().values[::-1]\n",
    "        tmp = tmp.reshape(2*step)\n",
    "        stack.append(tmp)\n",
    "    stack_pred = np.concatenate(stack, axis=0)\n",
    "    stack_pred = stack_pred*1000\n",
    "    result = pd.read_csv(\"./submission/result_org.csv\")\n",
    "    result[\"VALUE\"] = stack_pred\n",
    "    result.to_csv(filename,float_format=\"%.4f\",index=False)\n",
    "    print(\"done!\")\n",
    "    return stack_pred"
   ]
  },
  {
   "cell_type": "code",
   "execution_count": 32,
   "metadata": {
    "ExecuteTime": {
     "end_time": "2018-12-20T08:00:41.552764Z",
     "start_time": "2018-12-20T08:00:41.548923Z"
    },
    "hide_input": true,
    "scrolled": true
   },
   "outputs": [],
   "source": [
    "def getLastW(data):\n",
    "    d1 = np.array(data).squeeze().transpose()\n",
    "    # 先差分\n",
    "#     d2 = np.expm1(d1)*np.array([7,14,21,28]) #d2 = np.expm1(d1)*np.array([7,14,21,28])\n",
    "    d2 = d1*np.array([7,14,21,28])\n",
    "    d3 = np.diff(d2, axis=1)\n",
    "#     d3[d3<0] = 0\n",
    "    d2[:,1:]= d3\n",
    "    d2 = np.clip(d2,0,None)\n",
    "#     res = np.log1p(d2).transpose()\n",
    "    res = d2.transpose()\n",
    "    return res"
   ]
  },
  {
   "cell_type": "markdown",
   "metadata": {},
   "source": [
    "#### 4周累积"
   ]
  },
  {
   "cell_type": "code",
   "execution_count": 36,
   "metadata": {
    "ExecuteTime": {
     "end_time": "2018-12-20T08:22:35.209739Z",
     "start_time": "2018-12-20T08:21:57.287082Z"
    }
   },
   "outputs": [
    {
     "name": "stdout",
     "output_type": "stream",
     "text": [
      "CPU times: user 4 µs, sys: 0 ns, total: 4 µs\n",
      "Wall time: 7.63 µs\n",
      "./model/model2/bst_byweek1.hdf5\n",
      "./model/model2/bst_byweek2.hdf5\n",
      "./model/model2/bst_byweek3.hdf5\n",
      "./model/model2/bst_byweek4.hdf5\n",
      "./model/model2/bst_byweek1.hdf5\n",
      "./model/model2/bst_byweek2.hdf5\n",
      "./model/model2/bst_byweek3.hdf5\n",
      "./model/model2/bst_byweek4.hdf5\n",
      "./model/model2/bst_byday.hdf5\n",
      "./model/model2/bst_byday.hdf5\n",
      "done!\n"
     ]
    }
   ],
   "source": [
    "%time\n",
    "sp = df_train_in_W.shape[0]\n",
    "# preds=[week_ext, week_in, day_ext, day_in]\n",
    "\n",
    "x_test_in_Wall = [x_test_W[:sp], x_test_2W[:sp], x_test_3W[:sp], x_test_4W[:sp]]\n",
    "x_test_ext_Wall = [x_test_W[sp:], x_test_2W[sp:], x_test_3W[sp:], x_test_4W[sp:]]\n",
    "\n",
    "test = [[], [], x_test[sp:], x_test[:sp]]\n",
    "mpath = './model/model2'\n",
    "res_ext_W = prediction_dnn(x_test_ext_Wall,path=mpath,mode=\"w\")\n",
    "res_in_W = prediction_dnn(x_test_in_Wall,path=mpath, mode=\"w\")\n",
    "res = prediction_dnn(test,path=mpath)\n",
    "\n",
    "# -----------------------无差分时使用-------------------------------\n",
    "# 求各周\n",
    "res1 = getLastW(res_ext_W)\n",
    "res2 = getLastW(res_in_W)\n",
    "results = [res1,res2,res[2],res[3]]\n",
    "\n",
    "inds = [df_train_ext_W.index, df_train_in_W.index, df_train_ext.index, df_train_in.index]\n",
    "\n",
    "# 取exp\n",
    "pred1 = makeSubmission(results, inds)"
   ]
  },
  {
   "cell_type": "raw",
   "metadata": {
    "ExecuteTime": {
     "end_time": "2018-12-20T13:59:17.220444Z",
     "start_time": "2018-12-20T13:56:06.115616Z"
    }
   },
   "source": [
    "sp = df_train_in_W.shape[0]\n",
    "# preds=[week_ext, week_in, day_ext, day_in]\n",
    "\n",
    "x_test_in_Wall = [x_test_W[:sp], x_test_2W[:sp], x_test_3W[:sp], x_test_4W[:sp]]\n",
    "x_test_ext_Wall = [x_test_W[sp:], x_test_2W[sp:], x_test_3W[sp:], x_test_4W[sp:]]\n",
    "\n",
    "res_ext_W = prediction_dnn(x_test_ext_Wall,path=mpath,mode=\"w\")\n",
    "res_in_W = prediction_dnn(x_test_in_Wall,path=mpath, mode=\"w\")\n",
    "\n",
    "res1 = getLastW(res_ext_W)\n",
    "res2 = getLastW(res_in_W)\n",
    "\n",
    "results = [res1,res2,res[2],res[3]]\n",
    "pred1 = makeSubmission(results, inds)"
   ]
  },
  {
   "cell_type": "code",
   "execution_count": 160,
   "metadata": {
    "ExecuteTime": {
     "end_time": "2018-12-20T13:39:45.491300Z",
     "start_time": "2018-12-20T13:39:08.321719Z"
    }
   },
   "outputs": [
    {
     "name": "stdout",
     "output_type": "stream",
     "text": [
      "./model/model2/bst_byday.hdf5\n",
      "./model/model2/bst_byday.hdf5\n"
     ]
    }
   ],
   "source": [
    "test = [[], [], x_test[sp:], x_test[:sp]]\n",
    "res = prediction_dnn(test,path=mpath)"
   ]
  },
  {
   "cell_type": "code",
   "execution_count": 161,
   "metadata": {
    "ExecuteTime": {
     "end_time": "2018-12-20T13:39:50.014569Z",
     "start_time": "2018-12-20T13:39:49.994309Z"
    }
   },
   "outputs": [
    {
     "name": "stdout",
     "output_type": "stream",
     "text": [
      "done!\n"
     ]
    }
   ],
   "source": [
    "results = [res1,res2,res[2],res[3]]\n",
    "pred1 = makeSubmission(results, inds)"
   ]
  },
  {
   "cell_type": "raw",
   "metadata": {},
   "source": [
    "resbest = pd.read_csv(r\"./submission/result7781.csv\",index_col=[0])"
   ]
  },
  {
   "cell_type": "raw",
   "metadata": {
    "scrolled": true
   },
   "source": [
    "resbest.values.reshape(-1)-pred1"
   ]
  },
  {
   "cell_type": "code",
   "execution_count": 34,
   "metadata": {
    "ExecuteTime": {
     "end_time": "2018-12-20T13:39:54.525399Z",
     "start_time": "2018-12-20T13:39:54.522401Z"
    },
    "scrolled": true
   },
   "outputs": [
    {
     "name": "stdout",
     "output_type": "stream",
     "text": [
      "27141.021490097046\n",
      "56575.41561126709\n",
      "25141.780376434326\n",
      "55276.93843841553\n"
     ]
    }
   ],
   "source": [
    "print(np.sum(pred1[-28:-21]))\n",
    "print(np.sum(pred1[-21:-14]))\n",
    "print(np.sum(pred1[-14:-7]))\n",
    "print(np.sum(pred1[-7:]))"
   ]
  },
  {
   "cell_type": "code",
   "execution_count": 35,
   "metadata": {
    "ExecuteTime": {
     "end_time": "2018-12-20T13:59:50.798135Z",
     "start_time": "2018-12-20T13:59:50.788782Z"
    },
    "scrolled": false
   },
   "outputs": [
    {
     "data": {
      "text/plain": [
       "array([22893.12716434, 35704.97205376, 28925.94791914, 24473.52826758,\n",
       "       45268.25404167, 70717.48137168, 43515.15995353, 61715.33880697,\n",
       "       26960.97403066, 31068.96084099, 29618.16505721, 25763.37061566,\n",
       "       59460.43057786, 62179.30609977, 47857.9806484 , 83400.663957  ,\n",
       "        3533.14733505,  3732.18083382,  3739.72892761,  4018.41783524,\n",
       "        3971.93431854,  3952.0483017 ,  4193.56393814,  7585.3676796 ,\n",
       "        7925.12321472,  7669.03543472,  8281.78310394,  8246.77371979,\n",
       "        8288.1565094 ,  8579.1759491 ,  3278.03444862,  3433.75515938,\n",
       "        3461.30681038,  3733.37268829,  3688.35163116,  3655.51924706,\n",
       "        3891.44039154,  7404.31880951,  7834.97571945,  7477.71692276,\n",
       "        8117.63286591,  8040.68470001,  8092.43011475,  8309.17930603])"
      ]
     },
     "execution_count": 35,
     "metadata": {},
     "output_type": "execute_result"
    }
   ],
   "source": [
    "pred1"
   ]
  },
  {
   "cell_type": "markdown",
   "metadata": {},
   "source": [
    "### 提交结果记录\n",
    "- 对于原始数据，无特殊说明都为取对数操作\n",
    "- 对于周预测模型，没有特殊指明的都为累计模型\n",
    "- 对于预测时得训练数据，周预测为20,天预测为100,最佳\n",
    "- 对于合并稀疏样本，无特殊说明，合并阈值为500，步长50\n",
    "- 对于特征数目，无特殊说明，则都为(2,21,2) (1,11) (1,31)\n",
    "- 73分记录，天预测特征266。，周预测特征210, sum\n",
    "- 77.19记录，新增类别特征，天预测特征267。，周预测特征211, mean，数值缩小1000"
   ]
  },
  {
   "cell_type": "markdown",
   "metadata": {},
   "source": [
    "**观察储量趋势线，发现储量存在上升趋势，xgboost没有很好捕捉上升趋势，下一步采用神经网络模型。**"
   ]
  },
  {
   "cell_type": "markdown",
   "metadata": {
    "scrolled": true
   },
   "source": [
    "#### 2018-12-15 使用DNN模型"
   ]
  },
  {
   "cell_type": "markdown",
   "metadata": {},
   "source": [
    "- score-73.2585, latentdims=32,16,merge->/1000,不用log1p\n",
    "    - conv1d(3,1)->conv1d(3,2)->conv1d(3,2)->LSTM(32)->LSTM(16)->LSTM(8)->LSTM(4)->dense(7)\n",
    "    - conv1d(3,1)->conv1d(3,2)->LSTM(16)->LSTM(8)->LSTM(4)->dense(1)\n",
    "- score-73.0031, latentdims=32,32,merge->/1000,不用log1p\n",
    "    - conv1d(3,1)->conv1d(3,2)->conv1d(3,2)->LSTM(32)->LSTM(16)->LSTM(8)->LSTM(4)->dense(7)\n",
    "    - conv1d(3,1)->conv1d(3,2)->LSTM(32)->LSTM(16)->LSTM(8)->dense(1)\n",
    "- score-76.3692, latentdims=32,16,merge->/1000,不用log1p\n",
    "    - conv1d(3,1)->conv1d(3,2)->conv1d(3,2)->LSTM(32)->LSTM(16)->LSTM(8)->LSTM(4)->dense(7)\n",
    "    - conv1d(3,1)->conv1d(3,2)->LSTM(16)->LSTM(8)->LSTM(4)->LSTM(2)->dense(1)"
   ]
  },
  {
   "cell_type": "markdown",
   "metadata": {},
   "source": [
    "#### 2018-12-17"
   ]
  },
  {
   "cell_type": "markdown",
   "metadata": {},
   "source": [
    "- score-77.4835，timesteps = 7\\*30, 7\\*2,num_days = 7\\*30,21;数据/1000->merge(500,100),latentdims=32,32 网络结构：\n",
    "- score-77.4584, timesteps = 7\\*30, 7\\*3,num_days = 7\\*30,21;数据/1000->merge(500,100),latentdims=32,16 网络结构同下：\n",
    "\n",
    "```python\n",
    "def model_byday(timesteps, feadims, outdim):\n",
    "    seq = Input(shape=(timesteps, feadims))\n",
    "    latentdims = 32\n",
    "    ks = 2\n",
    "    c1 = Conv1D(latentdims, ks, dilation_rate=1, padding=\"causal\", activation=\"relu\")(seq)\n",
    "    c2 = Conv1D(latentdims, ks, dilation_rate=2, padding=\"causal\", activation=\"relu\")(c1)\n",
    "    c2 = Conv1D(latentdims, ks, dilation_rate=4, padding=\"causal\", activation=\"relu\")(c2)\n",
    "    c2 = Conv1D(latentdims, ks, dilation_rate=8, padding=\"causal\", activation=\"relu\")(c2)\n",
    "\n",
    "    c3 = concatenate([c1,c2])\n",
    "    \n",
    "    c4 = Conv1D(8, 1, activation=\"relu\")(c3)\n",
    "    \n",
    "    d1 = Dense(512,activation=\"relu\")(Flatten()(c4))\n",
    "    d1 = Dense(256, activation=\"relu\")(d1)\n",
    "    d1 = Dropout(0.05)(d1)\n",
    "\n",
    "    output = Dense(outdim, activation=\"relu\")(d1)\n",
    "    model = Model(inputs=seq, outputs=output)\n",
    "    return model\n",
    "\n",
    "def model_byweek(timesteps, feadims, outdim):\n",
    "    seq = Input(shape=(timesteps, feadims))\n",
    "    latentdims = 32\n",
    "    ks = 2\n",
    "    c1 = Conv1D(latentdims, ks, dilation_rate=1, padding=\"causal\", activation=\"relu\")(seq)\n",
    "    c2 = Conv1D(latentdims, ks, dilation_rate=2, padding=\"causal\", activation=\"relu\")(c1)\n",
    "    c2 = Conv1D(latentdims, ks, dilation_rate=4, padding=\"causal\", activation=\"relu\")(c2)\n",
    "    c3 = concatenate([c1, c2])\n",
    "    \n",
    "    c4 = Conv1D(8, 1, activation=\"relu\")(c3)\n",
    "    \n",
    "    d1 = Dense(512, activation=\"relu\")(Flatten()(c4))\n",
    "    d1 = Dense(256, activation=\"relu\")(d1)\n",
    "    d1 = Dropout(0.05)(d1)\n",
    "\n",
    "    output = Dense(outdim, activation=\"relu\")(d1)\n",
    "    model = Model(inputs=seq, outputs=output)\n",
    "    return model\n",
    "```"
   ]
  },
  {
   "cell_type": "markdown",
   "metadata": {},
   "source": [
    "- score-76.6485, timesteps = 7\\*30, 7\\*3,num_days = 7\\*30,21;数据/1000->merge(500,100),latentdims=32,16 网络结构同下："
   ]
  },
  {
   "cell_type": "markdown",
   "metadata": {},
   "source": [
    "#### 2018-12-18"
   ]
  },
  {
   "cell_type": "markdown",
   "metadata": {},
   "source": [
    "- score-78.8203，timesteps = 7\\*10, 7\\*2,num_days = 7\\*30,21; 数据/1000->merge(500,100),latentdims=32,32 网络结构：\n",
    "- score-79.0997，timesteps = 7\\*15, 7\\*3,num_days = 7\\*30,21; 数据/1000->merge(500,100),latentdims=32,32 网络结构：\n",
    "\n",
    "```python\n",
    "def model_byday(timesteps, feadims, outdim):\n",
    "    seq = Input(shape=(timesteps, feadims))\n",
    "    latentdims = 32\n",
    "    ks = 2\n",
    "    c1 = Conv1D(latentdims, ks, dilation_rate=1, padding=\"causal\", activation=\"relu\")(seq)\n",
    "    c2 = Conv1D(latentdims, ks, dilation_rate=2, padding=\"causal\", activation=\"relu\")(c1)\n",
    "    c2 = Conv1D(latentdims, ks, dilation_rate=4, padding=\"causal\", activation=\"relu\")(c2)\n",
    "    c2 = Conv1D(latentdims, ks, dilation_rate=8, padding=\"causal\", activation=\"relu\")(c2)\n",
    "\n",
    "    c3 = concatenate([c1,c2])\n",
    "\n",
    "    c4 = Conv1D(8, 1, activation=\"relu\")(c3)\n",
    "    \n",
    "    d1 = Dropout(0.1)(c4)\n",
    "    d1 = Dense(512,activation=\"relu\")(Flatten()(d1))\n",
    "    d1 = Dense(256, activation=\"relu\")(d1)\n",
    "    \n",
    "    output = Dense(outdim, activation=\"relu\")(d1)\n",
    "    model = Model(inputs=seq, outputs=output)\n",
    "    return model\n",
    "\n",
    "def model_byweek(timesteps, feadims, outdim):\n",
    "    seq = Input(shape=(timesteps, feadims))\n",
    "    latentdims = 32\n",
    "    ks = 2\n",
    "    c1 = Conv1D(latentdims, ks, dilation_rate=1, padding=\"causal\", activation=\"relu\")(seq)\n",
    "    c2 = Conv1D(latentdims, ks, dilation_rate=2, padding=\"causal\", activation=\"relu\")(c1)\n",
    "    c2 = Conv1D(latentdims, ks, dilation_rate=4, padding=\"causal\", activation=\"relu\")(c2)\n",
    "    c3 = concatenate([c1, c2])\n",
    "\n",
    "    c4 = Conv1D(8, 1, activation=\"relu\")(c3)\n",
    "\n",
    "    d1 = Dropout(0.1)(c4)\n",
    "    d1 = Dense(512, activation=\"relu\")(Flatten()(d1))\n",
    "    d1 = Dense(256, activation=\"relu\")(d1)\n",
    "\n",
    "    output = Dense(outdim, activation=\"relu\")(d1)\n",
    "    model = Model(inputs=seq, outputs=output)\n",
    "    return model\n",
    "```\n",
    "\n",
    "- score-77.6128, timesteps = 7\\*15, 7\\*3,num_days = 7\\*30,21; 数据/1000->merge(500,100),latentdims=32,32 网络结构\n",
    "\n",
    "```python\n",
    "def model_byday(timesteps, feadims, outdim):\n",
    "    seq = Input(shape=(timesteps, feadims))\n",
    "    latentdims = 32\n",
    "    ks = 2\n",
    "    c1 = Conv1D(latentdims, ks, dilation_rate=1, padding=\"causal\", activation=\"relu\")(seq)\n",
    "    c2 = Conv1D(latentdims, ks, dilation_rate=2, padding=\"causal\", activation=\"relu\")(c1)\n",
    "    c2 = Conv1D(latentdims, ks, dilation_rate=4, padding=\"causal\", activation=\"relu\")(c2)\n",
    "    c2 = Conv1D(latentdims, ks, dilation_rate=8, padding=\"causal\", activation=\"relu\")(c2)\n",
    "\n",
    "    c3 = concatenate([c1,c2])\n",
    "\n",
    "    c4 = Conv1D(8*8, 1, activation=\"relu\")(c3)\n",
    "    \n",
    "    d1 = Dropout(0.1)(c4)\n",
    "    d1 = Dense(512//2,activation=\"relu\")(Flatten()(d1))\n",
    "    d1 = Dense(256//2, activation=\"relu\")(d1)\n",
    "    \n",
    "    output = Dense(outdim, activation=\"relu\")(d1)\n",
    "    model = Model(inputs=seq, outputs=output)\n",
    "    return model\n",
    "\n",
    "def model_byweek(timesteps, feadims, outdim):\n",
    "    seq = Input(shape=(timesteps, feadims))\n",
    "    latentdims = 32\n",
    "    ks = 2\n",
    "    c1 = Conv1D(latentdims, ks, dilation_rate=1, padding=\"causal\", activation=\"relu\")(seq)\n",
    "    c2 = Conv1D(latentdims, ks, dilation_rate=2, padding=\"causal\", activation=\"relu\")(c1)\n",
    "\n",
    "    c3 = concatenate([c1, c2])\n",
    "\n",
    "    c4 = Conv1D(8, 1, activation=\"relu\")(c3)\n",
    "\n",
    "    d1 = Dropout(0.1)(c4)\n",
    "    d1 = Dense(512, activation=\"relu\")(Flatten()(d1))\n",
    "    d1 = Dense(256, activation=\"relu\")(d1)\n",
    "\n",
    "    output = Dense(outdim, activation=\"relu\")(d1)\n",
    "    model = Model(inputs=seq, outputs=output)\n",
    "    return model\n",
    "```"
   ]
  },
  {
   "cell_type": "code",
   "execution_count": null,
   "metadata": {},
   "outputs": [],
   "source": []
  }
 ],
 "metadata": {
  "kernelspec": {
   "display_name": "Python [conda env:tensorflow]",
   "language": "python",
   "name": "conda-env-tensorflow-py"
  },
  "language_info": {
   "codemirror_mode": {
    "name": "ipython",
    "version": 3
   },
   "file_extension": ".py",
   "mimetype": "text/x-python",
   "name": "python",
   "nbconvert_exporter": "python",
   "pygments_lexer": "ipython3",
   "version": "3.6.6"
  },
  "toc": {
   "base_numbering": 1,
   "nav_menu": {},
   "number_sections": true,
   "sideBar": true,
   "skip_h1_title": false,
   "title_cell": "Table of Contents",
   "title_sidebar": "Contents",
   "toc_cell": false,
   "toc_position": {
    "height": "764px",
    "left": "309px",
    "top": "223.5px",
    "width": "218px"
   },
   "toc_section_display": true,
   "toc_window_display": true
  },
  "varInspector": {
   "cols": {
    "lenName": 16,
    "lenType": 16,
    "lenVar": 40
   },
   "kernels_config": {
    "python": {
     "delete_cmd_postfix": "",
     "delete_cmd_prefix": "del ",
     "library": "var_list.py",
     "varRefreshCmd": "print(var_dic_list())"
    },
    "r": {
     "delete_cmd_postfix": ") ",
     "delete_cmd_prefix": "rm(",
     "library": "var_list.r",
     "varRefreshCmd": "cat(var_dic_list()) "
    }
   },
   "oldHeight": 789,
   "position": {
    "height": "80px",
    "left": "1090px",
    "right": "20px",
    "top": "117px",
    "width": "334px"
   },
   "types_to_exclude": [
    "module",
    "function",
    "builtin_function_or_method",
    "instance",
    "_Feature"
   ],
   "varInspector_section_display": "none",
   "window_display": false
  }
 },
 "nbformat": 4,
 "nbformat_minor": 2
}
